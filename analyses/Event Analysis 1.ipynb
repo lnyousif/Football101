{
 "cells": [
  {
   "cell_type": "code",
   "execution_count": 184,
   "id": "a4f25d52",
   "metadata": {},
   "outputs": [],
   "source": [
    "import pandas as pd\n",
    "import numpy as np\n",
    "import matplotlib.pyplot as plt\n",
    "import seaborn as sns"
   ]
  },
  {
   "cell_type": "code",
   "execution_count": 2,
   "id": "2ea6a726",
   "metadata": {},
   "outputs": [
    {
     "data": {
      "text/html": [
       "<div>\n",
       "<style scoped>\n",
       "    .dataframe tbody tr th:only-of-type {\n",
       "        vertical-align: middle;\n",
       "    }\n",
       "\n",
       "    .dataframe tbody tr th {\n",
       "        vertical-align: top;\n",
       "    }\n",
       "\n",
       "    .dataframe thead th {\n",
       "        text-align: right;\n",
       "    }\n",
       "</style>\n",
       "<table border=\"1\" class=\"dataframe\">\n",
       "  <thead>\n",
       "    <tr style=\"text-align: right;\">\n",
       "      <th></th>\n",
       "      <th>Team</th>\n",
       "      <th>Type</th>\n",
       "      <th>Subtype</th>\n",
       "      <th>Period</th>\n",
       "      <th>Start Frame</th>\n",
       "      <th>Start Time [s]</th>\n",
       "      <th>End Frame</th>\n",
       "      <th>End Time [s]</th>\n",
       "      <th>From</th>\n",
       "      <th>To</th>\n",
       "      <th>Start X</th>\n",
       "      <th>Start Y</th>\n",
       "      <th>End X</th>\n",
       "      <th>End Y</th>\n",
       "    </tr>\n",
       "  </thead>\n",
       "  <tbody>\n",
       "    <tr>\n",
       "      <th>0</th>\n",
       "      <td>Away</td>\n",
       "      <td>SET PIECE</td>\n",
       "      <td>KICK OFF</td>\n",
       "      <td>1</td>\n",
       "      <td>1</td>\n",
       "      <td>0.04</td>\n",
       "      <td>0</td>\n",
       "      <td>0.00</td>\n",
       "      <td>Player19</td>\n",
       "      <td>NaN</td>\n",
       "      <td>NaN</td>\n",
       "      <td>NaN</td>\n",
       "      <td>NaN</td>\n",
       "      <td>NaN</td>\n",
       "    </tr>\n",
       "    <tr>\n",
       "      <th>1</th>\n",
       "      <td>Away</td>\n",
       "      <td>PASS</td>\n",
       "      <td>NaN</td>\n",
       "      <td>1</td>\n",
       "      <td>1</td>\n",
       "      <td>0.04</td>\n",
       "      <td>3</td>\n",
       "      <td>0.12</td>\n",
       "      <td>Player19</td>\n",
       "      <td>Player21</td>\n",
       "      <td>0.45</td>\n",
       "      <td>0.39</td>\n",
       "      <td>0.55</td>\n",
       "      <td>0.43</td>\n",
       "    </tr>\n",
       "    <tr>\n",
       "      <th>2</th>\n",
       "      <td>Away</td>\n",
       "      <td>PASS</td>\n",
       "      <td>NaN</td>\n",
       "      <td>1</td>\n",
       "      <td>3</td>\n",
       "      <td>0.12</td>\n",
       "      <td>17</td>\n",
       "      <td>0.68</td>\n",
       "      <td>Player21</td>\n",
       "      <td>Player15</td>\n",
       "      <td>0.55</td>\n",
       "      <td>0.43</td>\n",
       "      <td>0.58</td>\n",
       "      <td>0.21</td>\n",
       "    </tr>\n",
       "    <tr>\n",
       "      <th>3</th>\n",
       "      <td>Away</td>\n",
       "      <td>PASS</td>\n",
       "      <td>NaN</td>\n",
       "      <td>1</td>\n",
       "      <td>45</td>\n",
       "      <td>1.80</td>\n",
       "      <td>61</td>\n",
       "      <td>2.44</td>\n",
       "      <td>Player15</td>\n",
       "      <td>Player19</td>\n",
       "      <td>0.55</td>\n",
       "      <td>0.19</td>\n",
       "      <td>0.45</td>\n",
       "      <td>0.31</td>\n",
       "    </tr>\n",
       "    <tr>\n",
       "      <th>4</th>\n",
       "      <td>Away</td>\n",
       "      <td>PASS</td>\n",
       "      <td>NaN</td>\n",
       "      <td>1</td>\n",
       "      <td>77</td>\n",
       "      <td>3.08</td>\n",
       "      <td>96</td>\n",
       "      <td>3.84</td>\n",
       "      <td>Player19</td>\n",
       "      <td>Player21</td>\n",
       "      <td>0.45</td>\n",
       "      <td>0.32</td>\n",
       "      <td>0.49</td>\n",
       "      <td>0.47</td>\n",
       "    </tr>\n",
       "    <tr>\n",
       "      <th>...</th>\n",
       "      <td>...</td>\n",
       "      <td>...</td>\n",
       "      <td>...</td>\n",
       "      <td>...</td>\n",
       "      <td>...</td>\n",
       "      <td>...</td>\n",
       "      <td>...</td>\n",
       "      <td>...</td>\n",
       "      <td>...</td>\n",
       "      <td>...</td>\n",
       "      <td>...</td>\n",
       "      <td>...</td>\n",
       "      <td>...</td>\n",
       "      <td>...</td>\n",
       "    </tr>\n",
       "    <tr>\n",
       "      <th>1740</th>\n",
       "      <td>Home</td>\n",
       "      <td>PASS</td>\n",
       "      <td>NaN</td>\n",
       "      <td>2</td>\n",
       "      <td>143361</td>\n",
       "      <td>5734.44</td>\n",
       "      <td>143483</td>\n",
       "      <td>5739.32</td>\n",
       "      <td>Player12</td>\n",
       "      <td>Player13</td>\n",
       "      <td>0.60</td>\n",
       "      <td>0.33</td>\n",
       "      <td>0.19</td>\n",
       "      <td>0.95</td>\n",
       "    </tr>\n",
       "    <tr>\n",
       "      <th>1741</th>\n",
       "      <td>Home</td>\n",
       "      <td>PASS</td>\n",
       "      <td>NaN</td>\n",
       "      <td>2</td>\n",
       "      <td>143578</td>\n",
       "      <td>5743.12</td>\n",
       "      <td>143593</td>\n",
       "      <td>5743.72</td>\n",
       "      <td>Player13</td>\n",
       "      <td>Player4</td>\n",
       "      <td>0.09</td>\n",
       "      <td>0.88</td>\n",
       "      <td>0.14</td>\n",
       "      <td>0.69</td>\n",
       "    </tr>\n",
       "    <tr>\n",
       "      <th>1742</th>\n",
       "      <td>Home</td>\n",
       "      <td>BALL LOST</td>\n",
       "      <td>INTERCEPTION</td>\n",
       "      <td>2</td>\n",
       "      <td>143598</td>\n",
       "      <td>5743.92</td>\n",
       "      <td>143618</td>\n",
       "      <td>5744.72</td>\n",
       "      <td>Player4</td>\n",
       "      <td>NaN</td>\n",
       "      <td>0.13</td>\n",
       "      <td>0.69</td>\n",
       "      <td>0.07</td>\n",
       "      <td>0.61</td>\n",
       "    </tr>\n",
       "    <tr>\n",
       "      <th>1743</th>\n",
       "      <td>Away</td>\n",
       "      <td>RECOVERY</td>\n",
       "      <td>BLOCKED</td>\n",
       "      <td>2</td>\n",
       "      <td>143617</td>\n",
       "      <td>5744.68</td>\n",
       "      <td>143617</td>\n",
       "      <td>5744.68</td>\n",
       "      <td>Player16</td>\n",
       "      <td>NaN</td>\n",
       "      <td>0.05</td>\n",
       "      <td>0.62</td>\n",
       "      <td>NaN</td>\n",
       "      <td>NaN</td>\n",
       "    </tr>\n",
       "    <tr>\n",
       "      <th>1744</th>\n",
       "      <td>Away</td>\n",
       "      <td>BALL OUT</td>\n",
       "      <td>NaN</td>\n",
       "      <td>2</td>\n",
       "      <td>143622</td>\n",
       "      <td>5744.88</td>\n",
       "      <td>143630</td>\n",
       "      <td>5745.20</td>\n",
       "      <td>Player16</td>\n",
       "      <td>NaN</td>\n",
       "      <td>0.05</td>\n",
       "      <td>0.63</td>\n",
       "      <td>0.03</td>\n",
       "      <td>1.01</td>\n",
       "    </tr>\n",
       "  </tbody>\n",
       "</table>\n",
       "<p>1745 rows × 14 columns</p>\n",
       "</div>"
      ],
      "text/plain": [
       "      Team       Type       Subtype  Period  Start Frame  Start Time [s]  \\\n",
       "0     Away  SET PIECE      KICK OFF       1            1            0.04   \n",
       "1     Away       PASS           NaN       1            1            0.04   \n",
       "2     Away       PASS           NaN       1            3            0.12   \n",
       "3     Away       PASS           NaN       1           45            1.80   \n",
       "4     Away       PASS           NaN       1           77            3.08   \n",
       "...    ...        ...           ...     ...          ...             ...   \n",
       "1740  Home       PASS           NaN       2       143361         5734.44   \n",
       "1741  Home       PASS           NaN       2       143578         5743.12   \n",
       "1742  Home  BALL LOST  INTERCEPTION       2       143598         5743.92   \n",
       "1743  Away   RECOVERY       BLOCKED       2       143617         5744.68   \n",
       "1744  Away   BALL OUT           NaN       2       143622         5744.88   \n",
       "\n",
       "      End Frame  End Time [s]      From        To  Start X  Start Y  End X  \\\n",
       "0             0          0.00  Player19       NaN      NaN      NaN    NaN   \n",
       "1             3          0.12  Player19  Player21     0.45     0.39   0.55   \n",
       "2            17          0.68  Player21  Player15     0.55     0.43   0.58   \n",
       "3            61          2.44  Player15  Player19     0.55     0.19   0.45   \n",
       "4            96          3.84  Player19  Player21     0.45     0.32   0.49   \n",
       "...         ...           ...       ...       ...      ...      ...    ...   \n",
       "1740     143483       5739.32  Player12  Player13     0.60     0.33   0.19   \n",
       "1741     143593       5743.72  Player13   Player4     0.09     0.88   0.14   \n",
       "1742     143618       5744.72   Player4       NaN     0.13     0.69   0.07   \n",
       "1743     143617       5744.68  Player16       NaN     0.05     0.62    NaN   \n",
       "1744     143630       5745.20  Player16       NaN     0.05     0.63   0.03   \n",
       "\n",
       "      End Y  \n",
       "0       NaN  \n",
       "1      0.43  \n",
       "2      0.21  \n",
       "3      0.31  \n",
       "4      0.47  \n",
       "...     ...  \n",
       "1740   0.95  \n",
       "1741   0.69  \n",
       "1742   0.61  \n",
       "1743    NaN  \n",
       "1744   1.01  \n",
       "\n",
       "[1745 rows x 14 columns]"
      ]
     },
     "execution_count": 2,
     "metadata": {},
     "output_type": "execute_result"
    }
   ],
   "source": [
    "sample_game_1_events = pd.read_csv('data/Sample_Game_1/Sample_Game_1_RawEventsData.csv')\n",
    "sample_game_1_events"
   ]
  },
  {
   "cell_type": "code",
   "execution_count": 228,
   "id": "8c351d99",
   "metadata": {},
   "outputs": [
    {
     "data": {
      "text/html": [
       "<div>\n",
       "<style scoped>\n",
       "    .dataframe tbody tr th:only-of-type {\n",
       "        vertical-align: middle;\n",
       "    }\n",
       "\n",
       "    .dataframe tbody tr th {\n",
       "        vertical-align: top;\n",
       "    }\n",
       "\n",
       "    .dataframe thead th {\n",
       "        text-align: right;\n",
       "    }\n",
       "</style>\n",
       "<table border=\"1\" class=\"dataframe\">\n",
       "  <thead>\n",
       "    <tr style=\"text-align: right;\">\n",
       "      <th></th>\n",
       "      <th>Period</th>\n",
       "      <th>Frame</th>\n",
       "      <th>Time [s]</th>\n",
       "      <th>Home_Player11_X</th>\n",
       "      <th>Home_Player11_Y</th>\n",
       "      <th>Home_Player1_X</th>\n",
       "      <th>Home_Player1_Y</th>\n",
       "      <th>Home_Player2_X</th>\n",
       "      <th>Home_Player2_Y</th>\n",
       "      <th>Home_Player3_X</th>\n",
       "      <th>...</th>\n",
       "      <th>Home_Player10_X</th>\n",
       "      <th>Home_Player10_Y</th>\n",
       "      <th>Home_Player12_X</th>\n",
       "      <th>Home_Player12_Y</th>\n",
       "      <th>Home_Player13_X</th>\n",
       "      <th>Home_Player13_Y</th>\n",
       "      <th>Home_Player14_X</th>\n",
       "      <th>Home_Player14_Y</th>\n",
       "      <th>Ball_X</th>\n",
       "      <th>Ball_Y</th>\n",
       "    </tr>\n",
       "  </thead>\n",
       "  <tbody>\n",
       "    <tr>\n",
       "      <th>0</th>\n",
       "      <td>1</td>\n",
       "      <td>1</td>\n",
       "      <td>0.04</td>\n",
       "      <td>0.00082</td>\n",
       "      <td>0.48238</td>\n",
       "      <td>0.32648</td>\n",
       "      <td>0.65322</td>\n",
       "      <td>0.33701</td>\n",
       "      <td>0.48863</td>\n",
       "      <td>0.30927</td>\n",
       "      <td>...</td>\n",
       "      <td>0.55243</td>\n",
       "      <td>0.43269</td>\n",
       "      <td>NaN</td>\n",
       "      <td>NaN</td>\n",
       "      <td>NaN</td>\n",
       "      <td>NaN</td>\n",
       "      <td>NaN</td>\n",
       "      <td>NaN</td>\n",
       "      <td>0.45472</td>\n",
       "      <td>0.38709</td>\n",
       "    </tr>\n",
       "    <tr>\n",
       "      <th>1</th>\n",
       "      <td>1</td>\n",
       "      <td>2</td>\n",
       "      <td>0.08</td>\n",
       "      <td>0.00096</td>\n",
       "      <td>0.48238</td>\n",
       "      <td>0.32648</td>\n",
       "      <td>0.65322</td>\n",
       "      <td>0.33701</td>\n",
       "      <td>0.48863</td>\n",
       "      <td>0.30927</td>\n",
       "      <td>...</td>\n",
       "      <td>0.55243</td>\n",
       "      <td>0.43269</td>\n",
       "      <td>NaN</td>\n",
       "      <td>NaN</td>\n",
       "      <td>NaN</td>\n",
       "      <td>NaN</td>\n",
       "      <td>NaN</td>\n",
       "      <td>NaN</td>\n",
       "      <td>0.49645</td>\n",
       "      <td>0.40656</td>\n",
       "    </tr>\n",
       "    <tr>\n",
       "      <th>2</th>\n",
       "      <td>1</td>\n",
       "      <td>3</td>\n",
       "      <td>0.12</td>\n",
       "      <td>0.00114</td>\n",
       "      <td>0.48238</td>\n",
       "      <td>0.32648</td>\n",
       "      <td>0.65322</td>\n",
       "      <td>0.33701</td>\n",
       "      <td>0.48863</td>\n",
       "      <td>0.30927</td>\n",
       "      <td>...</td>\n",
       "      <td>0.55243</td>\n",
       "      <td>0.43269</td>\n",
       "      <td>NaN</td>\n",
       "      <td>NaN</td>\n",
       "      <td>NaN</td>\n",
       "      <td>NaN</td>\n",
       "      <td>NaN</td>\n",
       "      <td>NaN</td>\n",
       "      <td>0.53716</td>\n",
       "      <td>0.42556</td>\n",
       "    </tr>\n",
       "    <tr>\n",
       "      <th>3</th>\n",
       "      <td>1</td>\n",
       "      <td>4</td>\n",
       "      <td>0.16</td>\n",
       "      <td>0.00121</td>\n",
       "      <td>0.48238</td>\n",
       "      <td>0.32622</td>\n",
       "      <td>0.65317</td>\n",
       "      <td>0.33687</td>\n",
       "      <td>0.48988</td>\n",
       "      <td>0.30944</td>\n",
       "      <td>...</td>\n",
       "      <td>0.55236</td>\n",
       "      <td>0.43313</td>\n",
       "      <td>NaN</td>\n",
       "      <td>NaN</td>\n",
       "      <td>NaN</td>\n",
       "      <td>NaN</td>\n",
       "      <td>NaN</td>\n",
       "      <td>NaN</td>\n",
       "      <td>0.55346</td>\n",
       "      <td>0.42231</td>\n",
       "    </tr>\n",
       "    <tr>\n",
       "      <th>4</th>\n",
       "      <td>1</td>\n",
       "      <td>5</td>\n",
       "      <td>0.20</td>\n",
       "      <td>0.00129</td>\n",
       "      <td>0.48238</td>\n",
       "      <td>0.32597</td>\n",
       "      <td>0.65269</td>\n",
       "      <td>0.33664</td>\n",
       "      <td>0.49018</td>\n",
       "      <td>0.30948</td>\n",
       "      <td>...</td>\n",
       "      <td>0.55202</td>\n",
       "      <td>0.43311</td>\n",
       "      <td>NaN</td>\n",
       "      <td>NaN</td>\n",
       "      <td>NaN</td>\n",
       "      <td>NaN</td>\n",
       "      <td>NaN</td>\n",
       "      <td>NaN</td>\n",
       "      <td>0.55512</td>\n",
       "      <td>0.40570</td>\n",
       "    </tr>\n",
       "    <tr>\n",
       "      <th>...</th>\n",
       "      <td>...</td>\n",
       "      <td>...</td>\n",
       "      <td>...</td>\n",
       "      <td>...</td>\n",
       "      <td>...</td>\n",
       "      <td>...</td>\n",
       "      <td>...</td>\n",
       "      <td>...</td>\n",
       "      <td>...</td>\n",
       "      <td>...</td>\n",
       "      <td>...</td>\n",
       "      <td>...</td>\n",
       "      <td>...</td>\n",
       "      <td>...</td>\n",
       "      <td>...</td>\n",
       "      <td>...</td>\n",
       "      <td>...</td>\n",
       "      <td>...</td>\n",
       "      <td>...</td>\n",
       "      <td>...</td>\n",
       "      <td>...</td>\n",
       "    </tr>\n",
       "    <tr>\n",
       "      <th>145001</th>\n",
       "      <td>2</td>\n",
       "      <td>145002</td>\n",
       "      <td>5800.08</td>\n",
       "      <td>0.90614</td>\n",
       "      <td>0.45355</td>\n",
       "      <td>NaN</td>\n",
       "      <td>NaN</td>\n",
       "      <td>0.34157</td>\n",
       "      <td>0.64598</td>\n",
       "      <td>0.31228</td>\n",
       "      <td>...</td>\n",
       "      <td>NaN</td>\n",
       "      <td>NaN</td>\n",
       "      <td>0.30044</td>\n",
       "      <td>0.68311</td>\n",
       "      <td>0.33644</td>\n",
       "      <td>0.65390</td>\n",
       "      <td>0.34157</td>\n",
       "      <td>0.64598</td>\n",
       "      <td>NaN</td>\n",
       "      <td>NaN</td>\n",
       "    </tr>\n",
       "    <tr>\n",
       "      <th>145002</th>\n",
       "      <td>2</td>\n",
       "      <td>145003</td>\n",
       "      <td>5800.12</td>\n",
       "      <td>0.90550</td>\n",
       "      <td>0.45355</td>\n",
       "      <td>NaN</td>\n",
       "      <td>NaN</td>\n",
       "      <td>0.34127</td>\n",
       "      <td>0.64583</td>\n",
       "      <td>0.31230</td>\n",
       "      <td>...</td>\n",
       "      <td>NaN</td>\n",
       "      <td>NaN</td>\n",
       "      <td>0.30044</td>\n",
       "      <td>0.68311</td>\n",
       "      <td>0.33656</td>\n",
       "      <td>0.65398</td>\n",
       "      <td>0.34127</td>\n",
       "      <td>0.64583</td>\n",
       "      <td>NaN</td>\n",
       "      <td>NaN</td>\n",
       "    </tr>\n",
       "    <tr>\n",
       "      <th>145003</th>\n",
       "      <td>2</td>\n",
       "      <td>145004</td>\n",
       "      <td>5800.16</td>\n",
       "      <td>0.90492</td>\n",
       "      <td>0.45355</td>\n",
       "      <td>NaN</td>\n",
       "      <td>NaN</td>\n",
       "      <td>0.34089</td>\n",
       "      <td>0.64569</td>\n",
       "      <td>0.31214</td>\n",
       "      <td>...</td>\n",
       "      <td>NaN</td>\n",
       "      <td>NaN</td>\n",
       "      <td>0.30044</td>\n",
       "      <td>0.68311</td>\n",
       "      <td>0.33637</td>\n",
       "      <td>0.65366</td>\n",
       "      <td>0.34089</td>\n",
       "      <td>0.64569</td>\n",
       "      <td>NaN</td>\n",
       "      <td>NaN</td>\n",
       "    </tr>\n",
       "    <tr>\n",
       "      <th>145004</th>\n",
       "      <td>2</td>\n",
       "      <td>145005</td>\n",
       "      <td>5800.20</td>\n",
       "      <td>0.90456</td>\n",
       "      <td>0.45356</td>\n",
       "      <td>NaN</td>\n",
       "      <td>NaN</td>\n",
       "      <td>0.34056</td>\n",
       "      <td>0.64552</td>\n",
       "      <td>0.31171</td>\n",
       "      <td>...</td>\n",
       "      <td>NaN</td>\n",
       "      <td>NaN</td>\n",
       "      <td>0.30044</td>\n",
       "      <td>0.68311</td>\n",
       "      <td>0.33615</td>\n",
       "      <td>0.65317</td>\n",
       "      <td>0.34056</td>\n",
       "      <td>0.64552</td>\n",
       "      <td>NaN</td>\n",
       "      <td>NaN</td>\n",
       "    </tr>\n",
       "    <tr>\n",
       "      <th>145005</th>\n",
       "      <td>2</td>\n",
       "      <td>145006</td>\n",
       "      <td>5800.24</td>\n",
       "      <td>0.90456</td>\n",
       "      <td>0.45356</td>\n",
       "      <td>NaN</td>\n",
       "      <td>NaN</td>\n",
       "      <td>0.33996</td>\n",
       "      <td>0.64544</td>\n",
       "      <td>0.31122</td>\n",
       "      <td>...</td>\n",
       "      <td>NaN</td>\n",
       "      <td>NaN</td>\n",
       "      <td>0.30044</td>\n",
       "      <td>0.68311</td>\n",
       "      <td>0.33563</td>\n",
       "      <td>0.65166</td>\n",
       "      <td>0.33996</td>\n",
       "      <td>0.64544</td>\n",
       "      <td>NaN</td>\n",
       "      <td>NaN</td>\n",
       "    </tr>\n",
       "  </tbody>\n",
       "</table>\n",
       "<p>145006 rows × 33 columns</p>\n",
       "</div>"
      ],
      "text/plain": [
       "        Period   Frame  Time [s]  Home_Player11_X  Home_Player11_Y  \\\n",
       "0            1       1      0.04          0.00082          0.48238   \n",
       "1            1       2      0.08          0.00096          0.48238   \n",
       "2            1       3      0.12          0.00114          0.48238   \n",
       "3            1       4      0.16          0.00121          0.48238   \n",
       "4            1       5      0.20          0.00129          0.48238   \n",
       "...        ...     ...       ...              ...              ...   \n",
       "145001       2  145002   5800.08          0.90614          0.45355   \n",
       "145002       2  145003   5800.12          0.90550          0.45355   \n",
       "145003       2  145004   5800.16          0.90492          0.45355   \n",
       "145004       2  145005   5800.20          0.90456          0.45356   \n",
       "145005       2  145006   5800.24          0.90456          0.45356   \n",
       "\n",
       "        Home_Player1_X  Home_Player1_Y  Home_Player2_X  Home_Player2_Y  \\\n",
       "0              0.32648         0.65322         0.33701         0.48863   \n",
       "1              0.32648         0.65322         0.33701         0.48863   \n",
       "2              0.32648         0.65322         0.33701         0.48863   \n",
       "3              0.32622         0.65317         0.33687         0.48988   \n",
       "4              0.32597         0.65269         0.33664         0.49018   \n",
       "...                ...             ...             ...             ...   \n",
       "145001             NaN             NaN         0.34157         0.64598   \n",
       "145002             NaN             NaN         0.34127         0.64583   \n",
       "145003             NaN             NaN         0.34089         0.64569   \n",
       "145004             NaN             NaN         0.34056         0.64552   \n",
       "145005             NaN             NaN         0.33996         0.64544   \n",
       "\n",
       "        Home_Player3_X  ...  Home_Player10_X  Home_Player10_Y  \\\n",
       "0              0.30927  ...          0.55243          0.43269   \n",
       "1              0.30927  ...          0.55243          0.43269   \n",
       "2              0.30927  ...          0.55243          0.43269   \n",
       "3              0.30944  ...          0.55236          0.43313   \n",
       "4              0.30948  ...          0.55202          0.43311   \n",
       "...                ...  ...              ...              ...   \n",
       "145001         0.31228  ...              NaN              NaN   \n",
       "145002         0.31230  ...              NaN              NaN   \n",
       "145003         0.31214  ...              NaN              NaN   \n",
       "145004         0.31171  ...              NaN              NaN   \n",
       "145005         0.31122  ...              NaN              NaN   \n",
       "\n",
       "        Home_Player12_X  Home_Player12_Y  Home_Player13_X  Home_Player13_Y  \\\n",
       "0                   NaN              NaN              NaN              NaN   \n",
       "1                   NaN              NaN              NaN              NaN   \n",
       "2                   NaN              NaN              NaN              NaN   \n",
       "3                   NaN              NaN              NaN              NaN   \n",
       "4                   NaN              NaN              NaN              NaN   \n",
       "...                 ...              ...              ...              ...   \n",
       "145001          0.30044          0.68311          0.33644          0.65390   \n",
       "145002          0.30044          0.68311          0.33656          0.65398   \n",
       "145003          0.30044          0.68311          0.33637          0.65366   \n",
       "145004          0.30044          0.68311          0.33615          0.65317   \n",
       "145005          0.30044          0.68311          0.33563          0.65166   \n",
       "\n",
       "        Home_Player14_X  Home_Player14_Y   Ball_X   Ball_Y  \n",
       "0                   NaN              NaN  0.45472  0.38709  \n",
       "1                   NaN              NaN  0.49645  0.40656  \n",
       "2                   NaN              NaN  0.53716  0.42556  \n",
       "3                   NaN              NaN  0.55346  0.42231  \n",
       "4                   NaN              NaN  0.55512  0.40570  \n",
       "...                 ...              ...      ...      ...  \n",
       "145001          0.34157          0.64598      NaN      NaN  \n",
       "145002          0.34127          0.64583      NaN      NaN  \n",
       "145003          0.34089          0.64569      NaN      NaN  \n",
       "145004          0.34056          0.64552      NaN      NaN  \n",
       "145005          0.33996          0.64544      NaN      NaN  \n",
       "\n",
       "[145006 rows x 33 columns]"
      ]
     },
     "execution_count": 228,
     "metadata": {},
     "output_type": "execute_result"
    }
   ],
   "source": [
    "sample_game_1_home = pd.read_csv('data/Sample_Game_1_edited/Sample_Game_1_RawTrackingData_Home_Team_edited.csv')\n",
    "sample_game_1_home"
   ]
  },
  {
   "cell_type": "code",
   "execution_count": 292,
   "id": "34171e2c",
   "metadata": {},
   "outputs": [
    {
     "data": {
      "text/html": [
       "<div>\n",
       "<style scoped>\n",
       "    .dataframe tbody tr th:only-of-type {\n",
       "        vertical-align: middle;\n",
       "    }\n",
       "\n",
       "    .dataframe tbody tr th {\n",
       "        vertical-align: top;\n",
       "    }\n",
       "\n",
       "    .dataframe thead th {\n",
       "        text-align: right;\n",
       "    }\n",
       "</style>\n",
       "<table border=\"1\" class=\"dataframe\">\n",
       "  <thead>\n",
       "    <tr style=\"text-align: right;\">\n",
       "      <th></th>\n",
       "      <th>Period</th>\n",
       "      <th>Frame</th>\n",
       "      <th>Time [s]</th>\n",
       "      <th>Away_Player25_X</th>\n",
       "      <th>Away_Player25_Y</th>\n",
       "      <th>Away_Player15_X</th>\n",
       "      <th>Away_Player15_Y</th>\n",
       "      <th>Away_Player16_X</th>\n",
       "      <th>Away_Player16_Y</th>\n",
       "      <th>Away_Player17_X</th>\n",
       "      <th>...</th>\n",
       "      <th>Away_Player24_X</th>\n",
       "      <th>Away_Player24_Y</th>\n",
       "      <th>Away_Player26_X</th>\n",
       "      <th>Away_Player26_Y</th>\n",
       "      <th>Away_Player27_X</th>\n",
       "      <th>Away_Player27_Y</th>\n",
       "      <th>Away_Player28_X</th>\n",
       "      <th>Away_Player28_Y</th>\n",
       "      <th>Ball_X</th>\n",
       "      <th>Ball_Y</th>\n",
       "    </tr>\n",
       "  </thead>\n",
       "  <tbody>\n",
       "    <tr>\n",
       "      <th>0</th>\n",
       "      <td>1</td>\n",
       "      <td>1</td>\n",
       "      <td>0.04</td>\n",
       "      <td>0.90509</td>\n",
       "      <td>0.47462</td>\n",
       "      <td>0.58393</td>\n",
       "      <td>0.20794</td>\n",
       "      <td>0.67658</td>\n",
       "      <td>0.46710</td>\n",
       "      <td>0.67310</td>\n",
       "      <td>...</td>\n",
       "      <td>0.37833</td>\n",
       "      <td>0.27383</td>\n",
       "      <td>NaN</td>\n",
       "      <td>NaN</td>\n",
       "      <td>NaN</td>\n",
       "      <td>NaN</td>\n",
       "      <td>NaN</td>\n",
       "      <td>NaN</td>\n",
       "      <td>0.45472</td>\n",
       "      <td>0.38709</td>\n",
       "    </tr>\n",
       "    <tr>\n",
       "      <th>1</th>\n",
       "      <td>1</td>\n",
       "      <td>2</td>\n",
       "      <td>0.08</td>\n",
       "      <td>0.90494</td>\n",
       "      <td>0.47462</td>\n",
       "      <td>0.58393</td>\n",
       "      <td>0.20794</td>\n",
       "      <td>0.67658</td>\n",
       "      <td>0.46710</td>\n",
       "      <td>0.67310</td>\n",
       "      <td>...</td>\n",
       "      <td>0.37833</td>\n",
       "      <td>0.27383</td>\n",
       "      <td>NaN</td>\n",
       "      <td>NaN</td>\n",
       "      <td>NaN</td>\n",
       "      <td>NaN</td>\n",
       "      <td>NaN</td>\n",
       "      <td>NaN</td>\n",
       "      <td>0.49645</td>\n",
       "      <td>0.40656</td>\n",
       "    </tr>\n",
       "    <tr>\n",
       "      <th>2</th>\n",
       "      <td>1</td>\n",
       "      <td>3</td>\n",
       "      <td>0.12</td>\n",
       "      <td>0.90434</td>\n",
       "      <td>0.47463</td>\n",
       "      <td>0.58393</td>\n",
       "      <td>0.20794</td>\n",
       "      <td>0.67658</td>\n",
       "      <td>0.46710</td>\n",
       "      <td>0.67310</td>\n",
       "      <td>...</td>\n",
       "      <td>0.37833</td>\n",
       "      <td>0.27383</td>\n",
       "      <td>NaN</td>\n",
       "      <td>NaN</td>\n",
       "      <td>NaN</td>\n",
       "      <td>NaN</td>\n",
       "      <td>NaN</td>\n",
       "      <td>NaN</td>\n",
       "      <td>0.53716</td>\n",
       "      <td>0.42556</td>\n",
       "    </tr>\n",
       "    <tr>\n",
       "      <th>3</th>\n",
       "      <td>1</td>\n",
       "      <td>4</td>\n",
       "      <td>0.16</td>\n",
       "      <td>0.90377</td>\n",
       "      <td>0.47463</td>\n",
       "      <td>0.58351</td>\n",
       "      <td>0.20868</td>\n",
       "      <td>0.67640</td>\n",
       "      <td>0.46762</td>\n",
       "      <td>0.67279</td>\n",
       "      <td>...</td>\n",
       "      <td>0.37756</td>\n",
       "      <td>0.27473</td>\n",
       "      <td>NaN</td>\n",
       "      <td>NaN</td>\n",
       "      <td>NaN</td>\n",
       "      <td>NaN</td>\n",
       "      <td>NaN</td>\n",
       "      <td>NaN</td>\n",
       "      <td>0.55346</td>\n",
       "      <td>0.42231</td>\n",
       "    </tr>\n",
       "    <tr>\n",
       "      <th>4</th>\n",
       "      <td>1</td>\n",
       "      <td>5</td>\n",
       "      <td>0.20</td>\n",
       "      <td>0.90324</td>\n",
       "      <td>0.47464</td>\n",
       "      <td>0.58291</td>\n",
       "      <td>0.21039</td>\n",
       "      <td>0.67599</td>\n",
       "      <td>0.46769</td>\n",
       "      <td>0.67253</td>\n",
       "      <td>...</td>\n",
       "      <td>0.37663</td>\n",
       "      <td>0.27543</td>\n",
       "      <td>NaN</td>\n",
       "      <td>NaN</td>\n",
       "      <td>NaN</td>\n",
       "      <td>NaN</td>\n",
       "      <td>NaN</td>\n",
       "      <td>NaN</td>\n",
       "      <td>0.55512</td>\n",
       "      <td>0.40570</td>\n",
       "    </tr>\n",
       "    <tr>\n",
       "      <th>...</th>\n",
       "      <td>...</td>\n",
       "      <td>...</td>\n",
       "      <td>...</td>\n",
       "      <td>...</td>\n",
       "      <td>...</td>\n",
       "      <td>...</td>\n",
       "      <td>...</td>\n",
       "      <td>...</td>\n",
       "      <td>...</td>\n",
       "      <td>...</td>\n",
       "      <td>...</td>\n",
       "      <td>...</td>\n",
       "      <td>...</td>\n",
       "      <td>...</td>\n",
       "      <td>...</td>\n",
       "      <td>...</td>\n",
       "      <td>...</td>\n",
       "      <td>...</td>\n",
       "      <td>...</td>\n",
       "      <td>...</td>\n",
       "      <td>...</td>\n",
       "    </tr>\n",
       "    <tr>\n",
       "      <th>145001</th>\n",
       "      <td>2</td>\n",
       "      <td>145002</td>\n",
       "      <td>5800.08</td>\n",
       "      <td>0.12564</td>\n",
       "      <td>0.55386</td>\n",
       "      <td>0.17876</td>\n",
       "      <td>0.56826</td>\n",
       "      <td>0.25818</td>\n",
       "      <td>0.59952</td>\n",
       "      <td>0.09880</td>\n",
       "      <td>...</td>\n",
       "      <td>NaN</td>\n",
       "      <td>NaN</td>\n",
       "      <td>0.35600</td>\n",
       "      <td>0.55371</td>\n",
       "      <td>0.19836</td>\n",
       "      <td>0.45137</td>\n",
       "      <td>0.21798</td>\n",
       "      <td>0.81079</td>\n",
       "      <td>NaN</td>\n",
       "      <td>NaN</td>\n",
       "    </tr>\n",
       "    <tr>\n",
       "      <th>145002</th>\n",
       "      <td>2</td>\n",
       "      <td>145003</td>\n",
       "      <td>5800.12</td>\n",
       "      <td>0.12564</td>\n",
       "      <td>0.55386</td>\n",
       "      <td>0.17838</td>\n",
       "      <td>0.56727</td>\n",
       "      <td>0.25799</td>\n",
       "      <td>0.59999</td>\n",
       "      <td>0.09880</td>\n",
       "      <td>...</td>\n",
       "      <td>NaN</td>\n",
       "      <td>NaN</td>\n",
       "      <td>0.35583</td>\n",
       "      <td>0.55283</td>\n",
       "      <td>0.19831</td>\n",
       "      <td>0.45182</td>\n",
       "      <td>0.21798</td>\n",
       "      <td>0.81079</td>\n",
       "      <td>NaN</td>\n",
       "      <td>NaN</td>\n",
       "    </tr>\n",
       "    <tr>\n",
       "      <th>145003</th>\n",
       "      <td>2</td>\n",
       "      <td>145004</td>\n",
       "      <td>5800.16</td>\n",
       "      <td>0.12564</td>\n",
       "      <td>0.55386</td>\n",
       "      <td>0.17792</td>\n",
       "      <td>0.56682</td>\n",
       "      <td>0.25757</td>\n",
       "      <td>0.60019</td>\n",
       "      <td>0.09880</td>\n",
       "      <td>...</td>\n",
       "      <td>NaN</td>\n",
       "      <td>NaN</td>\n",
       "      <td>0.35561</td>\n",
       "      <td>0.55254</td>\n",
       "      <td>0.19805</td>\n",
       "      <td>0.45200</td>\n",
       "      <td>0.21798</td>\n",
       "      <td>0.81079</td>\n",
       "      <td>NaN</td>\n",
       "      <td>NaN</td>\n",
       "    </tr>\n",
       "    <tr>\n",
       "      <th>145004</th>\n",
       "      <td>2</td>\n",
       "      <td>145005</td>\n",
       "      <td>5800.20</td>\n",
       "      <td>0.12564</td>\n",
       "      <td>0.55386</td>\n",
       "      <td>0.17730</td>\n",
       "      <td>0.56621</td>\n",
       "      <td>0.25721</td>\n",
       "      <td>0.60089</td>\n",
       "      <td>0.09880</td>\n",
       "      <td>...</td>\n",
       "      <td>NaN</td>\n",
       "      <td>NaN</td>\n",
       "      <td>0.35532</td>\n",
       "      <td>0.55243</td>\n",
       "      <td>0.19766</td>\n",
       "      <td>0.45237</td>\n",
       "      <td>0.21798</td>\n",
       "      <td>0.81079</td>\n",
       "      <td>NaN</td>\n",
       "      <td>NaN</td>\n",
       "    </tr>\n",
       "    <tr>\n",
       "      <th>145005</th>\n",
       "      <td>2</td>\n",
       "      <td>145006</td>\n",
       "      <td>5800.24</td>\n",
       "      <td>0.12564</td>\n",
       "      <td>0.55386</td>\n",
       "      <td>0.17693</td>\n",
       "      <td>0.56675</td>\n",
       "      <td>0.25659</td>\n",
       "      <td>0.60072</td>\n",
       "      <td>0.09880</td>\n",
       "      <td>...</td>\n",
       "      <td>NaN</td>\n",
       "      <td>NaN</td>\n",
       "      <td>0.35495</td>\n",
       "      <td>0.55364</td>\n",
       "      <td>0.19754</td>\n",
       "      <td>0.45364</td>\n",
       "      <td>0.21798</td>\n",
       "      <td>0.81079</td>\n",
       "      <td>NaN</td>\n",
       "      <td>NaN</td>\n",
       "    </tr>\n",
       "  </tbody>\n",
       "</table>\n",
       "<p>145006 rows × 33 columns</p>\n",
       "</div>"
      ],
      "text/plain": [
       "        Period   Frame  Time [s]  Away_Player25_X  Away_Player25_Y  \\\n",
       "0            1       1      0.04          0.90509          0.47462   \n",
       "1            1       2      0.08          0.90494          0.47462   \n",
       "2            1       3      0.12          0.90434          0.47463   \n",
       "3            1       4      0.16          0.90377          0.47463   \n",
       "4            1       5      0.20          0.90324          0.47464   \n",
       "...        ...     ...       ...              ...              ...   \n",
       "145001       2  145002   5800.08          0.12564          0.55386   \n",
       "145002       2  145003   5800.12          0.12564          0.55386   \n",
       "145003       2  145004   5800.16          0.12564          0.55386   \n",
       "145004       2  145005   5800.20          0.12564          0.55386   \n",
       "145005       2  145006   5800.24          0.12564          0.55386   \n",
       "\n",
       "        Away_Player15_X  Away_Player15_Y  Away_Player16_X  Away_Player16_Y  \\\n",
       "0               0.58393          0.20794          0.67658          0.46710   \n",
       "1               0.58393          0.20794          0.67658          0.46710   \n",
       "2               0.58393          0.20794          0.67658          0.46710   \n",
       "3               0.58351          0.20868          0.67640          0.46762   \n",
       "4               0.58291          0.21039          0.67599          0.46769   \n",
       "...                 ...              ...              ...              ...   \n",
       "145001          0.17876          0.56826          0.25818          0.59952   \n",
       "145002          0.17838          0.56727          0.25799          0.59999   \n",
       "145003          0.17792          0.56682          0.25757          0.60019   \n",
       "145004          0.17730          0.56621          0.25721          0.60089   \n",
       "145005          0.17693          0.56675          0.25659          0.60072   \n",
       "\n",
       "        Away_Player17_X  ...  Away_Player24_X  Away_Player24_Y  \\\n",
       "0               0.67310  ...          0.37833          0.27383   \n",
       "1               0.67310  ...          0.37833          0.27383   \n",
       "2               0.67310  ...          0.37833          0.27383   \n",
       "3               0.67279  ...          0.37756          0.27473   \n",
       "4               0.67253  ...          0.37663          0.27543   \n",
       "...                 ...  ...              ...              ...   \n",
       "145001          0.09880  ...              NaN              NaN   \n",
       "145002          0.09880  ...              NaN              NaN   \n",
       "145003          0.09880  ...              NaN              NaN   \n",
       "145004          0.09880  ...              NaN              NaN   \n",
       "145005          0.09880  ...              NaN              NaN   \n",
       "\n",
       "        Away_Player26_X  Away_Player26_Y  Away_Player27_X  Away_Player27_Y  \\\n",
       "0                   NaN              NaN              NaN              NaN   \n",
       "1                   NaN              NaN              NaN              NaN   \n",
       "2                   NaN              NaN              NaN              NaN   \n",
       "3                   NaN              NaN              NaN              NaN   \n",
       "4                   NaN              NaN              NaN              NaN   \n",
       "...                 ...              ...              ...              ...   \n",
       "145001          0.35600          0.55371          0.19836          0.45137   \n",
       "145002          0.35583          0.55283          0.19831          0.45182   \n",
       "145003          0.35561          0.55254          0.19805          0.45200   \n",
       "145004          0.35532          0.55243          0.19766          0.45237   \n",
       "145005          0.35495          0.55364          0.19754          0.45364   \n",
       "\n",
       "        Away_Player28_X  Away_Player28_Y   Ball_X   Ball_Y  \n",
       "0                   NaN              NaN  0.45472  0.38709  \n",
       "1                   NaN              NaN  0.49645  0.40656  \n",
       "2                   NaN              NaN  0.53716  0.42556  \n",
       "3                   NaN              NaN  0.55346  0.42231  \n",
       "4                   NaN              NaN  0.55512  0.40570  \n",
       "...                 ...              ...      ...      ...  \n",
       "145001          0.21798          0.81079      NaN      NaN  \n",
       "145002          0.21798          0.81079      NaN      NaN  \n",
       "145003          0.21798          0.81079      NaN      NaN  \n",
       "145004          0.21798          0.81079      NaN      NaN  \n",
       "145005          0.21798          0.81079      NaN      NaN  \n",
       "\n",
       "[145006 rows x 33 columns]"
      ]
     },
     "execution_count": 292,
     "metadata": {},
     "output_type": "execute_result"
    }
   ],
   "source": [
    "sample_game_1_away = pd.read_csv('data/Sample_Game_1_edited/Sample_Game_1_RawTrackingData_Away_Team_edited.csv')\n",
    "sample_game_1_away"
   ]
  },
  {
   "cell_type": "markdown",
   "id": "aad45960",
   "metadata": {},
   "source": [
    "Created 3 columns to calculate distance run. Utilized Start X and Start Y for starting coordinates, and Start Y and End Y to calculate final coordinates for that particular frame. Used pythagoreum theorem to calculate \"hypotenuse\" distance traveled, creating new column called \"Distance Z\".\n",
    "\n",
    "Compared Home and Away teams distance run by period (e.g., first half / second half). Both teams ran similar distances in the first half, but the Home team ran much more in the second half. Possible explanations could be:\n",
    "1) Away team became fatigued during the second half\n",
    "2) Away team was leading and wanted to protect its lead by playing more defensively (thus not running as far upfield), whereas Home team would need to attack more often to catch up (thus running more)"
   ]
  },
  {
   "cell_type": "code",
   "execution_count": 111,
   "id": "4e4530c9",
   "metadata": {
    "scrolled": true
   },
   "outputs": [
    {
     "name": "stdout",
     "output_type": "stream",
     "text": [
      "Total distance run: 121.79\n",
      "Total home team distance run: 64.30000000000001\n",
      "Total away team distance run: 57.489999999999995\n"
     ]
    }
   ],
   "source": [
    "sample_game_1_events[\"Distance X\"] = abs(sample_game_1_events[\"Start X\"] - sample_game_1_events[\"End X\"])\n",
    "print(f\"Total distance run:\",sample_game_1_events[\"Distance X\"].sum())\n",
    "print(f\"Total home team distance run:\",sample_game_1_events[\"Distance X\"].loc[sample_game_1_events[\"Team\"] == \"Home\"].sum())\n",
    "print(f\"Total away team distance run:\",sample_game_1_events[\"Distance X\"].loc[sample_game_1_events[\"Team\"] == \"Away\"].sum())"
   ]
  },
  {
   "cell_type": "code",
   "execution_count": 112,
   "id": "5ab18731",
   "metadata": {},
   "outputs": [
    {
     "name": "stdout",
     "output_type": "stream",
     "text": [
      "Total distance run: 189.86\n",
      "Total home team distance run: 99.79999999999998\n",
      "Total away team distance run: 90.06\n"
     ]
    }
   ],
   "source": [
    "sample_game_1_events[\"Distance Y\"] = abs(sample_game_1_events[\"Start Y\"] - sample_game_1_events[\"End Y\"])\n",
    "print(f\"Total distance run:\",sample_game_1_events[\"Distance Y\"].sum())\n",
    "print(f\"Total home team distance run:\",sample_game_1_events[\"Distance Y\"].loc[sample_game_1_events[\"Team\"] == \"Home\"].sum())\n",
    "print(f\"Total away team distance run:\",sample_game_1_events[\"Distance Y\"].loc[sample_game_1_events[\"Team\"] == \"Away\"].sum())"
   ]
  },
  {
   "cell_type": "code",
   "execution_count": 113,
   "id": "3c60a36e",
   "metadata": {},
   "outputs": [
    {
     "name": "stdout",
     "output_type": "stream",
     "text": [
      "Total distance run: 247.17785287821508\n",
      "Total home team distance run: 130.03019136897615\n",
      "Total away team distance run: 117.14766150923892\n"
     ]
    }
   ],
   "source": [
    "sample_game_1_events[\"Distance Z\"] = np.sqrt(((sample_game_1_events[\"End X\"] - sample_game_1_events[\"Start X\"]) ** 2) + ((sample_game_1_events[\"End Y\"] - sample_game_1_events[\"Start Y\"]) ** 2))\n",
    "print(f\"Total distance run:\",sample_game_1_events[\"Distance Z\"].sum())\n",
    "print(f\"Total home team distance run:\",sample_game_1_events[\"Distance Z\"].loc[sample_game_1_events[\"Team\"] == \"Home\"].sum())\n",
    "print(f\"Total away team distance run:\",sample_game_1_events[\"Distance Z\"].loc[sample_game_1_events[\"Team\"] == \"Away\"].sum())"
   ]
  },
  {
   "cell_type": "code",
   "execution_count": 185,
   "id": "8c80c49b",
   "metadata": {},
   "outputs": [
    {
     "data": {
      "text/plain": [
       "Period  Team\n",
       "1       Away    60.325063\n",
       "        Home    59.118494\n",
       "2       Away    56.822599\n",
       "        Home    70.911697\n",
       "Name: Distance Z, dtype: float64"
      ]
     },
     "execution_count": 185,
     "metadata": {},
     "output_type": "execute_result"
    }
   ],
   "source": [
    "distance_run_by_half_team = sample_game_1_events[\"Distance Z\"].groupby([sample_game_1_events[\"Period\"],sample_game_1_events[\"Team\"]]).sum()\n",
    "distance_run_by_half_team"
   ]
  },
  {
   "cell_type": "code",
   "execution_count": 349,
   "id": "99536496",
   "metadata": {},
   "outputs": [
    {
     "data": {
      "image/png": "[encoded data removed]",
      "text/plain": [
       "<Figure size 640x480 with 1 Axes>"
      ]
     },
     "metadata": {},
     "output_type": "display_data"
    }
   ],
   "source": [
    "sample_game_1_events[\"Distance Z\"].groupby([sample_game_1_events[\"Period\"],sample_game_1_events[\"Team\"]]).sum().plot(kind=\"bar\", title = \"Distance Run\")\n",
    "plt.savefig('charts/distance_run_per_half_and_team.png', bbox_inches='tight')"
   ]
  },
  {
   "cell_type": "markdown",
   "id": "a648b62c",
   "metadata": {},
   "source": [
    "Possession Time"
   ]
  },
  {
   "cell_type": "code",
   "execution_count": 193,
   "id": "74fab65e",
   "metadata": {},
   "outputs": [
    {
     "data": {
      "text/plain": [
       "Index(['Team', 'Type', 'Subtype', 'Period', 'Start Frame', 'Start Time [s]',\n",
       "       'End Frame', 'End Time [s]', 'From', 'To', 'Start X', 'Start Y',\n",
       "       'End X', 'End Y', 'Distance X', 'Distance Y', 'Distance Z',\n",
       "       'Time Held [s]'],\n",
       "      dtype='object')"
      ]
     },
     "execution_count": 193,
     "metadata": {},
     "output_type": "execute_result"
    }
   ],
   "source": [
    "sample_game_1_events[\"Time Held [s]\"] = sample_game_1_events[\"End Time [s]\"] - sample_game_1_events[\"Start Time [s]\"]\n",
    "sample_game_1_events.columns"
   ]
  },
  {
   "cell_type": "code",
   "execution_count": 194,
   "id": "7eae127b",
   "metadata": {},
   "outputs": [
    {
     "data": {
      "text/plain": [
       "Period  Team\n",
       "1       Away    422.72\n",
       "        Home    412.12\n",
       "2       Away    346.04\n",
       "        Home    462.44\n",
       "Name: Time Held [s], dtype: float64"
      ]
     },
     "execution_count": 194,
     "metadata": {},
     "output_type": "execute_result"
    }
   ],
   "source": [
    "time_held_by_half_team = sample_game_1_events[\"Time Held [s]\"].groupby([sample_game_1_events[\"Period\"],sample_game_1_events[\"Team\"]]).sum()\n",
    "time_held_by_half_team"
   ]
  },
  {
   "cell_type": "code",
   "execution_count": 350,
   "id": "f873f7f0",
   "metadata": {},
   "outputs": [
    {
     "data": {
      "image/png": "[encoded data removed]",
      "text/plain": [
       "<Figure size 640x480 with 1 Axes>"
      ]
     },
     "metadata": {},
     "output_type": "display_data"
    }
   ],
   "source": [
    "sample_game_1_events[\"Time Held [s]\"].groupby([sample_game_1_events[\"Period\"],sample_game_1_events[\"Team\"]]).sum().plot(kind=\"bar\", title = \"Time Held [s]\")\n",
    "plt.savefig('charts/time_held_per_half_and_team.png', bbox_inches='tight')"
   ]
  },
  {
   "cell_type": "markdown",
   "id": "f3442786",
   "metadata": {},
   "source": [
    "Correlation\n",
    "\n",
    "A slightly unexpected correlation exists between Distance Run and Time Held onto the ball. The reason this is somewhat unexpected is due to the scenarios described as explanations for the difference in Distance Run between the two teams. Both explanations (#1 and #2) would imply that the team holding the ball more would be the one running less, but this correlation matrix runs counter to that notion.\n",
    "\n",
    "A key consideration is that this dataset only includes particular events and not the entire match. Further analysis on the full game data would be needed for a better conclusion."
   ]
  },
  {
   "cell_type": "code",
   "execution_count": 196,
   "id": "5105ed36",
   "metadata": {},
   "outputs": [
    {
     "data": {
      "text/html": [
       "<div>\n",
       "<style scoped>\n",
       "    .dataframe tbody tr th:only-of-type {\n",
       "        vertical-align: middle;\n",
       "    }\n",
       "\n",
       "    .dataframe tbody tr th {\n",
       "        vertical-align: top;\n",
       "    }\n",
       "\n",
       "    .dataframe thead th {\n",
       "        text-align: right;\n",
       "    }\n",
       "</style>\n",
       "<table border=\"1\" class=\"dataframe\">\n",
       "  <thead>\n",
       "    <tr style=\"text-align: right;\">\n",
       "      <th></th>\n",
       "      <th>Distance Z</th>\n",
       "      <th>Time Held [s]</th>\n",
       "    </tr>\n",
       "  </thead>\n",
       "  <tbody>\n",
       "    <tr>\n",
       "      <th>Distance Z</th>\n",
       "      <td>1.000000</td>\n",
       "      <td>0.726153</td>\n",
       "    </tr>\n",
       "    <tr>\n",
       "      <th>Time Held [s]</th>\n",
       "      <td>0.726153</td>\n",
       "      <td>1.000000</td>\n",
       "    </tr>\n",
       "  </tbody>\n",
       "</table>\n",
       "</div>"
      ],
      "text/plain": [
       "               Distance Z  Time Held [s]\n",
       "Distance Z       1.000000       0.726153\n",
       "Time Held [s]    0.726153       1.000000"
      ]
     },
     "execution_count": 196,
     "metadata": {},
     "output_type": "execute_result"
    }
   ],
   "source": [
    "sample_game_1_events[[\"Distance Z\", \"Time Held [s]\"]].corr()"
   ]
  },
  {
   "cell_type": "code",
   "execution_count": 353,
   "id": "827b3bb1",
   "metadata": {
    "scrolled": true
   },
   "outputs": [
    {
     "data": {
      "image/png": "[encoded data removed]",
      "text/plain": [
       "<Figure size 640x480 with 2 Axes>"
      ]
     },
     "metadata": {},
     "output_type": "display_data"
    }
   ],
   "source": [
    "sns.heatmap(sample_game_1_events[[\"Distance Z\", \"Time Held [s]\"]].corr(), cmap = 'coolwarm', vmin=-1, vmax=1)\n",
    "plt.savefig('charts/correlation_between_distance_run_and_time_held.png', bbox_inches='tight')"
   ]
  },
  {
   "cell_type": "markdown",
   "id": "1634825c",
   "metadata": {},
   "source": [
    "Player Stats"
   ]
  },
  {
   "cell_type": "code",
   "execution_count": 198,
   "id": "f069eef1",
   "metadata": {},
   "outputs": [
    {
     "data": {
      "text/plain": [
       "From      Team\n",
       "Player2   Home    115.64\n",
       "Player21  Away    110.64\n",
       "Player3   Home     91.96\n",
       "Player19  Away     90.88\n",
       "Player4   Home     90.80\n",
       "Player7   Home     85.80\n",
       "Player16  Away     85.44\n",
       "Player11  Home     84.40\n",
       "Player6   Home     83.32\n",
       "Player17  Away     81.44\n",
       "Player12  Home     77.68\n",
       "Player22  Away     72.24\n",
       "Player25  Away     71.12\n",
       "Player15  Away     70.76\n",
       "Player8   Home     66.84\n",
       "Player18  Away     58.80\n",
       "Player20  Away     58.08\n",
       "Player10  Home     54.88\n",
       "Player5   Home     47.36\n",
       "Player9   Home     31.84\n",
       "Player23  Away     21.72\n",
       "Player1   Home     21.56\n",
       "Player27  Away     20.12\n",
       "Player14  Home     16.20\n",
       "Player28  Away     13.88\n",
       "Player24  Away      8.72\n",
       "Player13  Home      6.28\n",
       "Player26  Away      4.92\n",
       "Name: Time Held [s], dtype: float64"
      ]
     },
     "execution_count": 198,
     "metadata": {},
     "output_type": "execute_result"
    }
   ],
   "source": [
    "sample_game_1_events[\"Time Held [s]\"].groupby([sample_game_1_events[\"From\"],sample_game_1_events[\"Team\"]]).sum().sort_values(ascending = False)"
   ]
  },
  {
   "cell_type": "code",
   "execution_count": 359,
   "id": "1efd579e",
   "metadata": {},
   "outputs": [
    {
     "data": {
      "image/png": "[encoded data removed]",
      "text/plain": [
       "<Figure size 640x480 with 1 Axes>"
      ]
     },
     "metadata": {},
     "output_type": "display_data"
    }
   ],
   "source": [
    "sample_game_1_events[\"Time Held [s]\"].groupby([sample_game_1_events[\"From\"],sample_game_1_events[\"Team\"]]).sum().sort_values(ascending = False).plot(kind=\"bar\", title = \"Amount of Time Ball Held by Player per Event\")\n",
    "plt.savefig('charts/amount_of_time_ball_held.png', bbox_inches='tight')"
   ]
  },
  {
   "cell_type": "code",
   "execution_count": 200,
   "id": "b54e22a3",
   "metadata": {},
   "outputs": [
    {
     "data": {
      "text/plain": [
       "From      Team\n",
       "Player21  Away    66\n",
       "Player12  Home    53\n",
       "Player7   Home    52\n",
       "Player6   Home    48\n",
       "Player4   Home    47\n",
       "Player2   Home    44\n",
       "Player3   Home    41\n",
       "Player16  Away    40\n",
       "Player19  Away    39\n",
       "Player17  Away    39\n",
       "Player20  Away    35\n",
       "Player5   Home    34\n",
       "Player22  Away    32\n",
       "Player15  Away    31\n",
       "Player8   Home    31\n",
       "Player10  Home    28\n",
       "Player18  Away    24\n",
       "Player9   Home    19\n",
       "Player25  Away    19\n",
       "Player11  Home    17\n",
       "Player23  Away    13\n",
       "Player27  Away    12\n",
       "Player14  Home     8\n",
       "Player1   Home     8\n",
       "Player13  Home     7\n",
       "Player28  Away     6\n",
       "Player24  Away     5\n",
       "Player26  Away     1\n",
       "Name: From, dtype: int64"
      ]
     },
     "execution_count": 200,
     "metadata": {},
     "output_type": "execute_result"
    }
   ],
   "source": [
    "sample_game_1_events[\"From\"].loc[sample_game_1_events[\"Type\"] == \"PASS\"].groupby([sample_game_1_events[\"From\"],sample_game_1_events[\"Team\"]]).count().sort_values(ascending=False)"
   ]
  },
  {
   "cell_type": "code",
   "execution_count": 360,
   "id": "13a2fce8",
   "metadata": {},
   "outputs": [
    {
     "data": {
      "image/png": "[encoded data removed]",
      "text/plain": [
       "<Figure size 640x480 with 1 Axes>"
      ]
     },
     "metadata": {},
     "output_type": "display_data"
    }
   ],
   "source": [
    "sample_game_1_events[\"From\"].loc[sample_game_1_events[\"Type\"] == \"PASS\"].groupby([sample_game_1_events[\"From\"],sample_game_1_events[\"Team\"]]).count().sort_values(ascending=False).plot(kind=\"bar\", title = \"Number of Passes per Player\")\n",
    "plt.savefig('charts/number_of_passes_per_player.png', bbox_inches='tight')"
   ]
  },
  {
   "cell_type": "markdown",
   "id": "faa369de",
   "metadata": {},
   "source": [
    "Shot Distances"
   ]
  },
  {
   "cell_type": "code",
   "execution_count": 202,
   "id": "406015e4",
   "metadata": {},
   "outputs": [
    {
     "data": {
      "text/plain": [
       "Team\n",
       "Home    18\n",
       "Away     6\n",
       "Name: Distance Z, dtype: int64"
      ]
     },
     "execution_count": 202,
     "metadata": {},
     "output_type": "execute_result"
    }
   ],
   "source": [
    "sample_game_1_events[\"Distance Z\"].loc[sample_game_1_events[\"Type\"] == \"SHOT\"].groupby(sample_game_1_events[\"Team\"]).count().sort_values(ascending=False)"
   ]
  },
  {
   "cell_type": "code",
   "execution_count": 203,
   "id": "1e442c3f",
   "metadata": {},
   "outputs": [
    {
     "data": {
      "text/plain": [
       "Team\n",
       "Away    0.256299\n",
       "Home    0.181871\n",
       "Name: Distance Z, dtype: float64"
      ]
     },
     "execution_count": 203,
     "metadata": {},
     "output_type": "execute_result"
    }
   ],
   "source": [
    "sample_game_1_events[\"Distance Z\"].loc[sample_game_1_events[\"Type\"] == \"SHOT\"].groupby(sample_game_1_events[\"Team\"]).mean().sort_values(ascending=False)"
   ]
  },
  {
   "cell_type": "code",
   "execution_count": 204,
   "id": "deca67e0",
   "metadata": {},
   "outputs": [
    {
     "data": {
      "text/plain": [
       "<Axes: title={'center': 'Average Distance of Shot'}, xlabel='Team'>"
      ]
     },
     "execution_count": 204,
     "metadata": {},
     "output_type": "execute_result"
    },
    {
     "data": {
      "image/png": "[encoded data removed]",
      "text/plain": [
       "<Figure size 640x480 with 1 Axes>"
      ]
     },
     "metadata": {},
     "output_type": "display_data"
    }
   ],
   "source": [
    "sample_game_1_events[\"Distance Z\"].loc[sample_game_1_events[\"Type\"] == \"SHOT\"].groupby(sample_game_1_events[\"Team\"]).mean().sort_values(ascending=False).plot(kind=\"bar\", title = \"Average Distance of Shot\")"
   ]
  },
  {
   "cell_type": "code",
   "execution_count": 205,
   "id": "f6b14fdc",
   "metadata": {},
   "outputs": [
    {
     "data": {
      "text/plain": [
       "Team\n",
       "Away    0.214321\n",
       "Home    0.103362\n",
       "Name: Distance Z, dtype: float64"
      ]
     },
     "execution_count": 205,
     "metadata": {},
     "output_type": "execute_result"
    }
   ],
   "source": [
    "on_target_columns_to_search = [\"HEAD-ON TARGET-GOAL\", \"ON TARGET-SAVED\", \"HEAD-ON TARGET-SAVED\", \"ON TARGET-GOAL\"]\n",
    "sample_game_1_events[\"Distance Z\"].loc[sample_game_1_events[\"Subtype\"].isin(on_target_columns_to_search)].groupby(sample_game_1_events[\"Team\"]).mean()"
   ]
  },
  {
   "cell_type": "code",
   "execution_count": 223,
   "id": "2f0405db",
   "metadata": {},
   "outputs": [
    {
     "data": {
      "text/plain": [
       "<Axes: title={'center': 'Average Distance of On Target Shot'}, xlabel='Team'>"
      ]
     },
     "execution_count": 223,
     "metadata": {},
     "output_type": "execute_result"
    },
    {
     "data": {
      "image/png": "[encoded data removed]",
      "text/plain": [
       "<Figure size 640x480 with 1 Axes>"
      ]
     },
     "metadata": {},
     "output_type": "display_data"
    }
   ],
   "source": [
    "sample_game_1_events[\"Distance Z\"].loc[sample_game_1_events[\"Subtype\"].isin(on_target_columns_to_search)].groupby(sample_game_1_events[\"Team\"]).mean().plot(kind=\"bar\", title = \"Average Distance of On Target Shot\")"
   ]
  },
  {
   "cell_type": "code",
   "execution_count": 207,
   "id": "c43ed7b6",
   "metadata": {},
   "outputs": [
    {
     "data": {
      "text/plain": [
       "Team\n",
       "Away    0.298277\n",
       "Home    0.231831\n",
       "Name: Distance Z, dtype: float64"
      ]
     },
     "execution_count": 207,
     "metadata": {},
     "output_type": "execute_result"
    }
   ],
   "source": [
    "off_target_columns_to_search = [\"BLOCKED\", \"HEAD-OFF TARGET-OUT\", \"HEAD-WOODWORK-OUT\", \"OFF TARGET-OUT\",\"OFF TARGET\"]\n",
    "sample_game_1_events[\"Distance Z\"].loc[sample_game_1_events[\"Subtype\"].isin(off_target_columns_to_search)].groupby(sample_game_1_events[\"Team\"]).mean()"
   ]
  },
  {
   "cell_type": "code",
   "execution_count": 222,
   "id": "0bccb31f",
   "metadata": {},
   "outputs": [
    {
     "data": {
      "text/plain": [
       "<Axes: title={'center': 'Average Distance of Off Target Shot'}, xlabel='Team'>"
      ]
     },
     "execution_count": 222,
     "metadata": {},
     "output_type": "execute_result"
    },
    {
     "data": {
      "image/png": "[encoded data removed]",
      "text/plain": [
       "<Figure size 640x480 with 1 Axes>"
      ]
     },
     "metadata": {},
     "output_type": "display_data"
    }
   ],
   "source": [
    "sample_game_1_events[\"Distance Z\"].loc[sample_game_1_events[\"Subtype\"].isin(off_target_columns_to_search)].groupby(sample_game_1_events[\"Team\"]).mean().plot(kind=\"bar\", title = \"Average Distance of Off Target Shot\")"
   ]
  },
  {
   "cell_type": "code",
   "execution_count": 224,
   "id": "f5e04969",
   "metadata": {},
   "outputs": [
    {
     "data": {
      "text/plain": [
       "Team\n",
       "Home    0.135453\n",
       "Name: Distance Z, dtype: float64"
      ]
     },
     "execution_count": 224,
     "metadata": {},
     "output_type": "execute_result"
    }
   ],
   "source": [
    "goal_columns_to_search = [\"HEAD-ON TARGET-GOAL\", \"ON TARGET-GOAL\"]\n",
    "sample_game_1_events[\"Distance Z\"].loc[sample_game_1_events[\"Subtype\"].isin(goal_columns_to_search)].groupby(sample_game_1_events[\"Team\"]).mean()"
   ]
  },
  {
   "cell_type": "code",
   "execution_count": 227,
   "id": "2b5f9ee5",
   "metadata": {},
   "outputs": [
    {
     "data": {
      "text/plain": [
       "Team\n",
       "Home    3\n",
       "Name: Distance Z, dtype: int64"
      ]
     },
     "execution_count": 227,
     "metadata": {},
     "output_type": "execute_result"
    }
   ],
   "source": [
    "sample_game_1_events[\"Distance Z\"].loc[sample_game_1_events[\"Subtype\"].isin(goal_columns_to_search)].groupby(sample_game_1_events[\"Team\"]).count()"
   ]
  },
  {
   "cell_type": "code",
   "execution_count": 226,
   "id": "72085a75",
   "metadata": {},
   "outputs": [
    {
     "data": {
      "text/plain": [
       "<Axes: title={'center': 'Average Distance of Goals'}, xlabel='Team'>"
      ]
     },
     "execution_count": 226,
     "metadata": {},
     "output_type": "execute_result"
    },
    {
     "data": {
      "image/png": "[encoded data removed]",
      "text/plain": [
       "<Figure size 640x480 with 1 Axes>"
      ]
     },
     "metadata": {},
     "output_type": "display_data"
    }
   ],
   "source": [
    "sample_game_1_events[\"Distance Z\"].loc[sample_game_1_events[\"Subtype\"].isin(goal_columns_to_search)].groupby(sample_game_1_events[\"Team\"]).mean().plot(kind=\"bar\", title = \"Average Distance of Goals\")"
   ]
  }
 ],
 "metadata": {
  "kernelspec": {
   "display_name": "Python 3 (ipykernel)",
   "language": "python",
   "name": "python3"
  },
  "language_info": {
   "codemirror_mode": {
    "name": "ipython",
    "version": 3
   },
   "file_extension": ".py",
   "mimetype": "text/x-python",
   "name": "python",
   "nbconvert_exporter": "python",
   "pygments_lexer": "ipython3",
   "version": "3.11.5"
  }
 },
 "nbformat": 4,
 "nbformat_minor": 5
}
