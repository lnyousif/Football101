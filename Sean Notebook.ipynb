{
 "cells": [
  {
   "cell_type": "code",
   "execution_count": 184,
   "id": "a4f25d52",
   "metadata": {},
   "outputs": [],
   "source": [
    "import pandas as pd\n",
    "import numpy as np\n",
    "import matplotlib.pyplot as plt\n",
    "import seaborn as sns"
   ]
  },
  {
   "cell_type": "code",
   "execution_count": 2,
   "id": "2ea6a726",
   "metadata": {},
   "outputs": [
    {
     "data": {
      "text/html": [
       "<div>\n",
       "<style scoped>\n",
       "    .dataframe tbody tr th:only-of-type {\n",
       "        vertical-align: middle;\n",
       "    }\n",
       "\n",
       "    .dataframe tbody tr th {\n",
       "        vertical-align: top;\n",
       "    }\n",
       "\n",
       "    .dataframe thead th {\n",
       "        text-align: right;\n",
       "    }\n",
       "</style>\n",
       "<table border=\"1\" class=\"dataframe\">\n",
       "  <thead>\n",
       "    <tr style=\"text-align: right;\">\n",
       "      <th></th>\n",
       "      <th>Team</th>\n",
       "      <th>Type</th>\n",
       "      <th>Subtype</th>\n",
       "      <th>Period</th>\n",
       "      <th>Start Frame</th>\n",
       "      <th>Start Time [s]</th>\n",
       "      <th>End Frame</th>\n",
       "      <th>End Time [s]</th>\n",
       "      <th>From</th>\n",
       "      <th>To</th>\n",
       "      <th>Start X</th>\n",
       "      <th>Start Y</th>\n",
       "      <th>End X</th>\n",
       "      <th>End Y</th>\n",
       "    </tr>\n",
       "  </thead>\n",
       "  <tbody>\n",
       "    <tr>\n",
       "      <th>0</th>\n",
       "      <td>Away</td>\n",
       "      <td>SET PIECE</td>\n",
       "      <td>KICK OFF</td>\n",
       "      <td>1</td>\n",
       "      <td>1</td>\n",
       "      <td>0.04</td>\n",
       "      <td>0</td>\n",
       "      <td>0.00</td>\n",
       "      <td>Player19</td>\n",
       "      <td>NaN</td>\n",
       "      <td>NaN</td>\n",
       "      <td>NaN</td>\n",
       "      <td>NaN</td>\n",
       "      <td>NaN</td>\n",
       "    </tr>\n",
       "    <tr>\n",
       "      <th>1</th>\n",
       "      <td>Away</td>\n",
       "      <td>PASS</td>\n",
       "      <td>NaN</td>\n",
       "      <td>1</td>\n",
       "      <td>1</td>\n",
       "      <td>0.04</td>\n",
       "      <td>3</td>\n",
       "      <td>0.12</td>\n",
       "      <td>Player19</td>\n",
       "      <td>Player21</td>\n",
       "      <td>0.45</td>\n",
       "      <td>0.39</td>\n",
       "      <td>0.55</td>\n",
       "      <td>0.43</td>\n",
       "    </tr>\n",
       "    <tr>\n",
       "      <th>2</th>\n",
       "      <td>Away</td>\n",
       "      <td>PASS</td>\n",
       "      <td>NaN</td>\n",
       "      <td>1</td>\n",
       "      <td>3</td>\n",
       "      <td>0.12</td>\n",
       "      <td>17</td>\n",
       "      <td>0.68</td>\n",
       "      <td>Player21</td>\n",
       "      <td>Player15</td>\n",
       "      <td>0.55</td>\n",
       "      <td>0.43</td>\n",
       "      <td>0.58</td>\n",
       "      <td>0.21</td>\n",
       "    </tr>\n",
       "    <tr>\n",
       "      <th>3</th>\n",
       "      <td>Away</td>\n",
       "      <td>PASS</td>\n",
       "      <td>NaN</td>\n",
       "      <td>1</td>\n",
       "      <td>45</td>\n",
       "      <td>1.80</td>\n",
       "      <td>61</td>\n",
       "      <td>2.44</td>\n",
       "      <td>Player15</td>\n",
       "      <td>Player19</td>\n",
       "      <td>0.55</td>\n",
       "      <td>0.19</td>\n",
       "      <td>0.45</td>\n",
       "      <td>0.31</td>\n",
       "    </tr>\n",
       "    <tr>\n",
       "      <th>4</th>\n",
       "      <td>Away</td>\n",
       "      <td>PASS</td>\n",
       "      <td>NaN</td>\n",
       "      <td>1</td>\n",
       "      <td>77</td>\n",
       "      <td>3.08</td>\n",
       "      <td>96</td>\n",
       "      <td>3.84</td>\n",
       "      <td>Player19</td>\n",
       "      <td>Player21</td>\n",
       "      <td>0.45</td>\n",
       "      <td>0.32</td>\n",
       "      <td>0.49</td>\n",
       "      <td>0.47</td>\n",
       "    </tr>\n",
       "    <tr>\n",
       "      <th>...</th>\n",
       "      <td>...</td>\n",
       "      <td>...</td>\n",
       "      <td>...</td>\n",
       "      <td>...</td>\n",
       "      <td>...</td>\n",
       "      <td>...</td>\n",
       "      <td>...</td>\n",
       "      <td>...</td>\n",
       "      <td>...</td>\n",
       "      <td>...</td>\n",
       "      <td>...</td>\n",
       "      <td>...</td>\n",
       "      <td>...</td>\n",
       "      <td>...</td>\n",
       "    </tr>\n",
       "    <tr>\n",
       "      <th>1740</th>\n",
       "      <td>Home</td>\n",
       "      <td>PASS</td>\n",
       "      <td>NaN</td>\n",
       "      <td>2</td>\n",
       "      <td>143361</td>\n",
       "      <td>5734.44</td>\n",
       "      <td>143483</td>\n",
       "      <td>5739.32</td>\n",
       "      <td>Player12</td>\n",
       "      <td>Player13</td>\n",
       "      <td>0.60</td>\n",
       "      <td>0.33</td>\n",
       "      <td>0.19</td>\n",
       "      <td>0.95</td>\n",
       "    </tr>\n",
       "    <tr>\n",
       "      <th>1741</th>\n",
       "      <td>Home</td>\n",
       "      <td>PASS</td>\n",
       "      <td>NaN</td>\n",
       "      <td>2</td>\n",
       "      <td>143578</td>\n",
       "      <td>5743.12</td>\n",
       "      <td>143593</td>\n",
       "      <td>5743.72</td>\n",
       "      <td>Player13</td>\n",
       "      <td>Player4</td>\n",
       "      <td>0.09</td>\n",
       "      <td>0.88</td>\n",
       "      <td>0.14</td>\n",
       "      <td>0.69</td>\n",
       "    </tr>\n",
       "    <tr>\n",
       "      <th>1742</th>\n",
       "      <td>Home</td>\n",
       "      <td>BALL LOST</td>\n",
       "      <td>INTERCEPTION</td>\n",
       "      <td>2</td>\n",
       "      <td>143598</td>\n",
       "      <td>5743.92</td>\n",
       "      <td>143618</td>\n",
       "      <td>5744.72</td>\n",
       "      <td>Player4</td>\n",
       "      <td>NaN</td>\n",
       "      <td>0.13</td>\n",
       "      <td>0.69</td>\n",
       "      <td>0.07</td>\n",
       "      <td>0.61</td>\n",
       "    </tr>\n",
       "    <tr>\n",
       "      <th>1743</th>\n",
       "      <td>Away</td>\n",
       "      <td>RECOVERY</td>\n",
       "      <td>BLOCKED</td>\n",
       "      <td>2</td>\n",
       "      <td>143617</td>\n",
       "      <td>5744.68</td>\n",
       "      <td>143617</td>\n",
       "      <td>5744.68</td>\n",
       "      <td>Player16</td>\n",
       "      <td>NaN</td>\n",
       "      <td>0.05</td>\n",
       "      <td>0.62</td>\n",
       "      <td>NaN</td>\n",
       "      <td>NaN</td>\n",
       "    </tr>\n",
       "    <tr>\n",
       "      <th>1744</th>\n",
       "      <td>Away</td>\n",
       "      <td>BALL OUT</td>\n",
       "      <td>NaN</td>\n",
       "      <td>2</td>\n",
       "      <td>143622</td>\n",
       "      <td>5744.88</td>\n",
       "      <td>143630</td>\n",
       "      <td>5745.20</td>\n",
       "      <td>Player16</td>\n",
       "      <td>NaN</td>\n",
       "      <td>0.05</td>\n",
       "      <td>0.63</td>\n",
       "      <td>0.03</td>\n",
       "      <td>1.01</td>\n",
       "    </tr>\n",
       "  </tbody>\n",
       "</table>\n",
       "<p>1745 rows × 14 columns</p>\n",
       "</div>"
      ],
      "text/plain": [
       "      Team       Type       Subtype  Period  Start Frame  Start Time [s]  \\\n",
       "0     Away  SET PIECE      KICK OFF       1            1            0.04   \n",
       "1     Away       PASS           NaN       1            1            0.04   \n",
       "2     Away       PASS           NaN       1            3            0.12   \n",
       "3     Away       PASS           NaN       1           45            1.80   \n",
       "4     Away       PASS           NaN       1           77            3.08   \n",
       "...    ...        ...           ...     ...          ...             ...   \n",
       "1740  Home       PASS           NaN       2       143361         5734.44   \n",
       "1741  Home       PASS           NaN       2       143578         5743.12   \n",
       "1742  Home  BALL LOST  INTERCEPTION       2       143598         5743.92   \n",
       "1743  Away   RECOVERY       BLOCKED       2       143617         5744.68   \n",
       "1744  Away   BALL OUT           NaN       2       143622         5744.88   \n",
       "\n",
       "      End Frame  End Time [s]      From        To  Start X  Start Y  End X  \\\n",
       "0             0          0.00  Player19       NaN      NaN      NaN    NaN   \n",
       "1             3          0.12  Player19  Player21     0.45     0.39   0.55   \n",
       "2            17          0.68  Player21  Player15     0.55     0.43   0.58   \n",
       "3            61          2.44  Player15  Player19     0.55     0.19   0.45   \n",
       "4            96          3.84  Player19  Player21     0.45     0.32   0.49   \n",
       "...         ...           ...       ...       ...      ...      ...    ...   \n",
       "1740     143483       5739.32  Player12  Player13     0.60     0.33   0.19   \n",
       "1741     143593       5743.72  Player13   Player4     0.09     0.88   0.14   \n",
       "1742     143618       5744.72   Player4       NaN     0.13     0.69   0.07   \n",
       "1743     143617       5744.68  Player16       NaN     0.05     0.62    NaN   \n",
       "1744     143630       5745.20  Player16       NaN     0.05     0.63   0.03   \n",
       "\n",
       "      End Y  \n",
       "0       NaN  \n",
       "1      0.43  \n",
       "2      0.21  \n",
       "3      0.31  \n",
       "4      0.47  \n",
       "...     ...  \n",
       "1740   0.95  \n",
       "1741   0.69  \n",
       "1742   0.61  \n",
       "1743    NaN  \n",
       "1744   1.01  \n",
       "\n",
       "[1745 rows x 14 columns]"
      ]
     },
     "execution_count": 2,
     "metadata": {},
     "output_type": "execute_result"
    }
   ],
   "source": [
    "sample_game_1_events = pd.read_csv('data/Sample_Game_1/Sample_Game_1_RawEventsData.csv')\n",
    "sample_game_1_events"
   ]
  },
  {
   "cell_type": "code",
   "execution_count": 228,
   "id": "8c351d99",
   "metadata": {},
   "outputs": [
    {
     "data": {
      "text/html": [
       "<div>\n",
       "<style scoped>\n",
       "    .dataframe tbody tr th:only-of-type {\n",
       "        vertical-align: middle;\n",
       "    }\n",
       "\n",
       "    .dataframe tbody tr th {\n",
       "        vertical-align: top;\n",
       "    }\n",
       "\n",
       "    .dataframe thead th {\n",
       "        text-align: right;\n",
       "    }\n",
       "</style>\n",
       "<table border=\"1\" class=\"dataframe\">\n",
       "  <thead>\n",
       "    <tr style=\"text-align: right;\">\n",
       "      <th></th>\n",
       "      <th>Period</th>\n",
       "      <th>Frame</th>\n",
       "      <th>Time [s]</th>\n",
       "      <th>Home_Player11_X</th>\n",
       "      <th>Home_Player11_Y</th>\n",
       "      <th>Home_Player1_X</th>\n",
       "      <th>Home_Player1_Y</th>\n",
       "      <th>Home_Player2_X</th>\n",
       "      <th>Home_Player2_Y</th>\n",
       "      <th>Home_Player3_X</th>\n",
       "      <th>...</th>\n",
       "      <th>Home_Player10_X</th>\n",
       "      <th>Home_Player10_Y</th>\n",
       "      <th>Home_Player12_X</th>\n",
       "      <th>Home_Player12_Y</th>\n",
       "      <th>Home_Player13_X</th>\n",
       "      <th>Home_Player13_Y</th>\n",
       "      <th>Home_Player14_X</th>\n",
       "      <th>Home_Player14_Y</th>\n",
       "      <th>Ball_X</th>\n",
       "      <th>Ball_Y</th>\n",
       "    </tr>\n",
       "  </thead>\n",
       "  <tbody>\n",
       "    <tr>\n",
       "      <th>0</th>\n",
       "      <td>1</td>\n",
       "      <td>1</td>\n",
       "      <td>0.04</td>\n",
       "      <td>0.00082</td>\n",
       "      <td>0.48238</td>\n",
       "      <td>0.32648</td>\n",
       "      <td>0.65322</td>\n",
       "      <td>0.33701</td>\n",
       "      <td>0.48863</td>\n",
       "      <td>0.30927</td>\n",
       "      <td>...</td>\n",
       "      <td>0.55243</td>\n",
       "      <td>0.43269</td>\n",
       "      <td>NaN</td>\n",
       "      <td>NaN</td>\n",
       "      <td>NaN</td>\n",
       "      <td>NaN</td>\n",
       "      <td>NaN</td>\n",
       "      <td>NaN</td>\n",
       "      <td>0.45472</td>\n",
       "      <td>0.38709</td>\n",
       "    </tr>\n",
       "    <tr>\n",
       "      <th>1</th>\n",
       "      <td>1</td>\n",
       "      <td>2</td>\n",
       "      <td>0.08</td>\n",
       "      <td>0.00096</td>\n",
       "      <td>0.48238</td>\n",
       "      <td>0.32648</td>\n",
       "      <td>0.65322</td>\n",
       "      <td>0.33701</td>\n",
       "      <td>0.48863</td>\n",
       "      <td>0.30927</td>\n",
       "      <td>...</td>\n",
       "      <td>0.55243</td>\n",
       "      <td>0.43269</td>\n",
       "      <td>NaN</td>\n",
       "      <td>NaN</td>\n",
       "      <td>NaN</td>\n",
       "      <td>NaN</td>\n",
       "      <td>NaN</td>\n",
       "      <td>NaN</td>\n",
       "      <td>0.49645</td>\n",
       "      <td>0.40656</td>\n",
       "    </tr>\n",
       "    <tr>\n",
       "      <th>2</th>\n",
       "      <td>1</td>\n",
       "      <td>3</td>\n",
       "      <td>0.12</td>\n",
       "      <td>0.00114</td>\n",
       "      <td>0.48238</td>\n",
       "      <td>0.32648</td>\n",
       "      <td>0.65322</td>\n",
       "      <td>0.33701</td>\n",
       "      <td>0.48863</td>\n",
       "      <td>0.30927</td>\n",
       "      <td>...</td>\n",
       "      <td>0.55243</td>\n",
       "      <td>0.43269</td>\n",
       "      <td>NaN</td>\n",
       "      <td>NaN</td>\n",
       "      <td>NaN</td>\n",
       "      <td>NaN</td>\n",
       "      <td>NaN</td>\n",
       "      <td>NaN</td>\n",
       "      <td>0.53716</td>\n",
       "      <td>0.42556</td>\n",
       "    </tr>\n",
       "    <tr>\n",
       "      <th>3</th>\n",
       "      <td>1</td>\n",
       "      <td>4</td>\n",
       "      <td>0.16</td>\n",
       "      <td>0.00121</td>\n",
       "      <td>0.48238</td>\n",
       "      <td>0.32622</td>\n",
       "      <td>0.65317</td>\n",
       "      <td>0.33687</td>\n",
       "      <td>0.48988</td>\n",
       "      <td>0.30944</td>\n",
       "      <td>...</td>\n",
       "      <td>0.55236</td>\n",
       "      <td>0.43313</td>\n",
       "      <td>NaN</td>\n",
       "      <td>NaN</td>\n",
       "      <td>NaN</td>\n",
       "      <td>NaN</td>\n",
       "      <td>NaN</td>\n",
       "      <td>NaN</td>\n",
       "      <td>0.55346</td>\n",
       "      <td>0.42231</td>\n",
       "    </tr>\n",
       "    <tr>\n",
       "      <th>4</th>\n",
       "      <td>1</td>\n",
       "      <td>5</td>\n",
       "      <td>0.20</td>\n",
       "      <td>0.00129</td>\n",
       "      <td>0.48238</td>\n",
       "      <td>0.32597</td>\n",
       "      <td>0.65269</td>\n",
       "      <td>0.33664</td>\n",
       "      <td>0.49018</td>\n",
       "      <td>0.30948</td>\n",
       "      <td>...</td>\n",
       "      <td>0.55202</td>\n",
       "      <td>0.43311</td>\n",
       "      <td>NaN</td>\n",
       "      <td>NaN</td>\n",
       "      <td>NaN</td>\n",
       "      <td>NaN</td>\n",
       "      <td>NaN</td>\n",
       "      <td>NaN</td>\n",
       "      <td>0.55512</td>\n",
       "      <td>0.40570</td>\n",
       "    </tr>\n",
       "    <tr>\n",
       "      <th>...</th>\n",
       "      <td>...</td>\n",
       "      <td>...</td>\n",
       "      <td>...</td>\n",
       "      <td>...</td>\n",
       "      <td>...</td>\n",
       "      <td>...</td>\n",
       "      <td>...</td>\n",
       "      <td>...</td>\n",
       "      <td>...</td>\n",
       "      <td>...</td>\n",
       "      <td>...</td>\n",
       "      <td>...</td>\n",
       "      <td>...</td>\n",
       "      <td>...</td>\n",
       "      <td>...</td>\n",
       "      <td>...</td>\n",
       "      <td>...</td>\n",
       "      <td>...</td>\n",
       "      <td>...</td>\n",
       "      <td>...</td>\n",
       "      <td>...</td>\n",
       "    </tr>\n",
       "    <tr>\n",
       "      <th>145001</th>\n",
       "      <td>2</td>\n",
       "      <td>145002</td>\n",
       "      <td>5800.08</td>\n",
       "      <td>0.90614</td>\n",
       "      <td>0.45355</td>\n",
       "      <td>NaN</td>\n",
       "      <td>NaN</td>\n",
       "      <td>0.34157</td>\n",
       "      <td>0.64598</td>\n",
       "      <td>0.31228</td>\n",
       "      <td>...</td>\n",
       "      <td>NaN</td>\n",
       "      <td>NaN</td>\n",
       "      <td>0.30044</td>\n",
       "      <td>0.68311</td>\n",
       "      <td>0.33644</td>\n",
       "      <td>0.65390</td>\n",
       "      <td>0.34157</td>\n",
       "      <td>0.64598</td>\n",
       "      <td>NaN</td>\n",
       "      <td>NaN</td>\n",
       "    </tr>\n",
       "    <tr>\n",
       "      <th>145002</th>\n",
       "      <td>2</td>\n",
       "      <td>145003</td>\n",
       "      <td>5800.12</td>\n",
       "      <td>0.90550</td>\n",
       "      <td>0.45355</td>\n",
       "      <td>NaN</td>\n",
       "      <td>NaN</td>\n",
       "      <td>0.34127</td>\n",
       "      <td>0.64583</td>\n",
       "      <td>0.31230</td>\n",
       "      <td>...</td>\n",
       "      <td>NaN</td>\n",
       "      <td>NaN</td>\n",
       "      <td>0.30044</td>\n",
       "      <td>0.68311</td>\n",
       "      <td>0.33656</td>\n",
       "      <td>0.65398</td>\n",
       "      <td>0.34127</td>\n",
       "      <td>0.64583</td>\n",
       "      <td>NaN</td>\n",
       "      <td>NaN</td>\n",
       "    </tr>\n",
       "    <tr>\n",
       "      <th>145003</th>\n",
       "      <td>2</td>\n",
       "      <td>145004</td>\n",
       "      <td>5800.16</td>\n",
       "      <td>0.90492</td>\n",
       "      <td>0.45355</td>\n",
       "      <td>NaN</td>\n",
       "      <td>NaN</td>\n",
       "      <td>0.34089</td>\n",
       "      <td>0.64569</td>\n",
       "      <td>0.31214</td>\n",
       "      <td>...</td>\n",
       "      <td>NaN</td>\n",
       "      <td>NaN</td>\n",
       "      <td>0.30044</td>\n",
       "      <td>0.68311</td>\n",
       "      <td>0.33637</td>\n",
       "      <td>0.65366</td>\n",
       "      <td>0.34089</td>\n",
       "      <td>0.64569</td>\n",
       "      <td>NaN</td>\n",
       "      <td>NaN</td>\n",
       "    </tr>\n",
       "    <tr>\n",
       "      <th>145004</th>\n",
       "      <td>2</td>\n",
       "      <td>145005</td>\n",
       "      <td>5800.20</td>\n",
       "      <td>0.90456</td>\n",
       "      <td>0.45356</td>\n",
       "      <td>NaN</td>\n",
       "      <td>NaN</td>\n",
       "      <td>0.34056</td>\n",
       "      <td>0.64552</td>\n",
       "      <td>0.31171</td>\n",
       "      <td>...</td>\n",
       "      <td>NaN</td>\n",
       "      <td>NaN</td>\n",
       "      <td>0.30044</td>\n",
       "      <td>0.68311</td>\n",
       "      <td>0.33615</td>\n",
       "      <td>0.65317</td>\n",
       "      <td>0.34056</td>\n",
       "      <td>0.64552</td>\n",
       "      <td>NaN</td>\n",
       "      <td>NaN</td>\n",
       "    </tr>\n",
       "    <tr>\n",
       "      <th>145005</th>\n",
       "      <td>2</td>\n",
       "      <td>145006</td>\n",
       "      <td>5800.24</td>\n",
       "      <td>0.90456</td>\n",
       "      <td>0.45356</td>\n",
       "      <td>NaN</td>\n",
       "      <td>NaN</td>\n",
       "      <td>0.33996</td>\n",
       "      <td>0.64544</td>\n",
       "      <td>0.31122</td>\n",
       "      <td>...</td>\n",
       "      <td>NaN</td>\n",
       "      <td>NaN</td>\n",
       "      <td>0.30044</td>\n",
       "      <td>0.68311</td>\n",
       "      <td>0.33563</td>\n",
       "      <td>0.65166</td>\n",
       "      <td>0.33996</td>\n",
       "      <td>0.64544</td>\n",
       "      <td>NaN</td>\n",
       "      <td>NaN</td>\n",
       "    </tr>\n",
       "  </tbody>\n",
       "</table>\n",
       "<p>145006 rows × 33 columns</p>\n",
       "</div>"
      ],
      "text/plain": [
       "        Period   Frame  Time [s]  Home_Player11_X  Home_Player11_Y  \\\n",
       "0            1       1      0.04          0.00082          0.48238   \n",
       "1            1       2      0.08          0.00096          0.48238   \n",
       "2            1       3      0.12          0.00114          0.48238   \n",
       "3            1       4      0.16          0.00121          0.48238   \n",
       "4            1       5      0.20          0.00129          0.48238   \n",
       "...        ...     ...       ...              ...              ...   \n",
       "145001       2  145002   5800.08          0.90614          0.45355   \n",
       "145002       2  145003   5800.12          0.90550          0.45355   \n",
       "145003       2  145004   5800.16          0.90492          0.45355   \n",
       "145004       2  145005   5800.20          0.90456          0.45356   \n",
       "145005       2  145006   5800.24          0.90456          0.45356   \n",
       "\n",
       "        Home_Player1_X  Home_Player1_Y  Home_Player2_X  Home_Player2_Y  \\\n",
       "0              0.32648         0.65322         0.33701         0.48863   \n",
       "1              0.32648         0.65322         0.33701         0.48863   \n",
       "2              0.32648         0.65322         0.33701         0.48863   \n",
       "3              0.32622         0.65317         0.33687         0.48988   \n",
       "4              0.32597         0.65269         0.33664         0.49018   \n",
       "...                ...             ...             ...             ...   \n",
       "145001             NaN             NaN         0.34157         0.64598   \n",
       "145002             NaN             NaN         0.34127         0.64583   \n",
       "145003             NaN             NaN         0.34089         0.64569   \n",
       "145004             NaN             NaN         0.34056         0.64552   \n",
       "145005             NaN             NaN         0.33996         0.64544   \n",
       "\n",
       "        Home_Player3_X  ...  Home_Player10_X  Home_Player10_Y  \\\n",
       "0              0.30927  ...          0.55243          0.43269   \n",
       "1              0.30927  ...          0.55243          0.43269   \n",
       "2              0.30927  ...          0.55243          0.43269   \n",
       "3              0.30944  ...          0.55236          0.43313   \n",
       "4              0.30948  ...          0.55202          0.43311   \n",
       "...                ...  ...              ...              ...   \n",
       "145001         0.31228  ...              NaN              NaN   \n",
       "145002         0.31230  ...              NaN              NaN   \n",
       "145003         0.31214  ...              NaN              NaN   \n",
       "145004         0.31171  ...              NaN              NaN   \n",
       "145005         0.31122  ...              NaN              NaN   \n",
       "\n",
       "        Home_Player12_X  Home_Player12_Y  Home_Player13_X  Home_Player13_Y  \\\n",
       "0                   NaN              NaN              NaN              NaN   \n",
       "1                   NaN              NaN              NaN              NaN   \n",
       "2                   NaN              NaN              NaN              NaN   \n",
       "3                   NaN              NaN              NaN              NaN   \n",
       "4                   NaN              NaN              NaN              NaN   \n",
       "...                 ...              ...              ...              ...   \n",
       "145001          0.30044          0.68311          0.33644          0.65390   \n",
       "145002          0.30044          0.68311          0.33656          0.65398   \n",
       "145003          0.30044          0.68311          0.33637          0.65366   \n",
       "145004          0.30044          0.68311          0.33615          0.65317   \n",
       "145005          0.30044          0.68311          0.33563          0.65166   \n",
       "\n",
       "        Home_Player14_X  Home_Player14_Y   Ball_X   Ball_Y  \n",
       "0                   NaN              NaN  0.45472  0.38709  \n",
       "1                   NaN              NaN  0.49645  0.40656  \n",
       "2                   NaN              NaN  0.53716  0.42556  \n",
       "3                   NaN              NaN  0.55346  0.42231  \n",
       "4                   NaN              NaN  0.55512  0.40570  \n",
       "...                 ...              ...      ...      ...  \n",
       "145001          0.34157          0.64598      NaN      NaN  \n",
       "145002          0.34127          0.64583      NaN      NaN  \n",
       "145003          0.34089          0.64569      NaN      NaN  \n",
       "145004          0.34056          0.64552      NaN      NaN  \n",
       "145005          0.33996          0.64544      NaN      NaN  \n",
       "\n",
       "[145006 rows x 33 columns]"
      ]
     },
     "execution_count": 228,
     "metadata": {},
     "output_type": "execute_result"
    }
   ],
   "source": [
    "sample_game_1_home = pd.read_csv('data/Sample_Game_1_edited/Sample_Game_1_RawTrackingData_Home_Team_edited.csv')\n",
    "sample_game_1_home"
   ]
  },
  {
   "cell_type": "code",
   "execution_count": 292,
   "id": "34171e2c",
   "metadata": {},
   "outputs": [
    {
     "data": {
      "text/html": [
       "<div>\n",
       "<style scoped>\n",
       "    .dataframe tbody tr th:only-of-type {\n",
       "        vertical-align: middle;\n",
       "    }\n",
       "\n",
       "    .dataframe tbody tr th {\n",
       "        vertical-align: top;\n",
       "    }\n",
       "\n",
       "    .dataframe thead th {\n",
       "        text-align: right;\n",
       "    }\n",
       "</style>\n",
       "<table border=\"1\" class=\"dataframe\">\n",
       "  <thead>\n",
       "    <tr style=\"text-align: right;\">\n",
       "      <th></th>\n",
       "      <th>Period</th>\n",
       "      <th>Frame</th>\n",
       "      <th>Time [s]</th>\n",
       "      <th>Away_Player25_X</th>\n",
       "      <th>Away_Player25_Y</th>\n",
       "      <th>Away_Player15_X</th>\n",
       "      <th>Away_Player15_Y</th>\n",
       "      <th>Away_Player16_X</th>\n",
       "      <th>Away_Player16_Y</th>\n",
       "      <th>Away_Player17_X</th>\n",
       "      <th>...</th>\n",
       "      <th>Away_Player24_X</th>\n",
       "      <th>Away_Player24_Y</th>\n",
       "      <th>Away_Player26_X</th>\n",
       "      <th>Away_Player26_Y</th>\n",
       "      <th>Away_Player27_X</th>\n",
       "      <th>Away_Player27_Y</th>\n",
       "      <th>Away_Player28_X</th>\n",
       "      <th>Away_Player28_Y</th>\n",
       "      <th>Ball_X</th>\n",
       "      <th>Ball_Y</th>\n",
       "    </tr>\n",
       "  </thead>\n",
       "  <tbody>\n",
       "    <tr>\n",
       "      <th>0</th>\n",
       "      <td>1</td>\n",
       "      <td>1</td>\n",
       "      <td>0.04</td>\n",
       "      <td>0.90509</td>\n",
       "      <td>0.47462</td>\n",
       "      <td>0.58393</td>\n",
       "      <td>0.20794</td>\n",
       "      <td>0.67658</td>\n",
       "      <td>0.46710</td>\n",
       "      <td>0.67310</td>\n",
       "      <td>...</td>\n",
       "      <td>0.37833</td>\n",
       "      <td>0.27383</td>\n",
       "      <td>NaN</td>\n",
       "      <td>NaN</td>\n",
       "      <td>NaN</td>\n",
       "      <td>NaN</td>\n",
       "      <td>NaN</td>\n",
       "      <td>NaN</td>\n",
       "      <td>0.45472</td>\n",
       "      <td>0.38709</td>\n",
       "    </tr>\n",
       "    <tr>\n",
       "      <th>1</th>\n",
       "      <td>1</td>\n",
       "      <td>2</td>\n",
       "      <td>0.08</td>\n",
       "      <td>0.90494</td>\n",
       "      <td>0.47462</td>\n",
       "      <td>0.58393</td>\n",
       "      <td>0.20794</td>\n",
       "      <td>0.67658</td>\n",
       "      <td>0.46710</td>\n",
       "      <td>0.67310</td>\n",
       "      <td>...</td>\n",
       "      <td>0.37833</td>\n",
       "      <td>0.27383</td>\n",
       "      <td>NaN</td>\n",
       "      <td>NaN</td>\n",
       "      <td>NaN</td>\n",
       "      <td>NaN</td>\n",
       "      <td>NaN</td>\n",
       "      <td>NaN</td>\n",
       "      <td>0.49645</td>\n",
       "      <td>0.40656</td>\n",
       "    </tr>\n",
       "    <tr>\n",
       "      <th>2</th>\n",
       "      <td>1</td>\n",
       "      <td>3</td>\n",
       "      <td>0.12</td>\n",
       "      <td>0.90434</td>\n",
       "      <td>0.47463</td>\n",
       "      <td>0.58393</td>\n",
       "      <td>0.20794</td>\n",
       "      <td>0.67658</td>\n",
       "      <td>0.46710</td>\n",
       "      <td>0.67310</td>\n",
       "      <td>...</td>\n",
       "      <td>0.37833</td>\n",
       "      <td>0.27383</td>\n",
       "      <td>NaN</td>\n",
       "      <td>NaN</td>\n",
       "      <td>NaN</td>\n",
       "      <td>NaN</td>\n",
       "      <td>NaN</td>\n",
       "      <td>NaN</td>\n",
       "      <td>0.53716</td>\n",
       "      <td>0.42556</td>\n",
       "    </tr>\n",
       "    <tr>\n",
       "      <th>3</th>\n",
       "      <td>1</td>\n",
       "      <td>4</td>\n",
       "      <td>0.16</td>\n",
       "      <td>0.90377</td>\n",
       "      <td>0.47463</td>\n",
       "      <td>0.58351</td>\n",
       "      <td>0.20868</td>\n",
       "      <td>0.67640</td>\n",
       "      <td>0.46762</td>\n",
       "      <td>0.67279</td>\n",
       "      <td>...</td>\n",
       "      <td>0.37756</td>\n",
       "      <td>0.27473</td>\n",
       "      <td>NaN</td>\n",
       "      <td>NaN</td>\n",
       "      <td>NaN</td>\n",
       "      <td>NaN</td>\n",
       "      <td>NaN</td>\n",
       "      <td>NaN</td>\n",
       "      <td>0.55346</td>\n",
       "      <td>0.42231</td>\n",
       "    </tr>\n",
       "    <tr>\n",
       "      <th>4</th>\n",
       "      <td>1</td>\n",
       "      <td>5</td>\n",
       "      <td>0.20</td>\n",
       "      <td>0.90324</td>\n",
       "      <td>0.47464</td>\n",
       "      <td>0.58291</td>\n",
       "      <td>0.21039</td>\n",
       "      <td>0.67599</td>\n",
       "      <td>0.46769</td>\n",
       "      <td>0.67253</td>\n",
       "      <td>...</td>\n",
       "      <td>0.37663</td>\n",
       "      <td>0.27543</td>\n",
       "      <td>NaN</td>\n",
       "      <td>NaN</td>\n",
       "      <td>NaN</td>\n",
       "      <td>NaN</td>\n",
       "      <td>NaN</td>\n",
       "      <td>NaN</td>\n",
       "      <td>0.55512</td>\n",
       "      <td>0.40570</td>\n",
       "    </tr>\n",
       "    <tr>\n",
       "      <th>...</th>\n",
       "      <td>...</td>\n",
       "      <td>...</td>\n",
       "      <td>...</td>\n",
       "      <td>...</td>\n",
       "      <td>...</td>\n",
       "      <td>...</td>\n",
       "      <td>...</td>\n",
       "      <td>...</td>\n",
       "      <td>...</td>\n",
       "      <td>...</td>\n",
       "      <td>...</td>\n",
       "      <td>...</td>\n",
       "      <td>...</td>\n",
       "      <td>...</td>\n",
       "      <td>...</td>\n",
       "      <td>...</td>\n",
       "      <td>...</td>\n",
       "      <td>...</td>\n",
       "      <td>...</td>\n",
       "      <td>...</td>\n",
       "      <td>...</td>\n",
       "    </tr>\n",
       "    <tr>\n",
       "      <th>145001</th>\n",
       "      <td>2</td>\n",
       "      <td>145002</td>\n",
       "      <td>5800.08</td>\n",
       "      <td>0.12564</td>\n",
       "      <td>0.55386</td>\n",
       "      <td>0.17876</td>\n",
       "      <td>0.56826</td>\n",
       "      <td>0.25818</td>\n",
       "      <td>0.59952</td>\n",
       "      <td>0.09880</td>\n",
       "      <td>...</td>\n",
       "      <td>NaN</td>\n",
       "      <td>NaN</td>\n",
       "      <td>0.35600</td>\n",
       "      <td>0.55371</td>\n",
       "      <td>0.19836</td>\n",
       "      <td>0.45137</td>\n",
       "      <td>0.21798</td>\n",
       "      <td>0.81079</td>\n",
       "      <td>NaN</td>\n",
       "      <td>NaN</td>\n",
       "    </tr>\n",
       "    <tr>\n",
       "      <th>145002</th>\n",
       "      <td>2</td>\n",
       "      <td>145003</td>\n",
       "      <td>5800.12</td>\n",
       "      <td>0.12564</td>\n",
       "      <td>0.55386</td>\n",
       "      <td>0.17838</td>\n",
       "      <td>0.56727</td>\n",
       "      <td>0.25799</td>\n",
       "      <td>0.59999</td>\n",
       "      <td>0.09880</td>\n",
       "      <td>...</td>\n",
       "      <td>NaN</td>\n",
       "      <td>NaN</td>\n",
       "      <td>0.35583</td>\n",
       "      <td>0.55283</td>\n",
       "      <td>0.19831</td>\n",
       "      <td>0.45182</td>\n",
       "      <td>0.21798</td>\n",
       "      <td>0.81079</td>\n",
       "      <td>NaN</td>\n",
       "      <td>NaN</td>\n",
       "    </tr>\n",
       "    <tr>\n",
       "      <th>145003</th>\n",
       "      <td>2</td>\n",
       "      <td>145004</td>\n",
       "      <td>5800.16</td>\n",
       "      <td>0.12564</td>\n",
       "      <td>0.55386</td>\n",
       "      <td>0.17792</td>\n",
       "      <td>0.56682</td>\n",
       "      <td>0.25757</td>\n",
       "      <td>0.60019</td>\n",
       "      <td>0.09880</td>\n",
       "      <td>...</td>\n",
       "      <td>NaN</td>\n",
       "      <td>NaN</td>\n",
       "      <td>0.35561</td>\n",
       "      <td>0.55254</td>\n",
       "      <td>0.19805</td>\n",
       "      <td>0.45200</td>\n",
       "      <td>0.21798</td>\n",
       "      <td>0.81079</td>\n",
       "      <td>NaN</td>\n",
       "      <td>NaN</td>\n",
       "    </tr>\n",
       "    <tr>\n",
       "      <th>145004</th>\n",
       "      <td>2</td>\n",
       "      <td>145005</td>\n",
       "      <td>5800.20</td>\n",
       "      <td>0.12564</td>\n",
       "      <td>0.55386</td>\n",
       "      <td>0.17730</td>\n",
       "      <td>0.56621</td>\n",
       "      <td>0.25721</td>\n",
       "      <td>0.60089</td>\n",
       "      <td>0.09880</td>\n",
       "      <td>...</td>\n",
       "      <td>NaN</td>\n",
       "      <td>NaN</td>\n",
       "      <td>0.35532</td>\n",
       "      <td>0.55243</td>\n",
       "      <td>0.19766</td>\n",
       "      <td>0.45237</td>\n",
       "      <td>0.21798</td>\n",
       "      <td>0.81079</td>\n",
       "      <td>NaN</td>\n",
       "      <td>NaN</td>\n",
       "    </tr>\n",
       "    <tr>\n",
       "      <th>145005</th>\n",
       "      <td>2</td>\n",
       "      <td>145006</td>\n",
       "      <td>5800.24</td>\n",
       "      <td>0.12564</td>\n",
       "      <td>0.55386</td>\n",
       "      <td>0.17693</td>\n",
       "      <td>0.56675</td>\n",
       "      <td>0.25659</td>\n",
       "      <td>0.60072</td>\n",
       "      <td>0.09880</td>\n",
       "      <td>...</td>\n",
       "      <td>NaN</td>\n",
       "      <td>NaN</td>\n",
       "      <td>0.35495</td>\n",
       "      <td>0.55364</td>\n",
       "      <td>0.19754</td>\n",
       "      <td>0.45364</td>\n",
       "      <td>0.21798</td>\n",
       "      <td>0.81079</td>\n",
       "      <td>NaN</td>\n",
       "      <td>NaN</td>\n",
       "    </tr>\n",
       "  </tbody>\n",
       "</table>\n",
       "<p>145006 rows × 33 columns</p>\n",
       "</div>"
      ],
      "text/plain": [
       "        Period   Frame  Time [s]  Away_Player25_X  Away_Player25_Y  \\\n",
       "0            1       1      0.04          0.90509          0.47462   \n",
       "1            1       2      0.08          0.90494          0.47462   \n",
       "2            1       3      0.12          0.90434          0.47463   \n",
       "3            1       4      0.16          0.90377          0.47463   \n",
       "4            1       5      0.20          0.90324          0.47464   \n",
       "...        ...     ...       ...              ...              ...   \n",
       "145001       2  145002   5800.08          0.12564          0.55386   \n",
       "145002       2  145003   5800.12          0.12564          0.55386   \n",
       "145003       2  145004   5800.16          0.12564          0.55386   \n",
       "145004       2  145005   5800.20          0.12564          0.55386   \n",
       "145005       2  145006   5800.24          0.12564          0.55386   \n",
       "\n",
       "        Away_Player15_X  Away_Player15_Y  Away_Player16_X  Away_Player16_Y  \\\n",
       "0               0.58393          0.20794          0.67658          0.46710   \n",
       "1               0.58393          0.20794          0.67658          0.46710   \n",
       "2               0.58393          0.20794          0.67658          0.46710   \n",
       "3               0.58351          0.20868          0.67640          0.46762   \n",
       "4               0.58291          0.21039          0.67599          0.46769   \n",
       "...                 ...              ...              ...              ...   \n",
       "145001          0.17876          0.56826          0.25818          0.59952   \n",
       "145002          0.17838          0.56727          0.25799          0.59999   \n",
       "145003          0.17792          0.56682          0.25757          0.60019   \n",
       "145004          0.17730          0.56621          0.25721          0.60089   \n",
       "145005          0.17693          0.56675          0.25659          0.60072   \n",
       "\n",
       "        Away_Player17_X  ...  Away_Player24_X  Away_Player24_Y  \\\n",
       "0               0.67310  ...          0.37833          0.27383   \n",
       "1               0.67310  ...          0.37833          0.27383   \n",
       "2               0.67310  ...          0.37833          0.27383   \n",
       "3               0.67279  ...          0.37756          0.27473   \n",
       "4               0.67253  ...          0.37663          0.27543   \n",
       "...                 ...  ...              ...              ...   \n",
       "145001          0.09880  ...              NaN              NaN   \n",
       "145002          0.09880  ...              NaN              NaN   \n",
       "145003          0.09880  ...              NaN              NaN   \n",
       "145004          0.09880  ...              NaN              NaN   \n",
       "145005          0.09880  ...              NaN              NaN   \n",
       "\n",
       "        Away_Player26_X  Away_Player26_Y  Away_Player27_X  Away_Player27_Y  \\\n",
       "0                   NaN              NaN              NaN              NaN   \n",
       "1                   NaN              NaN              NaN              NaN   \n",
       "2                   NaN              NaN              NaN              NaN   \n",
       "3                   NaN              NaN              NaN              NaN   \n",
       "4                   NaN              NaN              NaN              NaN   \n",
       "...                 ...              ...              ...              ...   \n",
       "145001          0.35600          0.55371          0.19836          0.45137   \n",
       "145002          0.35583          0.55283          0.19831          0.45182   \n",
       "145003          0.35561          0.55254          0.19805          0.45200   \n",
       "145004          0.35532          0.55243          0.19766          0.45237   \n",
       "145005          0.35495          0.55364          0.19754          0.45364   \n",
       "\n",
       "        Away_Player28_X  Away_Player28_Y   Ball_X   Ball_Y  \n",
       "0                   NaN              NaN  0.45472  0.38709  \n",
       "1                   NaN              NaN  0.49645  0.40656  \n",
       "2                   NaN              NaN  0.53716  0.42556  \n",
       "3                   NaN              NaN  0.55346  0.42231  \n",
       "4                   NaN              NaN  0.55512  0.40570  \n",
       "...                 ...              ...      ...      ...  \n",
       "145001          0.21798          0.81079      NaN      NaN  \n",
       "145002          0.21798          0.81079      NaN      NaN  \n",
       "145003          0.21798          0.81079      NaN      NaN  \n",
       "145004          0.21798          0.81079      NaN      NaN  \n",
       "145005          0.21798          0.81079      NaN      NaN  \n",
       "\n",
       "[145006 rows x 33 columns]"
      ]
     },
     "execution_count": 292,
     "metadata": {},
     "output_type": "execute_result"
    }
   ],
   "source": [
    "sample_game_1_away = pd.read_csv('data/Sample_Game_1_edited/Sample_Game_1_RawTrackingData_Away_Team_edited.csv')\n",
    "sample_game_1_away"
   ]
  },
  {
   "cell_type": "code",
   "execution_count": 11,
   "id": "c8a33996",
   "metadata": {},
   "outputs": [
    {
     "data": {
      "text/plain": [
       "Type\n",
       "PASS              799\n",
       "RECOVERY          278\n",
       "BALL LOST         257\n",
       "CHALLENGE         233\n",
       "SET PIECE          77\n",
       "BALL OUT           51\n",
       "SHOT               24\n",
       "FAULT RECEIVED     22\n",
       "CARD                4\n",
       "Name: count, dtype: int64"
      ]
     },
     "execution_count": 11,
     "metadata": {},
     "output_type": "execute_result"
    }
   ],
   "source": [
    "sample_game_1_events[\"Type\"].value_counts()"
   ]
  },
  {
   "cell_type": "code",
   "execution_count": 12,
   "id": "37144628",
   "metadata": {},
   "outputs": [
    {
     "data": {
      "text/plain": [
       "Subtype\n",
       "INTERCEPTION              290\n",
       "THEFT                      44\n",
       "HEAD                       37\n",
       "TACKLE-WON                 37\n",
       "FREE KICK                  32\n",
       "TACKLE-LOST                29\n",
       "THROW IN                   28\n",
       "AERIAL-WON                 27\n",
       "GROUND-WON                 26\n",
       "AERIAL-LOST                22\n",
       "GROUND-LOST                21\n",
       "TACKLE-FAULT-LOST          17\n",
       "GOAL KICK                  17\n",
       "TACKLE-FAULT-WON           16\n",
       "CROSS-INTERCEPTION         14\n",
       "CORNER KICK                11\n",
       "CLEARANCE                  11\n",
       "GROUND-FAULT-WON           10\n",
       "OFF TARGET-OUT              9\n",
       "GROUND-FAULT-LOST           8\n",
       "SAVED                       7\n",
       "GROUND                      6\n",
       "KICK OFF                    6\n",
       "GOAL KICK-INTERCEPTION      5\n",
       "HEAD-INTERCEPTION           5\n",
       "ON TARGET-SAVED             5\n",
       "CROSS                       5\n",
       "AERIAL-FAULT-LOST           4\n",
       "AERIAL-FAULT-WON            4\n",
       "YELLOW                      4\n",
       "HEAD-CLEARANCE              4\n",
       "BLOCKED                     3\n",
       "DEEP BALL                   3\n",
       "FORCED                      3\n",
       "HEAD-ON TARGET-SAVED        2\n",
       "ON TARGET-GOAL              2\n",
       "TACKLE-ADVANTAGE-WON        2\n",
       "TACKLE-ADVANTAGE-LOST       2\n",
       "HEAD-OFF TARGET-OUT         2\n",
       "THROUGH BALL-DEEP BALL      1\n",
       "DRIBBLE-WON                 1\n",
       "HEAD-FORCED                 1\n",
       "HEAD-ON TARGET-GOAL         1\n",
       "GROUND-ADVANTAGE-LOST       1\n",
       "END HALF                    1\n",
       "HEAD-WOODWORK-OUT           1\n",
       "WOODWORK-GOAL               1\n",
       "OFFSIDE                     1\n",
       "WOODWORK                    1\n",
       "REFEREE HIT                 1\n",
       "OFF TARGET                  1\n",
       "Name: count, dtype: int64"
      ]
     },
     "execution_count": 12,
     "metadata": {},
     "output_type": "execute_result"
    }
   ],
   "source": [
    "sample_game_1_events[\"Subtype\"].value_counts()"
   ]
  },
  {
   "cell_type": "code",
   "execution_count": 8,
   "id": "6f204f68",
   "metadata": {},
   "outputs": [
    {
     "data": {
      "text/plain": [
       "Index(['Team', 'Type', 'Subtype', 'Period', 'Start Frame', 'Start Time [s]',\n",
       "       'End Frame', 'End Time [s]', 'From', 'To', 'Start X', 'Start Y',\n",
       "       'End X', 'End Y'],\n",
       "      dtype='object')"
      ]
     },
     "execution_count": 8,
     "metadata": {},
     "output_type": "execute_result"
    }
   ],
   "source": [
    "sample_game_1_events.columns"
   ]
  },
  {
   "cell_type": "code",
   "execution_count": 6,
   "id": "21755e29",
   "metadata": {},
   "outputs": [
    {
     "data": {
      "text/plain": [
       "Index(['Unnamed: 0', 'Unnamed: 1', 'Unnamed: 2', 'Away', 'Unnamed: 4',\n",
       "       'Away.1', 'Unnamed: 6', 'Away.2', 'Unnamed: 8', 'Away.3', 'Unnamed: 10',\n",
       "       'Away.4', 'Unnamed: 12', 'Away.5', 'Unnamed: 14', 'Away.6',\n",
       "       'Unnamed: 16', 'Away.7', 'Unnamed: 18', 'Away.8', 'Unnamed: 20',\n",
       "       'Away.9', 'Unnamed: 22', 'Away.10', 'Unnamed: 24', 'Away.11',\n",
       "       'Unnamed: 26', 'Away.12', 'Unnamed: 28', 'Away.13', 'Unnamed: 30',\n",
       "       'Away.14', 'Unnamed: 32'],\n",
       "      dtype='object')"
      ]
     },
     "execution_count": 6,
     "metadata": {},
     "output_type": "execute_result"
    }
   ],
   "source": [
    "sample_game_1_away.columns"
   ]
  },
  {
   "cell_type": "code",
   "execution_count": 7,
   "id": "7122e1ef",
   "metadata": {},
   "outputs": [
    {
     "data": {
      "text/plain": [
       "Index(['Unnamed: 0', 'Unnamed: 1', 'Unnamed: 2', 'Home', 'Unnamed: 4',\n",
       "       'Home.1', 'Unnamed: 6', 'Home.2', 'Unnamed: 8', 'Home.3', 'Unnamed: 10',\n",
       "       'Home.4', 'Unnamed: 12', 'Home.5', 'Unnamed: 14', 'Home.6',\n",
       "       'Unnamed: 16', 'Home.7', 'Unnamed: 18', 'Home.8', 'Unnamed: 20',\n",
       "       'Home.9', 'Unnamed: 22', 'Home.10', 'Unnamed: 24', 'Home.11',\n",
       "       'Unnamed: 26', 'Home.12', 'Unnamed: 28', 'Home.13', 'Unnamed: 30',\n",
       "       'Unnamed: 31', 'Unnamed: 32'],\n",
       "      dtype='object')"
      ]
     },
     "execution_count": 7,
     "metadata": {},
     "output_type": "execute_result"
    }
   ],
   "source": [
    "sample_game_1_home.columns"
   ]
  },
  {
   "cell_type": "code",
   "execution_count": 27,
   "id": "8d2d9cd2",
   "metadata": {},
   "outputs": [
    {
     "data": {
      "text/plain": [
       "array([<Axes: >, <Axes: >], dtype=object)"
      ]
     },
     "execution_count": 27,
     "metadata": {},
     "output_type": "execute_result"
    },
    {
     "data": {
      "image/png": "[encoded data removed]",
      "text/plain": [
       "<Figure size 640x480 with 2 Axes>"
      ]
     },
     "metadata": {},
     "output_type": "display_data"
    }
   ],
   "source": [
    "sample_game_1_events[[\"Start X\",\"Start Y\"]].plot(subplots=True)"
   ]
  },
  {
   "cell_type": "code",
   "execution_count": 39,
   "id": "cedd244c",
   "metadata": {},
   "outputs": [
    {
     "data": {
      "text/plain": [
       "<Axes: xlabel='Team'>"
      ]
     },
     "execution_count": 39,
     "metadata": {},
     "output_type": "execute_result"
    },
    {
     "data": {
      "image/png": "[encoded data removed]",
      "text/plain": [
       "<Figure size 640x480 with 1 Axes>"
      ]
     },
     "metadata": {},
     "output_type": "display_data"
    }
   ],
   "source": [
    "sample_game_1_events[\"Start X\"].groupby(sample_game_1_events[\"Team\"]).mean().plot()"
   ]
  },
  {
   "cell_type": "code",
   "execution_count": 37,
   "id": "b3980b62",
   "metadata": {},
   "outputs": [
    {
     "data": {
      "text/plain": [
       "0.5310114942528736"
      ]
     },
     "execution_count": 37,
     "metadata": {},
     "output_type": "execute_result"
    }
   ],
   "source": [
    "startx_avg_home = sample_game_1_events[\"Start X\"].loc[sample_game_1_events[\"Team\"] == \"Home\"].mean()\n",
    "startx_avg_home"
   ]
  },
  {
   "cell_type": "code",
   "execution_count": 40,
   "id": "53bb5685",
   "metadata": {},
   "outputs": [
    {
     "data": {
      "text/plain": [
       "0.522896725440806"
      ]
     },
     "execution_count": 40,
     "metadata": {},
     "output_type": "execute_result"
    }
   ],
   "source": [
    "startx_avg_away = sample_game_1_events[\"Start X\"].loc[sample_game_1_events[\"Team\"] == \"Away\"].mean()\n",
    "startx_avg_away"
   ]
  },
  {
   "cell_type": "code",
   "execution_count": 41,
   "id": "78a4ff5b",
   "metadata": {},
   "outputs": [
    {
     "data": {
      "text/plain": [
       "0.5018275862068966"
      ]
     },
     "execution_count": 41,
     "metadata": {},
     "output_type": "execute_result"
    }
   ],
   "source": [
    "starty_avg_home = sample_game_1_events[\"Start Y\"].loc[sample_game_1_events[\"Team\"] == \"Home\"].mean()\n",
    "starty_avg_home"
   ]
  },
  {
   "cell_type": "code",
   "execution_count": 42,
   "id": "357668ac",
   "metadata": {},
   "outputs": [
    {
     "data": {
      "text/plain": [
       "0.503287153652393"
      ]
     },
     "execution_count": 42,
     "metadata": {},
     "output_type": "execute_result"
    }
   ],
   "source": [
    "starty_avg_away = sample_game_1_events[\"Start Y\"].loc[sample_game_1_events[\"Team\"] == \"Away\"].mean()\n",
    "starty_avg_away"
   ]
  },
  {
   "cell_type": "code",
   "execution_count": 51,
   "id": "fb89f63f",
   "metadata": {},
   "outputs": [
    {
     "data": {
      "text/plain": [
       "{'Home Start X': 0.5310114942528736,\n",
       " 'Home Start Y': 0.5018275862068966,\n",
       " 'Away Start X': 0.522896725440806,\n",
       " 'Away Start Y': 0.503287153652393}"
      ]
     },
     "execution_count": 51,
     "metadata": {},
     "output_type": "execute_result"
    }
   ],
   "source": [
    "XY_avg = {\n",
    "    \"Home Start X\": startx_avg_home,\n",
    "    \"Home Start Y\": starty_avg_home,\n",
    "    \"Away Start X\": startx_avg_away,\n",
    "    \"Away Start Y\": starty_avg_away\n",
    "}\n",
    "XY_avg"
   ]
  },
  {
   "cell_type": "code",
   "execution_count": 63,
   "id": "b4171e27",
   "metadata": {},
   "outputs": [
    {
     "data": {
      "image/png": "[encoded data removed]",
      "text/plain": [
       "<Figure size 640x480 with 1 Axes>"
      ]
     },
     "metadata": {},
     "output_type": "display_data"
    }
   ],
   "source": [
    "# Create a scatter plot\n",
    "plt.scatter(startx_avg_away, starty_avg_away, label='Away Team', color='blue', marker='o')\n",
    "plt.scatter(startx_avg_home, starty_avg_home, label='Home Team', color='red', marker='o')\n",
    "\n",
    "# Set labels and title\n",
    "plt.xlabel('Horizontal Position')\n",
    "plt.ylabel('Vertical Position')\n",
    "plt.title('Average Starting Position per Team')\n",
    "\n",
    "# Add values as text annotations for each data point\n",
    "for x, y in zip(x_values, y_values):\n",
    "    plt.text(x, y, f'({round(x, 2)}, {round(y, 2)})', fontsize=8, ha='left', va='bottom', color='black')\n",
    "\n",
    "# Set axis boundaries\n",
    "plt.xlim(0.25,0.75)\n",
    "plt.ylim(0.25,0.75)\n",
    "\n",
    "# Display a legend\n",
    "plt.legend()\n",
    "\n",
    "# Show the plot\n",
    "plt.show()"
   ]
  },
  {
   "cell_type": "code",
   "execution_count": 102,
   "id": "d9e85f3d",
   "metadata": {},
   "outputs": [
    {
     "data": {
      "text/plain": [
       "<Axes: xlabel='Team'>"
      ]
     },
     "execution_count": 102,
     "metadata": {},
     "output_type": "execute_result"
    },
    {
     "data": {
      "image/png": "[encoded data removed]",
      "text/plain": [
       "<Figure size 640x480 with 1 Axes>"
      ]
     },
     "metadata": {},
     "output_type": "display_data"
    }
   ],
   "source": [
    "sample_game_1_events.groupby(sample_game_1_events[\"Team\"]).count().plot(kind=\"bar\")"
   ]
  },
  {
   "cell_type": "code",
   "execution_count": 98,
   "id": "2d80f141",
   "metadata": {},
   "outputs": [
    {
     "name": "stdout",
     "output_type": "stream",
     "text": [
      "Home stats: Type\n",
      "BALL LOST         129\n",
      "BALL OUT           18\n",
      "CARD                2\n",
      "CHALLENGE         118\n",
      "FAULT RECEIVED     15\n",
      "PASS              437\n",
      "RECOVERY          135\n",
      "SET PIECE          45\n",
      "SHOT               18\n",
      "Name: Team, dtype: int64\n",
      "----------\n",
      "Away stats: Type\n",
      "BALL LOST         128\n",
      "BALL OUT           33\n",
      "CARD                2\n",
      "CHALLENGE         115\n",
      "FAULT RECEIVED      7\n",
      "PASS              362\n",
      "RECOVERY          143\n",
      "SET PIECE          32\n",
      "SHOT                6\n",
      "Name: Team, dtype: int64\n"
     ]
    }
   ],
   "source": [
    "home_type = sample_game_1_events[\"Team\"].loc[sample_game_1_events[\"Team\"] == \"Home\"].groupby(sample_game_1_events[\"Type\"]).count()\n",
    "away_type = sample_game_1_events[\"Team\"].loc[sample_game_1_events[\"Team\"] == \"Away\"].groupby(sample_game_1_events[\"Type\"]).count()\n",
    "print(\"Home stats:\", home_type)\n",
    "print(\"----------\")\n",
    "print(\"Away stats:\", away_type)"
   ]
  },
  {
   "cell_type": "code",
   "execution_count": 99,
   "id": "adaff17d",
   "metadata": {},
   "outputs": [
    {
     "data": {
      "text/plain": [
       "[<matplotlib.lines.Line2D at 0x1391f60cf50>]"
      ]
     },
     "execution_count": 99,
     "metadata": {},
     "output_type": "execute_result"
    },
    {
     "data": {
      "image/png": "[encoded data removed]",
      "text/plain": [
       "<Figure size 640x480 with 1 Axes>"
      ]
     },
     "metadata": {},
     "output_type": "display_data"
    }
   ],
   "source": [
    "plt.plot(home_type, away_type)"
   ]
  },
  {
   "cell_type": "code",
   "execution_count": 70,
   "id": "ede142d7",
   "metadata": {},
   "outputs": [
    {
     "data": {
      "text/plain": [
       "<Axes: >"
      ]
     },
     "execution_count": 70,
     "metadata": {},
     "output_type": "execute_result"
    },
    {
     "data": {
      "image/png": "[encoded data removed]",
      "text/plain": [
       "<Figure size 640x480 with 1 Axes>"
      ]
     },
     "metadata": {},
     "output_type": "display_data"
    }
   ],
   "source": [
    "Home_XY_df = sample_game_1_events[['Start X', 'Start Y']].loc[sample_game_1_events['Team'] == \"Home\"]\n",
    "Home_XY_df.count().plot(kind=\"bar\")"
   ]
  },
  {
   "cell_type": "code",
   "execution_count": 16,
   "id": "6116c152",
   "metadata": {
    "scrolled": true
   },
   "outputs": [
    {
     "data": {
      "text/plain": [
       "Subtype\n",
       "INTERCEPTION                   259\n",
       "THEFT                           69\n",
       "TACKLE-LOST                     51\n",
       "GROUND-LOST                     48\n",
       "GROUND-WON                      43\n",
       "HEAD                            41\n",
       "TACKLE-WON                      37\n",
       "AERIAL-WON                      35\n",
       "THROW IN                        32\n",
       "AERIAL-LOST                     30\n",
       "FREE KICK                       30\n",
       "GROUND-FAULT-LOST               17\n",
       "HEAD-INTERCEPTION               15\n",
       "GOAL KICK                       12\n",
       "GROUND-FAULT-WON                11\n",
       "TACKLE-FAULT-WON                 9\n",
       "CROSS-INTERCEPTION               8\n",
       "CROSS                            8\n",
       "KICK OFF                         7\n",
       "CORNER KICK                      7\n",
       "CLEARANCE                        7\n",
       "SAVED                            6\n",
       "FORCED                           6\n",
       "YELLOW                           6\n",
       "ON TARGET-SAVED                  6\n",
       "TACKLE-FAULT-LOST                6\n",
       "BLOCKED                          5\n",
       "HEAD-OFF TARGET-OUT              5\n",
       "OFF TARGET-OUT                   5\n",
       "GROUND                           4\n",
       "ON TARGET-GOAL                   4\n",
       "GOAL KICK-INTERCEPTION           4\n",
       "GROUND-ADVANTAGE-LOST            4\n",
       "AERIAL-FAULT-LOST                4\n",
       "HAND BALL                        3\n",
       "GROUND-ADVANTAGE-WON             3\n",
       "TACKLE-ADVANTAGE-WON             3\n",
       "AERIAL-FAULT-WON                 3\n",
       "FREE KICK-RETAKEN                2\n",
       "OFFSIDE                          1\n",
       "DEEP BALL                        1\n",
       "FAULT-WON                        1\n",
       "OFF TARGET-HEAD-OUT              1\n",
       "FORCED-END HALF                  1\n",
       "KICK OFF-RETAKEN                 1\n",
       "HEAD-ON TARGET-GOAL              1\n",
       "HEAD-INTERCEPTION-CLEARANCE      1\n",
       "TACKLE-ADVANTAGE-LOST            1\n",
       "HEAD-CLEARANCE                   1\n",
       "PENALTY                          1\n",
       "DRIBBLE-WON                      1\n",
       "CLEARANCE-INTERCEPTION           1\n",
       "Name: count, dtype: int64"
      ]
     },
     "execution_count": 16,
     "metadata": {},
     "output_type": "execute_result"
    }
   ],
   "source": [
    "sample_game_2_events = pd.read_csv('data/Sample_Game_2/Sample_Game_2_RawEventsData.csv')\n",
    "sample_game_2_events[\"Subtype\"].value_counts()"
   ]
  },
  {
   "cell_type": "markdown",
   "id": "aad45960",
   "metadata": {},
   "source": [
    "Created 3 columns to calculate distance run. Utilized Start X and Start Y for starting coordinates, and Start Y and End Y to calculate final coordinates for that particular frame. Used pythagoreum theorem to calculate \"hypotenuse\" distance traveled, creating new column called \"Distance Z\".\n",
    "\n",
    "Compared Home and Away teams distance run by period (e.g., first half / second half). Both teams ran similar distances in the first half, but the Home team ran much more in the second half. Possible explanations could be:\n",
    "1) Away team became fatigued during the second half\n",
    "2) Away team was leading and wanted to protect its lead by playing more defensively (thus not running as far upfield), whereas Home team would need to attack more often to catch up (thus running more)"
   ]
  },
  {
   "cell_type": "code",
   "execution_count": 111,
   "id": "4e4530c9",
   "metadata": {
    "scrolled": true
   },
   "outputs": [
    {
     "name": "stdout",
     "output_type": "stream",
     "text": [
      "Total distance run: 121.79\n",
      "Total home team distance run: 64.30000000000001\n",
      "Total away team distance run: 57.489999999999995\n"
     ]
    }
   ],
   "source": [
    "sample_game_1_events[\"Distance X\"] = abs(sample_game_1_events[\"Start X\"] - sample_game_1_events[\"End X\"])\n",
    "print(f\"Total distance run:\",sample_game_1_events[\"Distance X\"].sum())\n",
    "print(f\"Total home team distance run:\",sample_game_1_events[\"Distance X\"].loc[sample_game_1_events[\"Team\"] == \"Home\"].sum())\n",
    "print(f\"Total away team distance run:\",sample_game_1_events[\"Distance X\"].loc[sample_game_1_events[\"Team\"] == \"Away\"].sum())"
   ]
  },
  {
   "cell_type": "code",
   "execution_count": 112,
   "id": "5ab18731",
   "metadata": {},
   "outputs": [
    {
     "name": "stdout",
     "output_type": "stream",
     "text": [
      "Total distance run: 189.86\n",
      "Total home team distance run: 99.79999999999998\n",
      "Total away team distance run: 90.06\n"
     ]
    }
   ],
   "source": [
    "sample_game_1_events[\"Distance Y\"] = abs(sample_game_1_events[\"Start Y\"] - sample_game_1_events[\"End Y\"])\n",
    "print(f\"Total distance run:\",sample_game_1_events[\"Distance Y\"].sum())\n",
    "print(f\"Total home team distance run:\",sample_game_1_events[\"Distance Y\"].loc[sample_game_1_events[\"Team\"] == \"Home\"].sum())\n",
    "print(f\"Total away team distance run:\",sample_game_1_events[\"Distance Y\"].loc[sample_game_1_events[\"Team\"] == \"Away\"].sum())"
   ]
  },
  {
   "cell_type": "code",
   "execution_count": 113,
   "id": "3c60a36e",
   "metadata": {},
   "outputs": [
    {
     "name": "stdout",
     "output_type": "stream",
     "text": [
      "Total distance run: 247.17785287821508\n",
      "Total home team distance run: 130.03019136897615\n",
      "Total away team distance run: 117.14766150923892\n"
     ]
    }
   ],
   "source": [
    "sample_game_1_events[\"Distance Z\"] = np.sqrt(((sample_game_1_events[\"End X\"] - sample_game_1_events[\"Start X\"]) ** 2) + ((sample_game_1_events[\"End Y\"] - sample_game_1_events[\"Start Y\"]) ** 2))\n",
    "print(f\"Total distance run:\",sample_game_1_events[\"Distance Z\"].sum())\n",
    "print(f\"Total home team distance run:\",sample_game_1_events[\"Distance Z\"].loc[sample_game_1_events[\"Team\"] == \"Home\"].sum())\n",
    "print(f\"Total away team distance run:\",sample_game_1_events[\"Distance Z\"].loc[sample_game_1_events[\"Team\"] == \"Away\"].sum())"
   ]
  },
  {
   "cell_type": "code",
   "execution_count": 185,
   "id": "8c80c49b",
   "metadata": {},
   "outputs": [
    {
     "data": {
      "text/plain": [
       "Period  Team\n",
       "1       Away    60.325063\n",
       "        Home    59.118494\n",
       "2       Away    56.822599\n",
       "        Home    70.911697\n",
       "Name: Distance Z, dtype: float64"
      ]
     },
     "execution_count": 185,
     "metadata": {},
     "output_type": "execute_result"
    }
   ],
   "source": [
    "distance_run_by_half_team = sample_game_1_events[\"Distance Z\"].groupby([sample_game_1_events[\"Period\"],sample_game_1_events[\"Team\"]]).sum()\n",
    "distance_run_by_half_team"
   ]
  },
  {
   "cell_type": "code",
   "execution_count": 192,
   "id": "99536496",
   "metadata": {},
   "outputs": [
    {
     "data": {
      "text/plain": [
       "<Axes: title={'center': 'Distance Run'}, xlabel='Period,Team'>"
      ]
     },
     "execution_count": 192,
     "metadata": {},
     "output_type": "execute_result"
    },
    {
     "data": {
      "image/png": "[encoded data removed]",
      "text/plain": [
       "<Figure size 640x480 with 1 Axes>"
      ]
     },
     "metadata": {},
     "output_type": "display_data"
    }
   ],
   "source": [
    "sample_game_1_events[\"Distance Z\"].groupby([sample_game_1_events[\"Period\"],sample_game_1_events[\"Team\"]]).sum().plot(kind=\"bar\", title = \"Distance Run\")"
   ]
  },
  {
   "cell_type": "markdown",
   "id": "a648b62c",
   "metadata": {},
   "source": [
    "Possession Time"
   ]
  },
  {
   "cell_type": "code",
   "execution_count": 193,
   "id": "74fab65e",
   "metadata": {},
   "outputs": [
    {
     "data": {
      "text/plain": [
       "Index(['Team', 'Type', 'Subtype', 'Period', 'Start Frame', 'Start Time [s]',\n",
       "       'End Frame', 'End Time [s]', 'From', 'To', 'Start X', 'Start Y',\n",
       "       'End X', 'End Y', 'Distance X', 'Distance Y', 'Distance Z',\n",
       "       'Time Held [s]'],\n",
       "      dtype='object')"
      ]
     },
     "execution_count": 193,
     "metadata": {},
     "output_type": "execute_result"
    }
   ],
   "source": [
    "sample_game_1_events[\"Time Held [s]\"] = sample_game_1_events[\"End Time [s]\"] - sample_game_1_events[\"Start Time [s]\"]\n",
    "sample_game_1_events.columns"
   ]
  },
  {
   "cell_type": "code",
   "execution_count": 194,
   "id": "7eae127b",
   "metadata": {},
   "outputs": [
    {
     "data": {
      "text/plain": [
       "Period  Team\n",
       "1       Away    422.72\n",
       "        Home    412.12\n",
       "2       Away    346.04\n",
       "        Home    462.44\n",
       "Name: Time Held [s], dtype: float64"
      ]
     },
     "execution_count": 194,
     "metadata": {},
     "output_type": "execute_result"
    }
   ],
   "source": [
    "time_held_by_half_team = sample_game_1_events[\"Time Held [s]\"].groupby([sample_game_1_events[\"Period\"],sample_game_1_events[\"Team\"]]).sum()\n",
    "time_held_by_half_team"
   ]
  },
  {
   "cell_type": "code",
   "execution_count": 195,
   "id": "f873f7f0",
   "metadata": {},
   "outputs": [
    {
     "data": {
      "text/plain": [
       "<Axes: title={'center': 'Time Held [s]'}, xlabel='Period,Team'>"
      ]
     },
     "execution_count": 195,
     "metadata": {},
     "output_type": "execute_result"
    },
    {
     "data": {
      "image/png": "[encoded data removed]",
      "text/plain": [
       "<Figure size 640x480 with 1 Axes>"
      ]
     },
     "metadata": {},
     "output_type": "display_data"
    }
   ],
   "source": [
    "sample_game_1_events[\"Time Held [s]\"].groupby([sample_game_1_events[\"Period\"],sample_game_1_events[\"Team\"]]).sum().plot(kind=\"bar\", title = \"Time Held [s]\")"
   ]
  },
  {
   "cell_type": "markdown",
   "id": "f3442786",
   "metadata": {},
   "source": [
    "Correlation\n",
    "\n",
    "A slightly unexpected correlation exists between Distance Run and Time Held onto the ball. The reason this is somewhat unexpected is due to the scenarios described as explanations for the difference in Distance Run between the two teams. Both explanations (#1 and #2) would imply that the team holding the ball more would be the one running less, but this correlation matrix runs counter to that notion.\n",
    "\n",
    "A key consideration is that this dataset only includes particular events and not the entire match. Further analysis on the full game data would be needed for a better conclusion."
   ]
  },
  {
   "cell_type": "code",
   "execution_count": 196,
   "id": "5105ed36",
   "metadata": {},
   "outputs": [
    {
     "data": {
      "text/html": [
       "<div>\n",
       "<style scoped>\n",
       "    .dataframe tbody tr th:only-of-type {\n",
       "        vertical-align: middle;\n",
       "    }\n",
       "\n",
       "    .dataframe tbody tr th {\n",
       "        vertical-align: top;\n",
       "    }\n",
       "\n",
       "    .dataframe thead th {\n",
       "        text-align: right;\n",
       "    }\n",
       "</style>\n",
       "<table border=\"1\" class=\"dataframe\">\n",
       "  <thead>\n",
       "    <tr style=\"text-align: right;\">\n",
       "      <th></th>\n",
       "      <th>Distance Z</th>\n",
       "      <th>Time Held [s]</th>\n",
       "    </tr>\n",
       "  </thead>\n",
       "  <tbody>\n",
       "    <tr>\n",
       "      <th>Distance Z</th>\n",
       "      <td>1.000000</td>\n",
       "      <td>0.726153</td>\n",
       "    </tr>\n",
       "    <tr>\n",
       "      <th>Time Held [s]</th>\n",
       "      <td>0.726153</td>\n",
       "      <td>1.000000</td>\n",
       "    </tr>\n",
       "  </tbody>\n",
       "</table>\n",
       "</div>"
      ],
      "text/plain": [
       "               Distance Z  Time Held [s]\n",
       "Distance Z       1.000000       0.726153\n",
       "Time Held [s]    0.726153       1.000000"
      ]
     },
     "execution_count": 196,
     "metadata": {},
     "output_type": "execute_result"
    }
   ],
   "source": [
    "sample_game_1_events[[\"Distance Z\", \"Time Held [s]\"]].corr()"
   ]
  },
  {
   "cell_type": "code",
   "execution_count": 221,
   "id": "827b3bb1",
   "metadata": {
    "scrolled": true
   },
   "outputs": [
    {
     "data": {
      "text/plain": [
       "<Axes: >"
      ]
     },
     "execution_count": 221,
     "metadata": {},
     "output_type": "execute_result"
    },
    {
     "data": {
      "image/png": "[encoded data removed]",
      "text/plain": [
       "<Figure size 640x480 with 2 Axes>"
      ]
     },
     "metadata": {},
     "output_type": "display_data"
    }
   ],
   "source": [
    "sns.heatmap(sample_game_1_events[[\"Distance Z\", \"Time Held [s]\"]].corr(), cmap = 'coolwarm', vmin=-1, vmax=1)"
   ]
  },
  {
   "cell_type": "markdown",
   "id": "1634825c",
   "metadata": {},
   "source": [
    "Player Stats"
   ]
  },
  {
   "cell_type": "code",
   "execution_count": 198,
   "id": "f069eef1",
   "metadata": {},
   "outputs": [
    {
     "data": {
      "text/plain": [
       "From      Team\n",
       "Player2   Home    115.64\n",
       "Player21  Away    110.64\n",
       "Player3   Home     91.96\n",
       "Player19  Away     90.88\n",
       "Player4   Home     90.80\n",
       "Player7   Home     85.80\n",
       "Player16  Away     85.44\n",
       "Player11  Home     84.40\n",
       "Player6   Home     83.32\n",
       "Player17  Away     81.44\n",
       "Player12  Home     77.68\n",
       "Player22  Away     72.24\n",
       "Player25  Away     71.12\n",
       "Player15  Away     70.76\n",
       "Player8   Home     66.84\n",
       "Player18  Away     58.80\n",
       "Player20  Away     58.08\n",
       "Player10  Home     54.88\n",
       "Player5   Home     47.36\n",
       "Player9   Home     31.84\n",
       "Player23  Away     21.72\n",
       "Player1   Home     21.56\n",
       "Player27  Away     20.12\n",
       "Player14  Home     16.20\n",
       "Player28  Away     13.88\n",
       "Player24  Away      8.72\n",
       "Player13  Home      6.28\n",
       "Player26  Away      4.92\n",
       "Name: Time Held [s], dtype: float64"
      ]
     },
     "execution_count": 198,
     "metadata": {},
     "output_type": "execute_result"
    }
   ],
   "source": [
    "sample_game_1_events[\"Time Held [s]\"].groupby([sample_game_1_events[\"From\"],sample_game_1_events[\"Team\"]]).sum().sort_values(ascending = False)"
   ]
  },
  {
   "cell_type": "code",
   "execution_count": 314,
   "id": "1efd579e",
   "metadata": {},
   "outputs": [
    {
     "data": {
      "text/plain": [
       "<Axes: title={'center': 'Amount of Time Ball Held by Player per Event'}, xlabel='From,Team'>"
      ]
     },
     "execution_count": 314,
     "metadata": {},
     "output_type": "execute_result"
    },
    {
     "data": {
      "image/png": "[encoded data removed]",
      "text/plain": [
       "<Figure size 640x480 with 1 Axes>"
      ]
     },
     "metadata": {},
     "output_type": "display_data"
    }
   ],
   "source": [
    "sample_game_1_events[\"Time Held [s]\"].groupby([sample_game_1_events[\"From\"],sample_game_1_events[\"Team\"]]).sum().sort_values(ascending = False).plot(kind=\"bar\", title = \"Amount of Time Ball Held by Player per Event\")"
   ]
  },
  {
   "cell_type": "code",
   "execution_count": 200,
   "id": "b54e22a3",
   "metadata": {},
   "outputs": [
    {
     "data": {
      "text/plain": [
       "From      Team\n",
       "Player21  Away    66\n",
       "Player12  Home    53\n",
       "Player7   Home    52\n",
       "Player6   Home    48\n",
       "Player4   Home    47\n",
       "Player2   Home    44\n",
       "Player3   Home    41\n",
       "Player16  Away    40\n",
       "Player19  Away    39\n",
       "Player17  Away    39\n",
       "Player20  Away    35\n",
       "Player5   Home    34\n",
       "Player22  Away    32\n",
       "Player15  Away    31\n",
       "Player8   Home    31\n",
       "Player10  Home    28\n",
       "Player18  Away    24\n",
       "Player9   Home    19\n",
       "Player25  Away    19\n",
       "Player11  Home    17\n",
       "Player23  Away    13\n",
       "Player27  Away    12\n",
       "Player14  Home     8\n",
       "Player1   Home     8\n",
       "Player13  Home     7\n",
       "Player28  Away     6\n",
       "Player24  Away     5\n",
       "Player26  Away     1\n",
       "Name: From, dtype: int64"
      ]
     },
     "execution_count": 200,
     "metadata": {},
     "output_type": "execute_result"
    }
   ],
   "source": [
    "sample_game_1_events[\"From\"].loc[sample_game_1_events[\"Type\"] == \"PASS\"].groupby([sample_game_1_events[\"From\"],sample_game_1_events[\"Team\"]]).count().sort_values(ascending=False)"
   ]
  },
  {
   "cell_type": "code",
   "execution_count": 312,
   "id": "13a2fce8",
   "metadata": {},
   "outputs": [
    {
     "data": {
      "text/plain": [
       "<Axes: title={'center': 'Number of Passes per Player'}, xlabel='From,Team'>"
      ]
     },
     "execution_count": 312,
     "metadata": {},
     "output_type": "execute_result"
    },
    {
     "data": {
      "image/png": "[encoded data removed]",
      "text/plain": [
       "<Figure size 640x480 with 1 Axes>"
      ]
     },
     "metadata": {},
     "output_type": "display_data"
    }
   ],
   "source": [
    "sample_game_1_events[\"From\"].loc[sample_game_1_events[\"Type\"] == \"PASS\"].groupby([sample_game_1_events[\"From\"],sample_game_1_events[\"Team\"]]).count().sort_values(ascending=False).plot(kind=\"bar\", title = \"Number of Passes per Player\")"
   ]
  },
  {
   "cell_type": "markdown",
   "id": "faa369de",
   "metadata": {},
   "source": [
    "Shot Distances"
   ]
  },
  {
   "cell_type": "code",
   "execution_count": 202,
   "id": "406015e4",
   "metadata": {},
   "outputs": [
    {
     "data": {
      "text/plain": [
       "Team\n",
       "Home    18\n",
       "Away     6\n",
       "Name: Distance Z, dtype: int64"
      ]
     },
     "execution_count": 202,
     "metadata": {},
     "output_type": "execute_result"
    }
   ],
   "source": [
    "sample_game_1_events[\"Distance Z\"].loc[sample_game_1_events[\"Type\"] == \"SHOT\"].groupby(sample_game_1_events[\"Team\"]).count().sort_values(ascending=False)"
   ]
  },
  {
   "cell_type": "code",
   "execution_count": 203,
   "id": "1e442c3f",
   "metadata": {},
   "outputs": [
    {
     "data": {
      "text/plain": [
       "Team\n",
       "Away    0.256299\n",
       "Home    0.181871\n",
       "Name: Distance Z, dtype: float64"
      ]
     },
     "execution_count": 203,
     "metadata": {},
     "output_type": "execute_result"
    }
   ],
   "source": [
    "sample_game_1_events[\"Distance Z\"].loc[sample_game_1_events[\"Type\"] == \"SHOT\"].groupby(sample_game_1_events[\"Team\"]).mean().sort_values(ascending=False)"
   ]
  },
  {
   "cell_type": "code",
   "execution_count": 204,
   "id": "deca67e0",
   "metadata": {},
   "outputs": [
    {
     "data": {
      "text/plain": [
       "<Axes: title={'center': 'Average Distance of Shot'}, xlabel='Team'>"
      ]
     },
     "execution_count": 204,
     "metadata": {},
     "output_type": "execute_result"
    },
    {
     "data": {
      "image/png": "[encoded data removed]",
      "text/plain": [
       "<Figure size 640x480 with 1 Axes>"
      ]
     },
     "metadata": {},
     "output_type": "display_data"
    }
   ],
   "source": [
    "sample_game_1_events[\"Distance Z\"].loc[sample_game_1_events[\"Type\"] == \"SHOT\"].groupby(sample_game_1_events[\"Team\"]).mean().sort_values(ascending=False).plot(kind=\"bar\", title = \"Average Distance of Shot\")"
   ]
  },
  {
   "cell_type": "code",
   "execution_count": 205,
   "id": "f6b14fdc",
   "metadata": {},
   "outputs": [
    {
     "data": {
      "text/plain": [
       "Team\n",
       "Away    0.214321\n",
       "Home    0.103362\n",
       "Name: Distance Z, dtype: float64"
      ]
     },
     "execution_count": 205,
     "metadata": {},
     "output_type": "execute_result"
    }
   ],
   "source": [
    "on_target_columns_to_search = [\"HEAD-ON TARGET-GOAL\", \"ON TARGET-SAVED\", \"HEAD-ON TARGET-SAVED\", \"ON TARGET-GOAL\"]\n",
    "sample_game_1_events[\"Distance Z\"].loc[sample_game_1_events[\"Subtype\"].isin(on_target_columns_to_search)].groupby(sample_game_1_events[\"Team\"]).mean()"
   ]
  },
  {
   "cell_type": "code",
   "execution_count": 223,
   "id": "2f0405db",
   "metadata": {},
   "outputs": [
    {
     "data": {
      "text/plain": [
       "<Axes: title={'center': 'Average Distance of On Target Shot'}, xlabel='Team'>"
      ]
     },
     "execution_count": 223,
     "metadata": {},
     "output_type": "execute_result"
    },
    {
     "data": {
      "image/png": "[encoded data removed]",
      "text/plain": [
       "<Figure size 640x480 with 1 Axes>"
      ]
     },
     "metadata": {},
     "output_type": "display_data"
    }
   ],
   "source": [
    "sample_game_1_events[\"Distance Z\"].loc[sample_game_1_events[\"Subtype\"].isin(on_target_columns_to_search)].groupby(sample_game_1_events[\"Team\"]).mean().plot(kind=\"bar\", title = \"Average Distance of On Target Shot\")"
   ]
  },
  {
   "cell_type": "code",
   "execution_count": 207,
   "id": "c43ed7b6",
   "metadata": {},
   "outputs": [
    {
     "data": {
      "text/plain": [
       "Team\n",
       "Away    0.298277\n",
       "Home    0.231831\n",
       "Name: Distance Z, dtype: float64"
      ]
     },
     "execution_count": 207,
     "metadata": {},
     "output_type": "execute_result"
    }
   ],
   "source": [
    "off_target_columns_to_search = [\"BLOCKED\", \"HEAD-OFF TARGET-OUT\", \"HEAD-WOODWORK-OUT\", \"OFF TARGET-OUT\",\"OFF TARGET\"]\n",
    "sample_game_1_events[\"Distance Z\"].loc[sample_game_1_events[\"Subtype\"].isin(off_target_columns_to_search)].groupby(sample_game_1_events[\"Team\"]).mean()"
   ]
  },
  {
   "cell_type": "code",
   "execution_count": 222,
   "id": "0bccb31f",
   "metadata": {},
   "outputs": [
    {
     "data": {
      "text/plain": [
       "<Axes: title={'center': 'Average Distance of Off Target Shot'}, xlabel='Team'>"
      ]
     },
     "execution_count": 222,
     "metadata": {},
     "output_type": "execute_result"
    },
    {
     "data": {
      "image/png": "[encoded data removed]",
      "text/plain": [
       "<Figure size 640x480 with 1 Axes>"
      ]
     },
     "metadata": {},
     "output_type": "display_data"
    }
   ],
   "source": [
    "sample_game_1_events[\"Distance Z\"].loc[sample_game_1_events[\"Subtype\"].isin(off_target_columns_to_search)].groupby(sample_game_1_events[\"Team\"]).mean().plot(kind=\"bar\", title = \"Average Distance of Off Target Shot\")"
   ]
  },
  {
   "cell_type": "code",
   "execution_count": 224,
   "id": "f5e04969",
   "metadata": {},
   "outputs": [
    {
     "data": {
      "text/plain": [
       "Team\n",
       "Home    0.135453\n",
       "Name: Distance Z, dtype: float64"
      ]
     },
     "execution_count": 224,
     "metadata": {},
     "output_type": "execute_result"
    }
   ],
   "source": [
    "goal_columns_to_search = [\"HEAD-ON TARGET-GOAL\", \"ON TARGET-GOAL\"]\n",
    "sample_game_1_events[\"Distance Z\"].loc[sample_game_1_events[\"Subtype\"].isin(goal_columns_to_search)].groupby(sample_game_1_events[\"Team\"]).mean()"
   ]
  },
  {
   "cell_type": "code",
   "execution_count": 227,
   "id": "2b5f9ee5",
   "metadata": {},
   "outputs": [
    {
     "data": {
      "text/plain": [
       "Team\n",
       "Home    3\n",
       "Name: Distance Z, dtype: int64"
      ]
     },
     "execution_count": 227,
     "metadata": {},
     "output_type": "execute_result"
    }
   ],
   "source": [
    "sample_game_1_events[\"Distance Z\"].loc[sample_game_1_events[\"Subtype\"].isin(goal_columns_to_search)].groupby(sample_game_1_events[\"Team\"]).count()"
   ]
  },
  {
   "cell_type": "code",
   "execution_count": 226,
   "id": "72085a75",
   "metadata": {},
   "outputs": [
    {
     "data": {
      "text/plain": [
       "<Axes: title={'center': 'Average Distance of Goals'}, xlabel='Team'>"
      ]
     },
     "execution_count": 226,
     "metadata": {},
     "output_type": "execute_result"
    },
    {
     "data": {
      "image/png": "[encoded data removed]",
      "text/plain": [
       "<Figure size 640x480 with 1 Axes>"
      ]
     },
     "metadata": {},
     "output_type": "display_data"
    }
   ],
   "source": [
    "sample_game_1_events[\"Distance Z\"].loc[sample_game_1_events[\"Subtype\"].isin(goal_columns_to_search)].groupby(sample_game_1_events[\"Team\"]).mean().plot(kind=\"bar\", title = \"Average Distance of Goals\")"
   ]
  },
  {
   "cell_type": "markdown",
   "id": "4d2e82d1",
   "metadata": {},
   "source": [
    "Home Dataset"
   ]
  },
  {
   "cell_type": "code",
   "execution_count": 230,
   "id": "43e79b7c",
   "metadata": {},
   "outputs": [
    {
     "data": {
      "text/plain": [
       "Index(['Period', 'Frame', 'Time [s]', 'Home_Player11_X', 'Home_Player11_Y',\n",
       "       'Home_Player1_X', 'Home_Player1_Y', 'Home_Player2_X', 'Home_Player2_Y',\n",
       "       'Home_Player3_X', 'Home_Player3_Y', 'Home_Player4_X', 'Home_Player4_Y',\n",
       "       'Home_Player5_X', 'Home_Player5_Y', 'Home_Player6_X', 'Home_Player6_Y',\n",
       "       'Home_Player7_X', 'Home_Player7_Y', 'Home_Player8_X', 'Home_Player8_Y',\n",
       "       'Home_Player9_X', 'Home_Player9_Y', 'Home_Player10_X',\n",
       "       'Home_Player10_Y', 'Home_Player12_X', 'Home_Player12_Y',\n",
       "       'Home_Player13_X', 'Home_Player13_Y', 'Home_Player14_X',\n",
       "       'Home_Player14_Y', 'Ball_X', 'Ball_Y'],\n",
       "      dtype='object')"
      ]
     },
     "execution_count": 230,
     "metadata": {},
     "output_type": "execute_result"
    }
   ],
   "source": [
    "sample_game_1_home.columns"
   ]
  },
  {
   "cell_type": "code",
   "execution_count": 234,
   "id": "52a5eda1",
   "metadata": {},
   "outputs": [],
   "source": [
    "for i in range(1, 15):  # Assuming players are numbered from 1 to 14\n",
    "    player_x_col = f'Home_Player{i}_X'\n",
    "    player_y_col = f'Home_Player{i}_Y'\n",
    "    distance_col = f'Distance_Home_Player{i}_to_Ball'\n",
    "    \n",
    "    # Calculate distance using Pythagorean theorem\n",
    "    sample_game_1_home[distance_col] = ((sample_game_1_home[player_x_col] - sample_game_1_home['Ball_X'])**2 + (sample_game_1_home[player_y_col] - sample_game_1_home['Ball_Y'])**2)**0.5"
   ]
  },
  {
   "cell_type": "code",
   "execution_count": 235,
   "id": "2c9d6426",
   "metadata": {
    "scrolled": true
   },
   "outputs": [
    {
     "data": {
      "text/plain": [
       "Index(['Period', 'Frame', 'Time [s]', 'Home_Player11_X', 'Home_Player11_Y',\n",
       "       'Home_Player1_X', 'Home_Player1_Y', 'Home_Player2_X', 'Home_Player2_Y',\n",
       "       'Home_Player3_X', 'Home_Player3_Y', 'Home_Player4_X', 'Home_Player4_Y',\n",
       "       'Home_Player5_X', 'Home_Player5_Y', 'Home_Player6_X', 'Home_Player6_Y',\n",
       "       'Home_Player7_X', 'Home_Player7_Y', 'Home_Player8_X', 'Home_Player8_Y',\n",
       "       'Home_Player9_X', 'Home_Player9_Y', 'Home_Player10_X',\n",
       "       'Home_Player10_Y', 'Home_Player12_X', 'Home_Player12_Y',\n",
       "       'Home_Player13_X', 'Home_Player13_Y', 'Home_Player14_X',\n",
       "       'Home_Player14_Y', 'Ball_X', 'Ball_Y', 'Distance_Home_Player1_to_Ball',\n",
       "       'Distance_Home_Player2_to_Ball', 'Distance_Home_Player3_to_Ball',\n",
       "       'Distance_Home_Player4_to_Ball', 'Distance_Home_Player5_to_Ball',\n",
       "       'Distance_Home_Player6_to_Ball', 'Distance_Home_Player7_to_Ball',\n",
       "       'Distance_Home_Player8_to_Ball', 'Distance_Home_Player9_to_Ball',\n",
       "       'Distance_Home_Player10_to_Ball', 'Distance_Home_Player11_to_Ball',\n",
       "       'Distance_Home_Player12_to_Ball', 'Distance_Home_Player13_to_Ball',\n",
       "       'Distance_Home_Player14_to_Ball'],\n",
       "      dtype='object')"
      ]
     },
     "execution_count": 235,
     "metadata": {},
     "output_type": "execute_result"
    }
   ],
   "source": [
    "sample_game_1_home.columns"
   ]
  },
  {
   "cell_type": "code",
   "execution_count": 236,
   "id": "bcd73166",
   "metadata": {},
   "outputs": [
    {
     "data": {
      "text/html": [
       "<div>\n",
       "<style scoped>\n",
       "    .dataframe tbody tr th:only-of-type {\n",
       "        vertical-align: middle;\n",
       "    }\n",
       "\n",
       "    .dataframe tbody tr th {\n",
       "        vertical-align: top;\n",
       "    }\n",
       "\n",
       "    .dataframe thead th {\n",
       "        text-align: right;\n",
       "    }\n",
       "</style>\n",
       "<table border=\"1\" class=\"dataframe\">\n",
       "  <thead>\n",
       "    <tr style=\"text-align: right;\">\n",
       "      <th></th>\n",
       "      <th>Period</th>\n",
       "      <th>Frame</th>\n",
       "      <th>Time [s]</th>\n",
       "      <th>Home_Player11_X</th>\n",
       "      <th>Home_Player11_Y</th>\n",
       "      <th>Home_Player1_X</th>\n",
       "      <th>Home_Player1_Y</th>\n",
       "      <th>Home_Player2_X</th>\n",
       "      <th>Home_Player2_Y</th>\n",
       "      <th>Home_Player3_X</th>\n",
       "      <th>...</th>\n",
       "      <th>Distance_Home_Player5_to_Ball</th>\n",
       "      <th>Distance_Home_Player6_to_Ball</th>\n",
       "      <th>Distance_Home_Player7_to_Ball</th>\n",
       "      <th>Distance_Home_Player8_to_Ball</th>\n",
       "      <th>Distance_Home_Player9_to_Ball</th>\n",
       "      <th>Distance_Home_Player10_to_Ball</th>\n",
       "      <th>Distance_Home_Player11_to_Ball</th>\n",
       "      <th>Distance_Home_Player12_to_Ball</th>\n",
       "      <th>Distance_Home_Player13_to_Ball</th>\n",
       "      <th>Distance_Home_Player14_to_Ball</th>\n",
       "    </tr>\n",
       "  </thead>\n",
       "  <tbody>\n",
       "    <tr>\n",
       "      <th>0</th>\n",
       "      <td>1</td>\n",
       "      <td>1</td>\n",
       "      <td>0.04</td>\n",
       "      <td>0.00082</td>\n",
       "      <td>0.48238</td>\n",
       "      <td>0.32648</td>\n",
       "      <td>0.65322</td>\n",
       "      <td>0.33701</td>\n",
       "      <td>0.48863</td>\n",
       "      <td>0.30927</td>\n",
       "      <td>...</td>\n",
       "      <td>0.341617</td>\n",
       "      <td>0.098830</td>\n",
       "      <td>0.088441</td>\n",
       "      <td>0.175352</td>\n",
       "      <td>0.072617</td>\n",
       "      <td>0.107827</td>\n",
       "      <td>0.463795</td>\n",
       "      <td>NaN</td>\n",
       "      <td>NaN</td>\n",
       "      <td>NaN</td>\n",
       "    </tr>\n",
       "    <tr>\n",
       "      <th>1</th>\n",
       "      <td>1</td>\n",
       "      <td>2</td>\n",
       "      <td>0.08</td>\n",
       "      <td>0.00096</td>\n",
       "      <td>0.48238</td>\n",
       "      <td>0.32648</td>\n",
       "      <td>0.65322</td>\n",
       "      <td>0.33701</td>\n",
       "      <td>0.48863</td>\n",
       "      <td>0.30927</td>\n",
       "      <td>...</td>\n",
       "      <td>0.330581</td>\n",
       "      <td>0.107148</td>\n",
       "      <td>0.132807</td>\n",
       "      <td>0.199417</td>\n",
       "      <td>0.040590</td>\n",
       "      <td>0.061778</td>\n",
       "      <td>0.501257</td>\n",
       "      <td>NaN</td>\n",
       "      <td>NaN</td>\n",
       "      <td>NaN</td>\n",
       "    </tr>\n",
       "    <tr>\n",
       "      <th>2</th>\n",
       "      <td>1</td>\n",
       "      <td>3</td>\n",
       "      <td>0.12</td>\n",
       "      <td>0.00114</td>\n",
       "      <td>0.48238</td>\n",
       "      <td>0.32648</td>\n",
       "      <td>0.65322</td>\n",
       "      <td>0.33701</td>\n",
       "      <td>0.48863</td>\n",
       "      <td>0.30927</td>\n",
       "      <td>...</td>\n",
       "      <td>0.325775</td>\n",
       "      <td>0.131295</td>\n",
       "      <td>0.176923</td>\n",
       "      <td>0.229466</td>\n",
       "      <td>0.046881</td>\n",
       "      <td>0.016853</td>\n",
       "      <td>0.539023</td>\n",
       "      <td>NaN</td>\n",
       "      <td>NaN</td>\n",
       "      <td>NaN</td>\n",
       "    </tr>\n",
       "    <tr>\n",
       "      <th>3</th>\n",
       "      <td>1</td>\n",
       "      <td>4</td>\n",
       "      <td>0.16</td>\n",
       "      <td>0.00121</td>\n",
       "      <td>0.48238</td>\n",
       "      <td>0.32622</td>\n",
       "      <td>0.65317</td>\n",
       "      <td>0.33687</td>\n",
       "      <td>0.48988</td>\n",
       "      <td>0.30944</td>\n",
       "      <td>...</td>\n",
       "      <td>0.335267</td>\n",
       "      <td>0.147990</td>\n",
       "      <td>0.188744</td>\n",
       "      <td>0.234062</td>\n",
       "      <td>0.049654</td>\n",
       "      <td>0.010876</td>\n",
       "      <td>0.555507</td>\n",
       "      <td>NaN</td>\n",
       "      <td>NaN</td>\n",
       "      <td>NaN</td>\n",
       "    </tr>\n",
       "    <tr>\n",
       "      <th>4</th>\n",
       "      <td>1</td>\n",
       "      <td>5</td>\n",
       "      <td>0.20</td>\n",
       "      <td>0.00129</td>\n",
       "      <td>0.48238</td>\n",
       "      <td>0.32597</td>\n",
       "      <td>0.65269</td>\n",
       "      <td>0.33664</td>\n",
       "      <td>0.49018</td>\n",
       "      <td>0.30948</td>\n",
       "      <td>...</td>\n",
       "      <td>0.350554</td>\n",
       "      <td>0.156768</td>\n",
       "      <td>0.182844</td>\n",
       "      <td>0.220835</td>\n",
       "      <td>0.037884</td>\n",
       "      <td>0.027585</td>\n",
       "      <td>0.559113</td>\n",
       "      <td>NaN</td>\n",
       "      <td>NaN</td>\n",
       "      <td>NaN</td>\n",
       "    </tr>\n",
       "    <tr>\n",
       "      <th>...</th>\n",
       "      <td>...</td>\n",
       "      <td>...</td>\n",
       "      <td>...</td>\n",
       "      <td>...</td>\n",
       "      <td>...</td>\n",
       "      <td>...</td>\n",
       "      <td>...</td>\n",
       "      <td>...</td>\n",
       "      <td>...</td>\n",
       "      <td>...</td>\n",
       "      <td>...</td>\n",
       "      <td>...</td>\n",
       "      <td>...</td>\n",
       "      <td>...</td>\n",
       "      <td>...</td>\n",
       "      <td>...</td>\n",
       "      <td>...</td>\n",
       "      <td>...</td>\n",
       "      <td>...</td>\n",
       "      <td>...</td>\n",
       "      <td>...</td>\n",
       "    </tr>\n",
       "    <tr>\n",
       "      <th>145001</th>\n",
       "      <td>2</td>\n",
       "      <td>145002</td>\n",
       "      <td>5800.08</td>\n",
       "      <td>0.90614</td>\n",
       "      <td>0.45355</td>\n",
       "      <td>NaN</td>\n",
       "      <td>NaN</td>\n",
       "      <td>0.34157</td>\n",
       "      <td>0.64598</td>\n",
       "      <td>0.31228</td>\n",
       "      <td>...</td>\n",
       "      <td>NaN</td>\n",
       "      <td>NaN</td>\n",
       "      <td>NaN</td>\n",
       "      <td>NaN</td>\n",
       "      <td>NaN</td>\n",
       "      <td>NaN</td>\n",
       "      <td>NaN</td>\n",
       "      <td>NaN</td>\n",
       "      <td>NaN</td>\n",
       "      <td>NaN</td>\n",
       "    </tr>\n",
       "    <tr>\n",
       "      <th>145002</th>\n",
       "      <td>2</td>\n",
       "      <td>145003</td>\n",
       "      <td>5800.12</td>\n",
       "      <td>0.90550</td>\n",
       "      <td>0.45355</td>\n",
       "      <td>NaN</td>\n",
       "      <td>NaN</td>\n",
       "      <td>0.34127</td>\n",
       "      <td>0.64583</td>\n",
       "      <td>0.31230</td>\n",
       "      <td>...</td>\n",
       "      <td>NaN</td>\n",
       "      <td>NaN</td>\n",
       "      <td>NaN</td>\n",
       "      <td>NaN</td>\n",
       "      <td>NaN</td>\n",
       "      <td>NaN</td>\n",
       "      <td>NaN</td>\n",
       "      <td>NaN</td>\n",
       "      <td>NaN</td>\n",
       "      <td>NaN</td>\n",
       "    </tr>\n",
       "    <tr>\n",
       "      <th>145003</th>\n",
       "      <td>2</td>\n",
       "      <td>145004</td>\n",
       "      <td>5800.16</td>\n",
       "      <td>0.90492</td>\n",
       "      <td>0.45355</td>\n",
       "      <td>NaN</td>\n",
       "      <td>NaN</td>\n",
       "      <td>0.34089</td>\n",
       "      <td>0.64569</td>\n",
       "      <td>0.31214</td>\n",
       "      <td>...</td>\n",
       "      <td>NaN</td>\n",
       "      <td>NaN</td>\n",
       "      <td>NaN</td>\n",
       "      <td>NaN</td>\n",
       "      <td>NaN</td>\n",
       "      <td>NaN</td>\n",
       "      <td>NaN</td>\n",
       "      <td>NaN</td>\n",
       "      <td>NaN</td>\n",
       "      <td>NaN</td>\n",
       "    </tr>\n",
       "    <tr>\n",
       "      <th>145004</th>\n",
       "      <td>2</td>\n",
       "      <td>145005</td>\n",
       "      <td>5800.20</td>\n",
       "      <td>0.90456</td>\n",
       "      <td>0.45356</td>\n",
       "      <td>NaN</td>\n",
       "      <td>NaN</td>\n",
       "      <td>0.34056</td>\n",
       "      <td>0.64552</td>\n",
       "      <td>0.31171</td>\n",
       "      <td>...</td>\n",
       "      <td>NaN</td>\n",
       "      <td>NaN</td>\n",
       "      <td>NaN</td>\n",
       "      <td>NaN</td>\n",
       "      <td>NaN</td>\n",
       "      <td>NaN</td>\n",
       "      <td>NaN</td>\n",
       "      <td>NaN</td>\n",
       "      <td>NaN</td>\n",
       "      <td>NaN</td>\n",
       "    </tr>\n",
       "    <tr>\n",
       "      <th>145005</th>\n",
       "      <td>2</td>\n",
       "      <td>145006</td>\n",
       "      <td>5800.24</td>\n",
       "      <td>0.90456</td>\n",
       "      <td>0.45356</td>\n",
       "      <td>NaN</td>\n",
       "      <td>NaN</td>\n",
       "      <td>0.33996</td>\n",
       "      <td>0.64544</td>\n",
       "      <td>0.31122</td>\n",
       "      <td>...</td>\n",
       "      <td>NaN</td>\n",
       "      <td>NaN</td>\n",
       "      <td>NaN</td>\n",
       "      <td>NaN</td>\n",
       "      <td>NaN</td>\n",
       "      <td>NaN</td>\n",
       "      <td>NaN</td>\n",
       "      <td>NaN</td>\n",
       "      <td>NaN</td>\n",
       "      <td>NaN</td>\n",
       "    </tr>\n",
       "  </tbody>\n",
       "</table>\n",
       "<p>145006 rows × 47 columns</p>\n",
       "</div>"
      ],
      "text/plain": [
       "        Period   Frame  Time [s]  Home_Player11_X  Home_Player11_Y  \\\n",
       "0            1       1      0.04          0.00082          0.48238   \n",
       "1            1       2      0.08          0.00096          0.48238   \n",
       "2            1       3      0.12          0.00114          0.48238   \n",
       "3            1       4      0.16          0.00121          0.48238   \n",
       "4            1       5      0.20          0.00129          0.48238   \n",
       "...        ...     ...       ...              ...              ...   \n",
       "145001       2  145002   5800.08          0.90614          0.45355   \n",
       "145002       2  145003   5800.12          0.90550          0.45355   \n",
       "145003       2  145004   5800.16          0.90492          0.45355   \n",
       "145004       2  145005   5800.20          0.90456          0.45356   \n",
       "145005       2  145006   5800.24          0.90456          0.45356   \n",
       "\n",
       "        Home_Player1_X  Home_Player1_Y  Home_Player2_X  Home_Player2_Y  \\\n",
       "0              0.32648         0.65322         0.33701         0.48863   \n",
       "1              0.32648         0.65322         0.33701         0.48863   \n",
       "2              0.32648         0.65322         0.33701         0.48863   \n",
       "3              0.32622         0.65317         0.33687         0.48988   \n",
       "4              0.32597         0.65269         0.33664         0.49018   \n",
       "...                ...             ...             ...             ...   \n",
       "145001             NaN             NaN         0.34157         0.64598   \n",
       "145002             NaN             NaN         0.34127         0.64583   \n",
       "145003             NaN             NaN         0.34089         0.64569   \n",
       "145004             NaN             NaN         0.34056         0.64552   \n",
       "145005             NaN             NaN         0.33996         0.64544   \n",
       "\n",
       "        Home_Player3_X  ...  Distance_Home_Player5_to_Ball  \\\n",
       "0              0.30927  ...                       0.341617   \n",
       "1              0.30927  ...                       0.330581   \n",
       "2              0.30927  ...                       0.325775   \n",
       "3              0.30944  ...                       0.335267   \n",
       "4              0.30948  ...                       0.350554   \n",
       "...                ...  ...                            ...   \n",
       "145001         0.31228  ...                            NaN   \n",
       "145002         0.31230  ...                            NaN   \n",
       "145003         0.31214  ...                            NaN   \n",
       "145004         0.31171  ...                            NaN   \n",
       "145005         0.31122  ...                            NaN   \n",
       "\n",
       "        Distance_Home_Player6_to_Ball  Distance_Home_Player7_to_Ball  \\\n",
       "0                            0.098830                       0.088441   \n",
       "1                            0.107148                       0.132807   \n",
       "2                            0.131295                       0.176923   \n",
       "3                            0.147990                       0.188744   \n",
       "4                            0.156768                       0.182844   \n",
       "...                               ...                            ...   \n",
       "145001                            NaN                            NaN   \n",
       "145002                            NaN                            NaN   \n",
       "145003                            NaN                            NaN   \n",
       "145004                            NaN                            NaN   \n",
       "145005                            NaN                            NaN   \n",
       "\n",
       "        Distance_Home_Player8_to_Ball  Distance_Home_Player9_to_Ball  \\\n",
       "0                            0.175352                       0.072617   \n",
       "1                            0.199417                       0.040590   \n",
       "2                            0.229466                       0.046881   \n",
       "3                            0.234062                       0.049654   \n",
       "4                            0.220835                       0.037884   \n",
       "...                               ...                            ...   \n",
       "145001                            NaN                            NaN   \n",
       "145002                            NaN                            NaN   \n",
       "145003                            NaN                            NaN   \n",
       "145004                            NaN                            NaN   \n",
       "145005                            NaN                            NaN   \n",
       "\n",
       "        Distance_Home_Player10_to_Ball  Distance_Home_Player11_to_Ball  \\\n",
       "0                             0.107827                        0.463795   \n",
       "1                             0.061778                        0.501257   \n",
       "2                             0.016853                        0.539023   \n",
       "3                             0.010876                        0.555507   \n",
       "4                             0.027585                        0.559113   \n",
       "...                                ...                             ...   \n",
       "145001                             NaN                             NaN   \n",
       "145002                             NaN                             NaN   \n",
       "145003                             NaN                             NaN   \n",
       "145004                             NaN                             NaN   \n",
       "145005                             NaN                             NaN   \n",
       "\n",
       "        Distance_Home_Player12_to_Ball  Distance_Home_Player13_to_Ball  \\\n",
       "0                                  NaN                             NaN   \n",
       "1                                  NaN                             NaN   \n",
       "2                                  NaN                             NaN   \n",
       "3                                  NaN                             NaN   \n",
       "4                                  NaN                             NaN   \n",
       "...                                ...                             ...   \n",
       "145001                             NaN                             NaN   \n",
       "145002                             NaN                             NaN   \n",
       "145003                             NaN                             NaN   \n",
       "145004                             NaN                             NaN   \n",
       "145005                             NaN                             NaN   \n",
       "\n",
       "        Distance_Home_Player14_to_Ball  \n",
       "0                                  NaN  \n",
       "1                                  NaN  \n",
       "2                                  NaN  \n",
       "3                                  NaN  \n",
       "4                                  NaN  \n",
       "...                                ...  \n",
       "145001                             NaN  \n",
       "145002                             NaN  \n",
       "145003                             NaN  \n",
       "145004                             NaN  \n",
       "145005                             NaN  \n",
       "\n",
       "[145006 rows x 47 columns]"
      ]
     },
     "execution_count": 236,
     "metadata": {},
     "output_type": "execute_result"
    }
   ],
   "source": [
    "sample_game_1_home"
   ]
  },
  {
   "cell_type": "code",
   "execution_count": 294,
   "id": "dd1195a9",
   "metadata": {},
   "outputs": [
    {
     "data": {
      "text/plain": [
       "Distance_Home_Player1_to_Ball     0.287643\n",
       "Distance_Home_Player2_to_Ball     0.286674\n",
       "Distance_Home_Player3_to_Ball     0.290008\n",
       "Distance_Home_Player4_to_Ball     0.354657\n",
       "Distance_Home_Player5_to_Ball     0.291058\n",
       "Distance_Home_Player6_to_Ball     0.213512\n",
       "Distance_Home_Player7_to_Ball     0.302849\n",
       "Distance_Home_Player8_to_Ball     0.361035\n",
       "Distance_Home_Player9_to_Ball     0.282722\n",
       "Distance_Home_Player10_to_Ball    0.284319\n",
       "Distance_Home_Player11_to_Ball    0.461527\n",
       "Distance_Home_Player12_to_Ball    0.232609\n",
       "Distance_Home_Player13_to_Ball    0.328584\n",
       "Distance_Home_Player14_to_Ball    0.317940\n",
       "dtype: float64"
      ]
     },
     "execution_count": 294,
     "metadata": {},
     "output_type": "execute_result"
    }
   ],
   "source": [
    "home_distance_columns_to_search = ['Distance_Home_Player1_to_Ball',\n",
    "       'Distance_Home_Player2_to_Ball', 'Distance_Home_Player3_to_Ball',\n",
    "       'Distance_Home_Player4_to_Ball', 'Distance_Home_Player5_to_Ball',\n",
    "       'Distance_Home_Player6_to_Ball', 'Distance_Home_Player7_to_Ball',\n",
    "       'Distance_Home_Player8_to_Ball', 'Distance_Home_Player9_to_Ball',\n",
    "       'Distance_Home_Player10_to_Ball', 'Distance_Home_Player11_to_Ball',\n",
    "       'Distance_Home_Player12_to_Ball', 'Distance_Home_Player13_to_Ball',\n",
    "       'Distance_Home_Player14_to_Ball']\n",
    "home_distance_to_ball_avg_value = sample_game_1_home[home_distance_columns_to_search].mean()\n",
    "home_distance_to_ball_avg_value"
   ]
  },
  {
   "cell_type": "code",
   "execution_count": 302,
   "id": "a12d026f",
   "metadata": {},
   "outputs": [
    {
     "data": {
      "text/plain": [
       "<Axes: title={'center': 'Home Average Distance to Ball'}>"
      ]
     },
     "execution_count": 302,
     "metadata": {},
     "output_type": "execute_result"
    },
    {
     "data": {
      "image/png": "[encoded data removed]",
      "text/plain": [
       "<Figure size 640x480 with 1 Axes>"
      ]
     },
     "metadata": {},
     "output_type": "display_data"
    }
   ],
   "source": [
    "home_distance_to_ball_avg_value.sort_values().plot(kind='bar', title = \"Home Average Distance to Ball\")"
   ]
  },
  {
   "cell_type": "code",
   "execution_count": 271,
   "id": "f4e88757",
   "metadata": {},
   "outputs": [
    {
     "data": {
      "text/plain": [
       "Home_Player11_X    0.521574\n",
       "Home_Player11_Y    0.486946\n",
       "Home_Player1_X     0.441761\n",
       "Home_Player1_Y     0.748618\n",
       "Home_Player2_X     0.532584\n",
       "Home_Player2_Y     0.536854\n",
       "Home_Player3_X     0.538172\n",
       "Home_Player3_Y     0.534354\n",
       "Home_Player4_X     0.524515\n",
       "Home_Player4_Y     0.532428\n",
       "Home_Player5_X     0.541357\n",
       "Home_Player5_Y     0.559546\n",
       "Home_Player6_X     0.526451\n",
       "Home_Player6_Y     0.524862\n",
       "Home_Player7_X     0.544734\n",
       "Home_Player7_Y     0.440591\n",
       "Home_Player8_X     0.530261\n",
       "Home_Player8_Y     0.522876\n",
       "Home_Player9_X     0.529422\n",
       "Home_Player9_Y     0.578405\n",
       "Home_Player10_X    0.549970\n",
       "Home_Player10_Y    0.510561\n",
       "Home_Player12_X    0.550542\n",
       "Home_Player12_Y    0.537230\n",
       "Home_Player13_X    0.420618\n",
       "Home_Player13_Y    0.470764\n",
       "Home_Player14_X    0.491533\n",
       "Home_Player14_Y    0.268465\n",
       "Ball_X             0.551801\n",
       "Ball_Y             0.501049\n",
       "dtype: float64"
      ]
     },
     "execution_count": 271,
     "metadata": {},
     "output_type": "execute_result"
    }
   ],
   "source": [
    "columns_to_search = ['Home_Player11_X', 'Home_Player11_Y',\n",
    "       'Home_Player1_X', 'Home_Player1_Y', 'Home_Player2_X', 'Home_Player2_Y',\n",
    "       'Home_Player3_X', 'Home_Player3_Y', 'Home_Player4_X', 'Home_Player4_Y',\n",
    "       'Home_Player5_X', 'Home_Player5_Y', 'Home_Player6_X', 'Home_Player6_Y',\n",
    "       'Home_Player7_X', 'Home_Player7_Y', 'Home_Player8_X', 'Home_Player8_Y',\n",
    "       'Home_Player9_X', 'Home_Player9_Y', 'Home_Player10_X',\n",
    "       'Home_Player10_Y', 'Home_Player12_X', 'Home_Player12_Y',\n",
    "       'Home_Player13_X', 'Home_Player13_Y', 'Home_Player14_X',\n",
    "       'Home_Player14_Y', 'Ball_X', 'Ball_Y']\n",
    "home_positional_avg_value = sample_game_1_home[columns_to_search].mean()\n",
    "home_positional_avg_value"
   ]
  },
  {
   "cell_type": "code",
   "execution_count": 306,
   "id": "e649a96b",
   "metadata": {},
   "outputs": [
    {
     "data": {
      "text/plain": [
       "Home_Player11_X    0.521574\n",
       "Home_Player1_X     0.441761\n",
       "Home_Player2_X     0.532584\n",
       "Home_Player3_X     0.538172\n",
       "Home_Player4_X     0.524515\n",
       "Home_Player5_X     0.541357\n",
       "Home_Player6_X     0.526451\n",
       "Home_Player7_X     0.544734\n",
       "Home_Player8_X     0.530261\n",
       "Home_Player9_X     0.529422\n",
       "Home_Player10_X    0.549970\n",
       "Home_Player12_X    0.550542\n",
       "Home_Player13_X    0.420618\n",
       "Home_Player14_X    0.491533\n",
       "dtype: float64"
      ]
     },
     "execution_count": 306,
     "metadata": {},
     "output_type": "execute_result"
    }
   ],
   "source": [
    "x_home_positional_avg_value = home_positional_avg_value[['Home_Player11_X',\n",
    "       'Home_Player1_X', 'Home_Player2_X', 'Home_Player3_X', 'Home_Player4_X',\n",
    "       'Home_Player5_X', 'Home_Player6_X', 'Home_Player7_X', 'Home_Player8_X',\n",
    "       'Home_Player9_X', 'Home_Player10_X', 'Home_Player12_X', 'Home_Player13_X', \n",
    "       'Home_Player14_X']]\n",
    "x_home_positional_avg_value"
   ]
  },
  {
   "cell_type": "code",
   "execution_count": 307,
   "id": "57982e7c",
   "metadata": {},
   "outputs": [
    {
     "data": {
      "text/plain": [
       "Home_Player11_Y    0.486946\n",
       "Home_Player1_Y     0.748618\n",
       "Home_Player2_Y     0.536854\n",
       "Home_Player3_Y     0.534354\n",
       "Home_Player4_Y     0.532428\n",
       "Home_Player5_Y     0.559546\n",
       "Home_Player6_Y     0.524862\n",
       "Home_Player7_Y     0.440591\n",
       "Home_Player8_Y     0.522876\n",
       "Home_Player9_Y     0.578405\n",
       "Home_Player10_Y    0.510561\n",
       "Home_Player12_Y    0.537230\n",
       "Home_Player13_Y    0.470764\n",
       "Home_Player14_Y    0.268465\n",
       "dtype: float64"
      ]
     },
     "execution_count": 307,
     "metadata": {},
     "output_type": "execute_result"
    }
   ],
   "source": [
    "y_home_positional_avg_value = home_positional_avg_value[['Home_Player11_Y',\n",
    "       'Home_Player1_Y', 'Home_Player2_Y', 'Home_Player3_Y', 'Home_Player4_Y',\n",
    "       'Home_Player5_Y', 'Home_Player6_Y', 'Home_Player7_Y', 'Home_Player8_Y',\n",
    "       'Home_Player9_Y', 'Home_Player10_Y', 'Home_Player12_Y', 'Home_Player13_Y', \n",
    "       'Home_Player14_Y']]\n",
    "y_home_positional_avg_value"
   ]
  },
  {
   "cell_type": "markdown",
   "id": "b56ceb05",
   "metadata": {},
   "source": [
    "Away Dataset"
   ]
  },
  {
   "cell_type": "code",
   "execution_count": 293,
   "id": "4300b6d2",
   "metadata": {},
   "outputs": [
    {
     "data": {
      "text/plain": [
       "Index(['Period', 'Frame', 'Time [s]', 'Away_Player25_X', 'Away_Player25_Y',\n",
       "       'Away_Player15_X', 'Away_Player15_Y', 'Away_Player16_X',\n",
       "       'Away_Player16_Y', 'Away_Player17_X', 'Away_Player17_Y',\n",
       "       'Away_Player18_X', 'Away_Player18_Y', 'Away_Player19_X',\n",
       "       'Away_Player19_Y', 'Away_Player20_X', 'Away_Player20_Y',\n",
       "       'Away_Player21_X', 'Away_Player21_Y', 'Away_Player22_X',\n",
       "       'Away_Player22_Y', 'Away_Player23_X', 'Away_Player23_Y',\n",
       "       'Away_Player24_X', 'Away_Player24_Y', 'Away_Player26_X',\n",
       "       'Away_Player26_Y', 'Away_Player27_X', 'Away_Player27_Y',\n",
       "       'Away_Player28_X', 'Away_Player28_Y', 'Ball_X', 'Ball_Y'],\n",
       "      dtype='object')"
      ]
     },
     "execution_count": 293,
     "metadata": {},
     "output_type": "execute_result"
    }
   ],
   "source": [
    "sample_game_1_away.columns"
   ]
  },
  {
   "cell_type": "code",
   "execution_count": 297,
   "id": "bbdfee88",
   "metadata": {},
   "outputs": [],
   "source": [
    "for i in range(15, 29):  # Assuming players are numbered from 15 to 28\n",
    "    player_x_col = f'Away_Player{i}_X'\n",
    "    player_y_col = f'Away_Player{i}_Y'\n",
    "    distance_col = f'Distance_Away_Player{i}_to_Ball'\n",
    "    \n",
    "    # Calculate distance using Pythagorean theorem\n",
    "    sample_game_1_away[distance_col] = ((sample_game_1_away[player_x_col] - sample_game_1_away['Ball_X'])**2 + (sample_game_1_away[player_y_col] - sample_game_1_away['Ball_Y'])**2)**0.5"
   ]
  },
  {
   "cell_type": "code",
   "execution_count": 299,
   "id": "d49ecc37",
   "metadata": {},
   "outputs": [
    {
     "data": {
      "text/plain": [
       "Index(['Period', 'Frame', 'Time [s]', 'Away_Player25_X', 'Away_Player25_Y',\n",
       "       'Away_Player15_X', 'Away_Player15_Y', 'Away_Player16_X',\n",
       "       'Away_Player16_Y', 'Away_Player17_X', 'Away_Player17_Y',\n",
       "       'Away_Player18_X', 'Away_Player18_Y', 'Away_Player19_X',\n",
       "       'Away_Player19_Y', 'Away_Player20_X', 'Away_Player20_Y',\n",
       "       'Away_Player21_X', 'Away_Player21_Y', 'Away_Player22_X',\n",
       "       'Away_Player22_Y', 'Away_Player23_X', 'Away_Player23_Y',\n",
       "       'Away_Player24_X', 'Away_Player24_Y', 'Away_Player26_X',\n",
       "       'Away_Player26_Y', 'Away_Player27_X', 'Away_Player27_Y',\n",
       "       'Away_Player28_X', 'Away_Player28_Y', 'Ball_X', 'Ball_Y',\n",
       "       'Distance_Away_Player15_to_Ball', 'Distance_Away_Player16_to_Ball',\n",
       "       'Distance_Away_Player17_to_Ball', 'Distance_Away_Player18_to_Ball',\n",
       "       'Distance_Away_Player19_to_Ball', 'Distance_Away_Player20_to_Ball',\n",
       "       'Distance_Away_Player21_to_Ball', 'Distance_Away_Player22_to_Ball',\n",
       "       'Distance_Away_Player23_to_Ball', 'Distance_Away_Player24_to_Ball',\n",
       "       'Distance_Away_Player25_to_Ball', 'Distance_Away_Player26_to_Ball',\n",
       "       'Distance_Away_Player27_to_Ball', 'Distance_Away_Player28_to_Ball'],\n",
       "      dtype='object')"
      ]
     },
     "execution_count": 299,
     "metadata": {},
     "output_type": "execute_result"
    }
   ],
   "source": [
    "sample_game_1_away.columns"
   ]
  },
  {
   "cell_type": "code",
   "execution_count": 298,
   "id": "149f2e59",
   "metadata": {},
   "outputs": [
    {
     "data": {
      "text/html": [
       "<div>\n",
       "<style scoped>\n",
       "    .dataframe tbody tr th:only-of-type {\n",
       "        vertical-align: middle;\n",
       "    }\n",
       "\n",
       "    .dataframe tbody tr th {\n",
       "        vertical-align: top;\n",
       "    }\n",
       "\n",
       "    .dataframe thead th {\n",
       "        text-align: right;\n",
       "    }\n",
       "</style>\n",
       "<table border=\"1\" class=\"dataframe\">\n",
       "  <thead>\n",
       "    <tr style=\"text-align: right;\">\n",
       "      <th></th>\n",
       "      <th>Period</th>\n",
       "      <th>Frame</th>\n",
       "      <th>Time [s]</th>\n",
       "      <th>Away_Player25_X</th>\n",
       "      <th>Away_Player25_Y</th>\n",
       "      <th>Away_Player15_X</th>\n",
       "      <th>Away_Player15_Y</th>\n",
       "      <th>Away_Player16_X</th>\n",
       "      <th>Away_Player16_Y</th>\n",
       "      <th>Away_Player17_X</th>\n",
       "      <th>...</th>\n",
       "      <th>Distance_Away_Player19_to_Ball</th>\n",
       "      <th>Distance_Away_Player20_to_Ball</th>\n",
       "      <th>Distance_Away_Player21_to_Ball</th>\n",
       "      <th>Distance_Away_Player22_to_Ball</th>\n",
       "      <th>Distance_Away_Player23_to_Ball</th>\n",
       "      <th>Distance_Away_Player24_to_Ball</th>\n",
       "      <th>Distance_Away_Player25_to_Ball</th>\n",
       "      <th>Distance_Away_Player26_to_Ball</th>\n",
       "      <th>Distance_Away_Player27_to_Ball</th>\n",
       "      <th>Distance_Away_Player28_to_Ball</th>\n",
       "    </tr>\n",
       "  </thead>\n",
       "  <tbody>\n",
       "    <tr>\n",
       "      <th>0</th>\n",
       "      <td>1</td>\n",
       "      <td>1</td>\n",
       "      <td>0.04</td>\n",
       "      <td>0.90509</td>\n",
       "      <td>0.47462</td>\n",
       "      <td>0.58393</td>\n",
       "      <td>0.20794</td>\n",
       "      <td>0.67658</td>\n",
       "      <td>0.46710</td>\n",
       "      <td>0.67310</td>\n",
       "      <td>...</td>\n",
       "      <td>0.000000</td>\n",
       "      <td>0.309003</td>\n",
       "      <td>0.107827</td>\n",
       "      <td>0.558025</td>\n",
       "      <td>0.337539</td>\n",
       "      <td>0.136614</td>\n",
       "      <td>0.458797</td>\n",
       "      <td>NaN</td>\n",
       "      <td>NaN</td>\n",
       "      <td>NaN</td>\n",
       "    </tr>\n",
       "    <tr>\n",
       "      <th>1</th>\n",
       "      <td>1</td>\n",
       "      <td>2</td>\n",
       "      <td>0.08</td>\n",
       "      <td>0.90494</td>\n",
       "      <td>0.47462</td>\n",
       "      <td>0.58393</td>\n",
       "      <td>0.20794</td>\n",
       "      <td>0.67658</td>\n",
       "      <td>0.46710</td>\n",
       "      <td>0.67310</td>\n",
       "      <td>...</td>\n",
       "      <td>0.046049</td>\n",
       "      <td>0.278446</td>\n",
       "      <td>0.061778</td>\n",
       "      <td>0.536677</td>\n",
       "      <td>0.361474</td>\n",
       "      <td>0.177678</td>\n",
       "      <td>0.414121</td>\n",
       "      <td>NaN</td>\n",
       "      <td>NaN</td>\n",
       "      <td>NaN</td>\n",
       "    </tr>\n",
       "    <tr>\n",
       "      <th>2</th>\n",
       "      <td>1</td>\n",
       "      <td>3</td>\n",
       "      <td>0.12</td>\n",
       "      <td>0.90434</td>\n",
       "      <td>0.47463</td>\n",
       "      <td>0.58393</td>\n",
       "      <td>0.20794</td>\n",
       "      <td>0.67658</td>\n",
       "      <td>0.46710</td>\n",
       "      <td>0.67310</td>\n",
       "      <td>...</td>\n",
       "      <td>0.090974</td>\n",
       "      <td>0.253186</td>\n",
       "      <td>0.016853</td>\n",
       "      <td>0.518945</td>\n",
       "      <td>0.388685</td>\n",
       "      <td>0.219656</td>\n",
       "      <td>0.370444</td>\n",
       "      <td>NaN</td>\n",
       "      <td>NaN</td>\n",
       "      <td>NaN</td>\n",
       "    </tr>\n",
       "    <tr>\n",
       "      <th>3</th>\n",
       "      <td>1</td>\n",
       "      <td>4</td>\n",
       "      <td>0.16</td>\n",
       "      <td>0.90377</td>\n",
       "      <td>0.47463</td>\n",
       "      <td>0.58351</td>\n",
       "      <td>0.20868</td>\n",
       "      <td>0.67640</td>\n",
       "      <td>0.46762</td>\n",
       "      <td>0.67279</td>\n",
       "      <td>...</td>\n",
       "      <td>0.104642</td>\n",
       "      <td>0.255527</td>\n",
       "      <td>0.010876</td>\n",
       "      <td>0.524298</td>\n",
       "      <td>0.389905</td>\n",
       "      <td>0.229610</td>\n",
       "      <td>0.354196</td>\n",
       "      <td>NaN</td>\n",
       "      <td>NaN</td>\n",
       "      <td>NaN</td>\n",
       "    </tr>\n",
       "    <tr>\n",
       "      <th>4</th>\n",
       "      <td>1</td>\n",
       "      <td>5</td>\n",
       "      <td>0.20</td>\n",
       "      <td>0.90324</td>\n",
       "      <td>0.47464</td>\n",
       "      <td>0.58291</td>\n",
       "      <td>0.21039</td>\n",
       "      <td>0.67599</td>\n",
       "      <td>0.46769</td>\n",
       "      <td>0.67253</td>\n",
       "      <td>...</td>\n",
       "      <td>0.102534</td>\n",
       "      <td>0.272252</td>\n",
       "      <td>0.027585</td>\n",
       "      <td>0.541436</td>\n",
       "      <td>0.375398</td>\n",
       "      <td>0.220973</td>\n",
       "      <td>0.354881</td>\n",
       "      <td>NaN</td>\n",
       "      <td>NaN</td>\n",
       "      <td>NaN</td>\n",
       "    </tr>\n",
       "    <tr>\n",
       "      <th>...</th>\n",
       "      <td>...</td>\n",
       "      <td>...</td>\n",
       "      <td>...</td>\n",
       "      <td>...</td>\n",
       "      <td>...</td>\n",
       "      <td>...</td>\n",
       "      <td>...</td>\n",
       "      <td>...</td>\n",
       "      <td>...</td>\n",
       "      <td>...</td>\n",
       "      <td>...</td>\n",
       "      <td>...</td>\n",
       "      <td>...</td>\n",
       "      <td>...</td>\n",
       "      <td>...</td>\n",
       "      <td>...</td>\n",
       "      <td>...</td>\n",
       "      <td>...</td>\n",
       "      <td>...</td>\n",
       "      <td>...</td>\n",
       "      <td>...</td>\n",
       "    </tr>\n",
       "    <tr>\n",
       "      <th>145001</th>\n",
       "      <td>2</td>\n",
       "      <td>145002</td>\n",
       "      <td>5800.08</td>\n",
       "      <td>0.12564</td>\n",
       "      <td>0.55386</td>\n",
       "      <td>0.17876</td>\n",
       "      <td>0.56826</td>\n",
       "      <td>0.25818</td>\n",
       "      <td>0.59952</td>\n",
       "      <td>0.09880</td>\n",
       "      <td>...</td>\n",
       "      <td>NaN</td>\n",
       "      <td>NaN</td>\n",
       "      <td>NaN</td>\n",
       "      <td>NaN</td>\n",
       "      <td>NaN</td>\n",
       "      <td>NaN</td>\n",
       "      <td>NaN</td>\n",
       "      <td>NaN</td>\n",
       "      <td>NaN</td>\n",
       "      <td>NaN</td>\n",
       "    </tr>\n",
       "    <tr>\n",
       "      <th>145002</th>\n",
       "      <td>2</td>\n",
       "      <td>145003</td>\n",
       "      <td>5800.12</td>\n",
       "      <td>0.12564</td>\n",
       "      <td>0.55386</td>\n",
       "      <td>0.17838</td>\n",
       "      <td>0.56727</td>\n",
       "      <td>0.25799</td>\n",
       "      <td>0.59999</td>\n",
       "      <td>0.09880</td>\n",
       "      <td>...</td>\n",
       "      <td>NaN</td>\n",
       "      <td>NaN</td>\n",
       "      <td>NaN</td>\n",
       "      <td>NaN</td>\n",
       "      <td>NaN</td>\n",
       "      <td>NaN</td>\n",
       "      <td>NaN</td>\n",
       "      <td>NaN</td>\n",
       "      <td>NaN</td>\n",
       "      <td>NaN</td>\n",
       "    </tr>\n",
       "    <tr>\n",
       "      <th>145003</th>\n",
       "      <td>2</td>\n",
       "      <td>145004</td>\n",
       "      <td>5800.16</td>\n",
       "      <td>0.12564</td>\n",
       "      <td>0.55386</td>\n",
       "      <td>0.17792</td>\n",
       "      <td>0.56682</td>\n",
       "      <td>0.25757</td>\n",
       "      <td>0.60019</td>\n",
       "      <td>0.09880</td>\n",
       "      <td>...</td>\n",
       "      <td>NaN</td>\n",
       "      <td>NaN</td>\n",
       "      <td>NaN</td>\n",
       "      <td>NaN</td>\n",
       "      <td>NaN</td>\n",
       "      <td>NaN</td>\n",
       "      <td>NaN</td>\n",
       "      <td>NaN</td>\n",
       "      <td>NaN</td>\n",
       "      <td>NaN</td>\n",
       "    </tr>\n",
       "    <tr>\n",
       "      <th>145004</th>\n",
       "      <td>2</td>\n",
       "      <td>145005</td>\n",
       "      <td>5800.20</td>\n",
       "      <td>0.12564</td>\n",
       "      <td>0.55386</td>\n",
       "      <td>0.17730</td>\n",
       "      <td>0.56621</td>\n",
       "      <td>0.25721</td>\n",
       "      <td>0.60089</td>\n",
       "      <td>0.09880</td>\n",
       "      <td>...</td>\n",
       "      <td>NaN</td>\n",
       "      <td>NaN</td>\n",
       "      <td>NaN</td>\n",
       "      <td>NaN</td>\n",
       "      <td>NaN</td>\n",
       "      <td>NaN</td>\n",
       "      <td>NaN</td>\n",
       "      <td>NaN</td>\n",
       "      <td>NaN</td>\n",
       "      <td>NaN</td>\n",
       "    </tr>\n",
       "    <tr>\n",
       "      <th>145005</th>\n",
       "      <td>2</td>\n",
       "      <td>145006</td>\n",
       "      <td>5800.24</td>\n",
       "      <td>0.12564</td>\n",
       "      <td>0.55386</td>\n",
       "      <td>0.17693</td>\n",
       "      <td>0.56675</td>\n",
       "      <td>0.25659</td>\n",
       "      <td>0.60072</td>\n",
       "      <td>0.09880</td>\n",
       "      <td>...</td>\n",
       "      <td>NaN</td>\n",
       "      <td>NaN</td>\n",
       "      <td>NaN</td>\n",
       "      <td>NaN</td>\n",
       "      <td>NaN</td>\n",
       "      <td>NaN</td>\n",
       "      <td>NaN</td>\n",
       "      <td>NaN</td>\n",
       "      <td>NaN</td>\n",
       "      <td>NaN</td>\n",
       "    </tr>\n",
       "  </tbody>\n",
       "</table>\n",
       "<p>145006 rows × 47 columns</p>\n",
       "</div>"
      ],
      "text/plain": [
       "        Period   Frame  Time [s]  Away_Player25_X  Away_Player25_Y  \\\n",
       "0            1       1      0.04          0.90509          0.47462   \n",
       "1            1       2      0.08          0.90494          0.47462   \n",
       "2            1       3      0.12          0.90434          0.47463   \n",
       "3            1       4      0.16          0.90377          0.47463   \n",
       "4            1       5      0.20          0.90324          0.47464   \n",
       "...        ...     ...       ...              ...              ...   \n",
       "145001       2  145002   5800.08          0.12564          0.55386   \n",
       "145002       2  145003   5800.12          0.12564          0.55386   \n",
       "145003       2  145004   5800.16          0.12564          0.55386   \n",
       "145004       2  145005   5800.20          0.12564          0.55386   \n",
       "145005       2  145006   5800.24          0.12564          0.55386   \n",
       "\n",
       "        Away_Player15_X  Away_Player15_Y  Away_Player16_X  Away_Player16_Y  \\\n",
       "0               0.58393          0.20794          0.67658          0.46710   \n",
       "1               0.58393          0.20794          0.67658          0.46710   \n",
       "2               0.58393          0.20794          0.67658          0.46710   \n",
       "3               0.58351          0.20868          0.67640          0.46762   \n",
       "4               0.58291          0.21039          0.67599          0.46769   \n",
       "...                 ...              ...              ...              ...   \n",
       "145001          0.17876          0.56826          0.25818          0.59952   \n",
       "145002          0.17838          0.56727          0.25799          0.59999   \n",
       "145003          0.17792          0.56682          0.25757          0.60019   \n",
       "145004          0.17730          0.56621          0.25721          0.60089   \n",
       "145005          0.17693          0.56675          0.25659          0.60072   \n",
       "\n",
       "        Away_Player17_X  ...  Distance_Away_Player19_to_Ball  \\\n",
       "0               0.67310  ...                        0.000000   \n",
       "1               0.67310  ...                        0.046049   \n",
       "2               0.67310  ...                        0.090974   \n",
       "3               0.67279  ...                        0.104642   \n",
       "4               0.67253  ...                        0.102534   \n",
       "...                 ...  ...                             ...   \n",
       "145001          0.09880  ...                             NaN   \n",
       "145002          0.09880  ...                             NaN   \n",
       "145003          0.09880  ...                             NaN   \n",
       "145004          0.09880  ...                             NaN   \n",
       "145005          0.09880  ...                             NaN   \n",
       "\n",
       "        Distance_Away_Player20_to_Ball  Distance_Away_Player21_to_Ball  \\\n",
       "0                             0.309003                        0.107827   \n",
       "1                             0.278446                        0.061778   \n",
       "2                             0.253186                        0.016853   \n",
       "3                             0.255527                        0.010876   \n",
       "4                             0.272252                        0.027585   \n",
       "...                                ...                             ...   \n",
       "145001                             NaN                             NaN   \n",
       "145002                             NaN                             NaN   \n",
       "145003                             NaN                             NaN   \n",
       "145004                             NaN                             NaN   \n",
       "145005                             NaN                             NaN   \n",
       "\n",
       "        Distance_Away_Player22_to_Ball  Distance_Away_Player23_to_Ball  \\\n",
       "0                             0.558025                        0.337539   \n",
       "1                             0.536677                        0.361474   \n",
       "2                             0.518945                        0.388685   \n",
       "3                             0.524298                        0.389905   \n",
       "4                             0.541436                        0.375398   \n",
       "...                                ...                             ...   \n",
       "145001                             NaN                             NaN   \n",
       "145002                             NaN                             NaN   \n",
       "145003                             NaN                             NaN   \n",
       "145004                             NaN                             NaN   \n",
       "145005                             NaN                             NaN   \n",
       "\n",
       "        Distance_Away_Player24_to_Ball  Distance_Away_Player25_to_Ball  \\\n",
       "0                             0.136614                        0.458797   \n",
       "1                             0.177678                        0.414121   \n",
       "2                             0.219656                        0.370444   \n",
       "3                             0.229610                        0.354196   \n",
       "4                             0.220973                        0.354881   \n",
       "...                                ...                             ...   \n",
       "145001                             NaN                             NaN   \n",
       "145002                             NaN                             NaN   \n",
       "145003                             NaN                             NaN   \n",
       "145004                             NaN                             NaN   \n",
       "145005                             NaN                             NaN   \n",
       "\n",
       "        Distance_Away_Player26_to_Ball  Distance_Away_Player27_to_Ball  \\\n",
       "0                                  NaN                             NaN   \n",
       "1                                  NaN                             NaN   \n",
       "2                                  NaN                             NaN   \n",
       "3                                  NaN                             NaN   \n",
       "4                                  NaN                             NaN   \n",
       "...                                ...                             ...   \n",
       "145001                             NaN                             NaN   \n",
       "145002                             NaN                             NaN   \n",
       "145003                             NaN                             NaN   \n",
       "145004                             NaN                             NaN   \n",
       "145005                             NaN                             NaN   \n",
       "\n",
       "        Distance_Away_Player28_to_Ball  \n",
       "0                                  NaN  \n",
       "1                                  NaN  \n",
       "2                                  NaN  \n",
       "3                                  NaN  \n",
       "4                                  NaN  \n",
       "...                                ...  \n",
       "145001                             NaN  \n",
       "145002                             NaN  \n",
       "145003                             NaN  \n",
       "145004                             NaN  \n",
       "145005                             NaN  \n",
       "\n",
       "[145006 rows x 47 columns]"
      ]
     },
     "execution_count": 298,
     "metadata": {},
     "output_type": "execute_result"
    }
   ],
   "source": [
    "sample_game_1_away"
   ]
  },
  {
   "cell_type": "code",
   "execution_count": 300,
   "id": "ed62be47",
   "metadata": {},
   "outputs": [
    {
     "data": {
      "text/plain": [
       "Distance_Away_Player15_to_Ball    0.316623\n",
       "Distance_Away_Player16_to_Ball    0.276027\n",
       "Distance_Away_Player17_to_Ball    0.345434\n",
       "Distance_Away_Player18_to_Ball    0.307799\n",
       "Distance_Away_Player19_to_Ball    0.233852\n",
       "Distance_Away_Player20_to_Ball    0.263350\n",
       "Distance_Away_Player21_to_Ball    0.225647\n",
       "Distance_Away_Player22_to_Ball    0.341248\n",
       "Distance_Away_Player23_to_Ball    0.273526\n",
       "Distance_Away_Player24_to_Ball    0.276237\n",
       "Distance_Away_Player25_to_Ball    0.477586\n",
       "Distance_Away_Player26_to_Ball    0.278584\n",
       "Distance_Away_Player27_to_Ball    0.354057\n",
       "Distance_Away_Player28_to_Ball    0.260767\n",
       "dtype: float64"
      ]
     },
     "execution_count": 300,
     "metadata": {},
     "output_type": "execute_result"
    }
   ],
   "source": [
    "away_distance_columns_to_search = ['Distance_Away_Player15_to_Ball', 'Distance_Away_Player16_to_Ball',\n",
    "       'Distance_Away_Player17_to_Ball', 'Distance_Away_Player18_to_Ball',\n",
    "       'Distance_Away_Player19_to_Ball', 'Distance_Away_Player20_to_Ball',\n",
    "       'Distance_Away_Player21_to_Ball', 'Distance_Away_Player22_to_Ball',\n",
    "       'Distance_Away_Player23_to_Ball', 'Distance_Away_Player24_to_Ball',\n",
    "       'Distance_Away_Player25_to_Ball', 'Distance_Away_Player26_to_Ball',\n",
    "       'Distance_Away_Player27_to_Ball', 'Distance_Away_Player28_to_Ball']\n",
    "away_distance_to_ball_avg_value = sample_game_1_away[away_distance_columns_to_search].mean()\n",
    "away_distance_to_ball_avg_value"
   ]
  },
  {
   "cell_type": "code",
   "execution_count": 303,
   "id": "bc00a974",
   "metadata": {},
   "outputs": [
    {
     "data": {
      "text/plain": [
       "<Axes: title={'center': 'Away Average Distance to Ball'}>"
      ]
     },
     "execution_count": 303,
     "metadata": {},
     "output_type": "execute_result"
    },
    {
     "data": {
      "image/png": "[encoded data removed]",
      "text/plain": [
       "<Figure size 640x480 with 1 Axes>"
      ]
     },
     "metadata": {},
     "output_type": "display_data"
    }
   ],
   "source": [
    "away_distance_to_ball_avg_value.sort_values().plot(kind='bar', title = \"Away Average Distance to Ball\")"
   ]
  },
  {
   "cell_type": "code",
   "execution_count": 304,
   "id": "148896e7",
   "metadata": {},
   "outputs": [
    {
     "data": {
      "text/plain": [
       "Away_Player25_X    0.498573\n",
       "Away_Player25_Y    0.499492\n",
       "Away_Player15_X    0.530123\n",
       "Away_Player15_Y    0.518690\n",
       "Away_Player16_X    0.526271\n",
       "Away_Player16_Y    0.528137\n",
       "Away_Player17_X    0.565929\n",
       "Away_Player17_Y    0.712962\n",
       "Away_Player18_X    0.550577\n",
       "Away_Player18_Y    0.437823\n",
       "Away_Player19_X    0.539560\n",
       "Away_Player19_Y    0.521667\n",
       "Away_Player20_X    0.506266\n",
       "Away_Player20_Y    0.456227\n",
       "Away_Player21_X    0.497185\n",
       "Away_Player21_Y    0.556918\n",
       "Away_Player22_X    0.543534\n",
       "Away_Player22_Y    0.609951\n",
       "Away_Player23_X    0.534512\n",
       "Away_Player23_Y    0.513512\n",
       "Away_Player24_X    0.496027\n",
       "Away_Player24_Y    0.509962\n",
       "Away_Player26_X    0.633285\n",
       "Away_Player26_Y    0.501591\n",
       "Away_Player27_X    0.527955\n",
       "Away_Player27_Y    0.239937\n",
       "Away_Player28_X    0.515339\n",
       "Away_Player28_Y    0.460045\n",
       "Ball_X             0.551801\n",
       "Ball_Y             0.501049\n",
       "dtype: float64"
      ]
     },
     "execution_count": 304,
     "metadata": {},
     "output_type": "execute_result"
    }
   ],
   "source": [
    "columns_to_search = ['Away_Player25_X', 'Away_Player25_Y',\n",
    "       'Away_Player15_X', 'Away_Player15_Y', 'Away_Player16_X',\n",
    "       'Away_Player16_Y', 'Away_Player17_X', 'Away_Player17_Y',\n",
    "       'Away_Player18_X', 'Away_Player18_Y', 'Away_Player19_X',\n",
    "       'Away_Player19_Y', 'Away_Player20_X', 'Away_Player20_Y',\n",
    "       'Away_Player21_X', 'Away_Player21_Y', 'Away_Player22_X',\n",
    "       'Away_Player22_Y', 'Away_Player23_X', 'Away_Player23_Y',\n",
    "       'Away_Player24_X', 'Away_Player24_Y', 'Away_Player26_X',\n",
    "       'Away_Player26_Y', 'Away_Player27_X', 'Away_Player27_Y',\n",
    "       'Away_Player28_X', 'Away_Player28_Y', 'Ball_X', 'Ball_Y']\n",
    "away_positional_avg_value = sample_game_1_away[columns_to_search].mean()\n",
    "away_positional_avg_value"
   ]
  },
  {
   "cell_type": "code",
   "execution_count": 308,
   "id": "772ff798",
   "metadata": {},
   "outputs": [
    {
     "data": {
      "text/plain": [
       "Away_Player25_X    0.498573\n",
       "Away_Player15_X    0.530123\n",
       "Away_Player16_X    0.526271\n",
       "Away_Player17_X    0.565929\n",
       "Away_Player18_X    0.550577\n",
       "Away_Player19_X    0.539560\n",
       "Away_Player20_X    0.506266\n",
       "Away_Player21_X    0.497185\n",
       "Away_Player22_X    0.543534\n",
       "Away_Player23_X    0.534512\n",
       "Away_Player24_X    0.496027\n",
       "Away_Player26_X    0.633285\n",
       "Away_Player27_X    0.527955\n",
       "Away_Player28_X    0.515339\n",
       "dtype: float64"
      ]
     },
     "execution_count": 308,
     "metadata": {},
     "output_type": "execute_result"
    }
   ],
   "source": [
    "x_away_positional_avg_value = away_positional_avg_value[['Away_Player25_X',\n",
    "       'Away_Player15_X', 'Away_Player16_X', 'Away_Player17_X', 'Away_Player18_X', \n",
    "       'Away_Player19_X', 'Away_Player20_X', 'Away_Player21_X', 'Away_Player22_X',\n",
    "       'Away_Player23_X', 'Away_Player24_X', 'Away_Player26_X', 'Away_Player27_X',\n",
    "       'Away_Player28_X']]\n",
    "x_away_positional_avg_value"
   ]
  },
  {
   "cell_type": "code",
   "execution_count": 309,
   "id": "8e903b09",
   "metadata": {},
   "outputs": [
    {
     "data": {
      "text/plain": [
       "Away_Player25_Y    0.499492\n",
       "Away_Player15_Y    0.518690\n",
       "Away_Player16_Y    0.528137\n",
       "Away_Player17_Y    0.712962\n",
       "Away_Player18_Y    0.437823\n",
       "Away_Player19_Y    0.521667\n",
       "Away_Player20_Y    0.456227\n",
       "Away_Player21_Y    0.556918\n",
       "Away_Player22_Y    0.609951\n",
       "Away_Player23_Y    0.513512\n",
       "Away_Player24_Y    0.509962\n",
       "Away_Player26_Y    0.501591\n",
       "Away_Player27_Y    0.239937\n",
       "Away_Player28_Y    0.460045\n",
       "dtype: float64"
      ]
     },
     "execution_count": 309,
     "metadata": {},
     "output_type": "execute_result"
    }
   ],
   "source": [
    "y_away_positional_avg_value = away_positional_avg_value[['Away_Player25_Y',\n",
    "       'Away_Player15_Y', 'Away_Player16_Y', 'Away_Player17_Y', 'Away_Player18_Y', \n",
    "       'Away_Player19_Y', 'Away_Player20_Y', 'Away_Player21_Y', 'Away_Player22_Y',\n",
    "       'Away_Player23_Y', 'Away_Player24_Y', 'Away_Player26_Y', 'Away_Player27_Y',\n",
    "       'Away_Player28_Y']]\n",
    "y_away_positional_avg_value"
   ]
  },
  {
   "cell_type": "markdown",
   "id": "9ebe8196",
   "metadata": {},
   "source": [
    "Graph"
   ]
  },
  {
   "cell_type": "code",
   "execution_count": 315,
   "id": "b2dddc42",
   "metadata": {},
   "outputs": [
    {
     "data": {
      "image/png": "[encoded data removed]",
      "text/plain": [
       "<Figure size 640x480 with 1 Axes>"
      ]
     },
     "metadata": {},
     "output_type": "display_data"
    }
   ],
   "source": [
    "home_colors = ['#1f78b4', '#36a2c5', '#5eaed5', '#91c5da', '#b3dfe5',\n",
    "          '#4393c3', '#6bafd6', '#3a6c9c', '#3d6f9f', '#3f7db1',\n",
    "          '#1f3a4d', '#416d90', '#65849d', '#8a9cb5']\n",
    "away_colors = ['#d73027', '#f46d43', '#fdae61', '#fee08b', '#d73027',\n",
    "              '#f46d43', '#fdae61', '#fee08b', '#d73027', '#f46d43',\n",
    "              '#fdae61', '#fee08b', '#d73027', '#f46d43']\n",
    "plt.scatter(x_home_positional_avg_value, y_home_positional_avg_value, color = \"red\", label = \"Home Player Positions\")\n",
    "plt.scatter(x_away_positional_avg_value, y_away_positional_avg_value, color = \"blue\", label = \"Away Player Positions\")\n",
    "plt.scatter(home_positional_avg_value[\"Ball_X\"], home_positional_avg_value[\"Ball_Y\"], color = 'yellow', edgecolor = 'black', label = \"Ball Position\")\n",
    "plt.title(\"Average Field Position per Player\")\n",
    "plt.xlim(0,1)\n",
    "plt.ylim(0,1)\n",
    "plt.axvline(x=0.5, color='gray', linestyle='--', linewidth = 0.25)\n",
    "plt.axhline(y=0.5, color='gray', linestyle='--', linewidth = 0.25)\n",
    "plt.legend()\n",
    "plt.show()"
   ]
  }
 ],
 "metadata": {
  "kernelspec": {
   "display_name": "Python 3 (ipykernel)",
   "language": "python",
   "name": "python3"
  },
  "language_info": {
   "codemirror_mode": {
    "name": "ipython",
    "version": 3
   },
   "file_extension": ".py",
   "mimetype": "text/x-python",
   "name": "python",
   "nbconvert_exporter": "python",
   "pygments_lexer": "ipython3",
   "version": "3.11.5"
  }
 },
 "nbformat": 4,
 "nbformat_minor": 5
}
